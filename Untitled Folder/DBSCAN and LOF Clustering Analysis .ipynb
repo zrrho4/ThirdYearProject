{
 "cells": [
  {
   "cell_type": "code",
   "execution_count": 1,
   "id": "425f2732",
   "metadata": {},
   "outputs": [],
   "source": [
    "import pandas as pd \n",
    "import numpy as np \n",
    "import matplotlib.pyplot as plt\n",
    "import seaborn as sns \n",
    "import sklearn \n",
    "from datetime import datetime\n",
    "sns.set(rc = {'figure.figsize':(12,6)})"
   ]
  },
  {
   "cell_type": "code",
   "execution_count": 2,
   "id": "fbfcc760",
   "metadata": {},
   "outputs": [],
   "source": [
    "df= pd.read_csv('final_ds.csv')"
   ]
  },
  {
   "cell_type": "code",
   "execution_count": 3,
   "id": "a709a3dc",
   "metadata": {},
   "outputs": [],
   "source": [
    "df.dropna(axis=0, inplace=True)"
   ]
  },
  {
   "cell_type": "code",
   "execution_count": 4,
   "id": "d08b86ab",
   "metadata": {},
   "outputs": [],
   "source": [
    "#sns.pairplot(data=df_st.drop('TimeOMS',axis=1), hue='HourofDay')\n",
    "def dt(dtstring): \n",
    "    x=datetime.strptime(dtstring, '%Y-%m-%d %H:%M:%S')\n",
    "    return x\n",
    "df.dtypes\n",
    "df['TimeOMS']=df['TimeOMS'].apply(lambda stringdate: dt(stringdate))\n",
    "df['TS']= df['TimeOMS'].apply(lambda x: x.timestamp())"
   ]
  },
  {
   "cell_type": "code",
   "execution_count": 5,
   "id": "96105411",
   "metadata": {},
   "outputs": [
    {
     "data": {
      "text/html": [
       "<div>\n",
       "<style scoped>\n",
       "    .dataframe tbody tr th:only-of-type {\n",
       "        vertical-align: middle;\n",
       "    }\n",
       "\n",
       "    .dataframe tbody tr th {\n",
       "        vertical-align: top;\n",
       "    }\n",
       "\n",
       "    .dataframe thead th {\n",
       "        text-align: right;\n",
       "    }\n",
       "</style>\n",
       "<table border=\"1\" class=\"dataframe\">\n",
       "  <thead>\n",
       "    <tr style=\"text-align: right;\">\n",
       "      <th></th>\n",
       "      <th>TimeOMS</th>\n",
       "      <th>ValueOMS</th>\n",
       "      <th>ValueOOS</th>\n",
       "      <th>ValueRT</th>\n",
       "      <th>ValueST</th>\n",
       "      <th>ValueOAT</th>\n",
       "      <th>AnomalousST</th>\n",
       "      <th>STDeviation</th>\n",
       "      <th>AnomalousOAT</th>\n",
       "      <th>OATDeviation</th>\n",
       "      <th>ValueOAH</th>\n",
       "      <th>HourofDay</th>\n",
       "      <th>Month</th>\n",
       "      <th>Year</th>\n",
       "      <th>DayofWeek</th>\n",
       "      <th>Season</th>\n",
       "      <th>TS</th>\n",
       "    </tr>\n",
       "  </thead>\n",
       "  <tbody>\n",
       "    <tr>\n",
       "      <th>0</th>\n",
       "      <td>2017-12-08 16:00:52</td>\n",
       "      <td>2.0</td>\n",
       "      <td>1.0</td>\n",
       "      <td>24.5</td>\n",
       "      <td>26.0</td>\n",
       "      <td>15.1</td>\n",
       "      <td>1.0</td>\n",
       "      <td>-1.5</td>\n",
       "      <td>0.0</td>\n",
       "      <td>9.4</td>\n",
       "      <td>62.895</td>\n",
       "      <td>16.0</td>\n",
       "      <td>12.0</td>\n",
       "      <td>2017.0</td>\n",
       "      <td>4.0</td>\n",
       "      <td>4</td>\n",
       "      <td>1.512749e+09</td>\n",
       "    </tr>\n",
       "    <tr>\n",
       "      <th>1</th>\n",
       "      <td>2017-12-08 16:10:52</td>\n",
       "      <td>2.0</td>\n",
       "      <td>1.0</td>\n",
       "      <td>24.5</td>\n",
       "      <td>26.0</td>\n",
       "      <td>15.6</td>\n",
       "      <td>1.0</td>\n",
       "      <td>-1.5</td>\n",
       "      <td>0.0</td>\n",
       "      <td>8.9</td>\n",
       "      <td>62.895</td>\n",
       "      <td>16.0</td>\n",
       "      <td>12.0</td>\n",
       "      <td>2017.0</td>\n",
       "      <td>4.0</td>\n",
       "      <td>4</td>\n",
       "      <td>1.512749e+09</td>\n",
       "    </tr>\n",
       "    <tr>\n",
       "      <th>2</th>\n",
       "      <td>2017-12-11 10:40:52</td>\n",
       "      <td>2.0</td>\n",
       "      <td>1.0</td>\n",
       "      <td>20.0</td>\n",
       "      <td>25.0</td>\n",
       "      <td>14.6</td>\n",
       "      <td>1.0</td>\n",
       "      <td>-5.0</td>\n",
       "      <td>0.0</td>\n",
       "      <td>5.4</td>\n",
       "      <td>55.420</td>\n",
       "      <td>10.0</td>\n",
       "      <td>12.0</td>\n",
       "      <td>2017.0</td>\n",
       "      <td>0.0</td>\n",
       "      <td>4</td>\n",
       "      <td>1.512989e+09</td>\n",
       "    </tr>\n",
       "    <tr>\n",
       "      <th>3</th>\n",
       "      <td>2017-12-11 10:50:52</td>\n",
       "      <td>2.0</td>\n",
       "      <td>1.0</td>\n",
       "      <td>20.5</td>\n",
       "      <td>25.0</td>\n",
       "      <td>14.6</td>\n",
       "      <td>1.0</td>\n",
       "      <td>-4.5</td>\n",
       "      <td>0.0</td>\n",
       "      <td>5.9</td>\n",
       "      <td>56.460</td>\n",
       "      <td>10.0</td>\n",
       "      <td>12.0</td>\n",
       "      <td>2017.0</td>\n",
       "      <td>0.0</td>\n",
       "      <td>4</td>\n",
       "      <td>1.512989e+09</td>\n",
       "    </tr>\n",
       "    <tr>\n",
       "      <th>4</th>\n",
       "      <td>2017-12-11 11:00:52</td>\n",
       "      <td>2.0</td>\n",
       "      <td>1.0</td>\n",
       "      <td>21.0</td>\n",
       "      <td>25.0</td>\n",
       "      <td>14.6</td>\n",
       "      <td>1.0</td>\n",
       "      <td>-4.0</td>\n",
       "      <td>0.0</td>\n",
       "      <td>6.4</td>\n",
       "      <td>56.460</td>\n",
       "      <td>11.0</td>\n",
       "      <td>12.0</td>\n",
       "      <td>2017.0</td>\n",
       "      <td>0.0</td>\n",
       "      <td>4</td>\n",
       "      <td>1.512990e+09</td>\n",
       "    </tr>\n",
       "  </tbody>\n",
       "</table>\n",
       "</div>"
      ],
      "text/plain": [
       "              TimeOMS  ValueOMS  ValueOOS  ValueRT  ValueST  ValueOAT  \\\n",
       "0 2017-12-08 16:00:52       2.0       1.0     24.5     26.0      15.1   \n",
       "1 2017-12-08 16:10:52       2.0       1.0     24.5     26.0      15.6   \n",
       "2 2017-12-11 10:40:52       2.0       1.0     20.0     25.0      14.6   \n",
       "3 2017-12-11 10:50:52       2.0       1.0     20.5     25.0      14.6   \n",
       "4 2017-12-11 11:00:52       2.0       1.0     21.0     25.0      14.6   \n",
       "\n",
       "   AnomalousST  STDeviation  AnomalousOAT  OATDeviation  ValueOAH  HourofDay  \\\n",
       "0          1.0         -1.5           0.0           9.4    62.895       16.0   \n",
       "1          1.0         -1.5           0.0           8.9    62.895       16.0   \n",
       "2          1.0         -5.0           0.0           5.4    55.420       10.0   \n",
       "3          1.0         -4.5           0.0           5.9    56.460       10.0   \n",
       "4          1.0         -4.0           0.0           6.4    56.460       11.0   \n",
       "\n",
       "   Month    Year  DayofWeek  Season            TS  \n",
       "0   12.0  2017.0        4.0       4  1.512749e+09  \n",
       "1   12.0  2017.0        4.0       4  1.512749e+09  \n",
       "2   12.0  2017.0        0.0       4  1.512989e+09  \n",
       "3   12.0  2017.0        0.0       4  1.512989e+09  \n",
       "4   12.0  2017.0        0.0       4  1.512990e+09  "
      ]
     },
     "execution_count": 5,
     "metadata": {},
     "output_type": "execute_result"
    }
   ],
   "source": [
    "df.head()"
   ]
  },
  {
   "cell_type": "code",
   "execution_count": 6,
   "id": "12b5f478",
   "metadata": {},
   "outputs": [],
   "source": [
    "df1=df.drop(['TimeOMS','ValueOOS','AnomalousST','AnomalousOAT', 'Month', 'Year','DayofWeek'],axis=1)"
   ]
  },
  {
   "cell_type": "code",
   "execution_count": 7,
   "id": "514feb81",
   "metadata": {},
   "outputs": [],
   "source": [
    "from numpy import unique\n",
    "from numpy import where\n",
    "from sklearn.datasets import make_classification\n",
    "from sklearn.cluster import KMeans\n",
    "from matplotlib import pyplot\n",
    "from sklearn.preprocessing import StandardScaler\n",
    "from sklearn import metrics \n",
    "from sklearn.metrics import davies_bouldin_score\n"
   ]
  },
  {
   "cell_type": "markdown",
   "id": "34f596ee",
   "metadata": {},
   "source": [
    "# DBSCAN"
   ]
  },
  {
   "cell_type": "markdown",
   "id": "36df2b99",
   "metadata": {},
   "source": [
    "### Finding optimum epsilon"
   ]
  },
  {
   "cell_type": "code",
   "execution_count": 8,
   "id": "b954067f",
   "metadata": {},
   "outputs": [],
   "source": [
    "from sklearn.neighbors import NearestNeighbors\n",
    "from matplotlib import pyplot as plt"
   ]
  },
  {
   "cell_type": "code",
   "execution_count": 9,
   "id": "7bda2da5",
   "metadata": {},
   "outputs": [],
   "source": [
    "X_d=df1\n",
    "#.drop(['TimeOMS','Month', 'DayofWeek','AnomalousST','AnomalousOAT','ValueOOS', 'Year','Season'],axis=1)\n",
    "scaler1= StandardScaler()\n",
    "scaler1=scaler1.fit(X_d)\n",
    "X_db=scaler1.transform(X_d)"
   ]
  },
  {
   "cell_type": "code",
   "execution_count": 10,
   "id": "a432cbe1",
   "metadata": {},
   "outputs": [
    {
     "data": {
      "text/html": [
       "<div>\n",
       "<style scoped>\n",
       "    .dataframe tbody tr th:only-of-type {\n",
       "        vertical-align: middle;\n",
       "    }\n",
       "\n",
       "    .dataframe tbody tr th {\n",
       "        vertical-align: top;\n",
       "    }\n",
       "\n",
       "    .dataframe thead th {\n",
       "        text-align: right;\n",
       "    }\n",
       "</style>\n",
       "<table border=\"1\" class=\"dataframe\">\n",
       "  <thead>\n",
       "    <tr style=\"text-align: right;\">\n",
       "      <th></th>\n",
       "      <th>ValueOMS</th>\n",
       "      <th>ValueRT</th>\n",
       "      <th>ValueST</th>\n",
       "      <th>ValueOAT</th>\n",
       "      <th>STDeviation</th>\n",
       "      <th>OATDeviation</th>\n",
       "      <th>ValueOAH</th>\n",
       "      <th>HourofDay</th>\n",
       "      <th>Season</th>\n",
       "      <th>TS</th>\n",
       "    </tr>\n",
       "  </thead>\n",
       "  <tbody>\n",
       "    <tr>\n",
       "      <th>0</th>\n",
       "      <td>2.0</td>\n",
       "      <td>24.5</td>\n",
       "      <td>26.0</td>\n",
       "      <td>15.1</td>\n",
       "      <td>-1.5</td>\n",
       "      <td>9.4</td>\n",
       "      <td>62.895</td>\n",
       "      <td>16.0</td>\n",
       "      <td>4</td>\n",
       "      <td>1.512749e+09</td>\n",
       "    </tr>\n",
       "    <tr>\n",
       "      <th>1</th>\n",
       "      <td>2.0</td>\n",
       "      <td>24.5</td>\n",
       "      <td>26.0</td>\n",
       "      <td>15.6</td>\n",
       "      <td>-1.5</td>\n",
       "      <td>8.9</td>\n",
       "      <td>62.895</td>\n",
       "      <td>16.0</td>\n",
       "      <td>4</td>\n",
       "      <td>1.512749e+09</td>\n",
       "    </tr>\n",
       "    <tr>\n",
       "      <th>2</th>\n",
       "      <td>2.0</td>\n",
       "      <td>20.0</td>\n",
       "      <td>25.0</td>\n",
       "      <td>14.6</td>\n",
       "      <td>-5.0</td>\n",
       "      <td>5.4</td>\n",
       "      <td>55.420</td>\n",
       "      <td>10.0</td>\n",
       "      <td>4</td>\n",
       "      <td>1.512989e+09</td>\n",
       "    </tr>\n",
       "    <tr>\n",
       "      <th>3</th>\n",
       "      <td>2.0</td>\n",
       "      <td>20.5</td>\n",
       "      <td>25.0</td>\n",
       "      <td>14.6</td>\n",
       "      <td>-4.5</td>\n",
       "      <td>5.9</td>\n",
       "      <td>56.460</td>\n",
       "      <td>10.0</td>\n",
       "      <td>4</td>\n",
       "      <td>1.512989e+09</td>\n",
       "    </tr>\n",
       "    <tr>\n",
       "      <th>4</th>\n",
       "      <td>2.0</td>\n",
       "      <td>21.0</td>\n",
       "      <td>25.0</td>\n",
       "      <td>14.6</td>\n",
       "      <td>-4.0</td>\n",
       "      <td>6.4</td>\n",
       "      <td>56.460</td>\n",
       "      <td>11.0</td>\n",
       "      <td>4</td>\n",
       "      <td>1.512990e+09</td>\n",
       "    </tr>\n",
       "  </tbody>\n",
       "</table>\n",
       "</div>"
      ],
      "text/plain": [
       "   ValueOMS  ValueRT  ValueST  ValueOAT  STDeviation  OATDeviation  ValueOAH  \\\n",
       "0       2.0     24.5     26.0      15.1         -1.5           9.4    62.895   \n",
       "1       2.0     24.5     26.0      15.6         -1.5           8.9    62.895   \n",
       "2       2.0     20.0     25.0      14.6         -5.0           5.4    55.420   \n",
       "3       2.0     20.5     25.0      14.6         -4.5           5.9    56.460   \n",
       "4       2.0     21.0     25.0      14.6         -4.0           6.4    56.460   \n",
       "\n",
       "   HourofDay  Season            TS  \n",
       "0       16.0       4  1.512749e+09  \n",
       "1       16.0       4  1.512749e+09  \n",
       "2       10.0       4  1.512989e+09  \n",
       "3       10.0       4  1.512989e+09  \n",
       "4       11.0       4  1.512990e+09  "
      ]
     },
     "execution_count": 10,
     "metadata": {},
     "output_type": "execute_result"
    }
   ],
   "source": [
    "X_d.head()"
   ]
  },
  {
   "cell_type": "code",
   "execution_count": 11,
   "id": "147c2a3d",
   "metadata": {},
   "outputs": [
    {
     "data": {
      "text/plain": [
       "array([[ 0.9045017 , -0.66065818,  0.11533939, ...,  0.36097952,\n",
       "         1.05412883, -2.53077938],\n",
       "       [ 0.9045017 , -0.66065818,  0.11533939, ...,  0.36097952,\n",
       "         1.05412883, -2.53074308],\n",
       "       [ 0.9045017 , -3.15947302, -0.26147226, ..., -1.05291601,\n",
       "         1.05412883, -2.51626061],\n",
       "       ...,\n",
       "       [ 0.9045017 , -0.10536599,  0.30374522, ...,  1.5392258 ,\n",
       "         1.05412883,  1.67266692],\n",
       "       [ 0.9045017 , -0.38301208,  0.30374522, ...,  1.5392258 ,\n",
       "         1.05412883,  1.67270322],\n",
       "       [ 0.9045017 , -0.10536599,  0.30374522, ...,  1.5392258 ,\n",
       "         1.05412883,  1.67273952]])"
      ]
     },
     "execution_count": 11,
     "metadata": {},
     "output_type": "execute_result"
    }
   ],
   "source": [
    "X_db"
   ]
  },
  {
   "cell_type": "code",
   "execution_count": null,
   "id": "72eea65e",
   "metadata": {},
   "outputs": [],
   "source": []
  },
  {
   "cell_type": "code",
   "execution_count": 12,
   "id": "5637bdfd",
   "metadata": {},
   "outputs": [],
   "source": [
    "neighbors= NearestNeighbors(n_neighbors=20, algorithm='kd_tree')\n",
    "neighbors_fit= neighbors.fit(X_db)\n",
    "distances, indices =neighbors_fit.kneighbors(X_db)\n"
   ]
  },
  {
   "cell_type": "code",
   "execution_count": 13,
   "id": "97e5fe1f",
   "metadata": {},
   "outputs": [
    {
     "data": {
      "text/plain": [
       "Text(0.5, 1.0, 'K Distance Graph for DBSCAN')"
      ]
     },
     "execution_count": 13,
     "metadata": {},
     "output_type": "execute_result"
    },
    {
     "data": {
      "image/png": "[encoded data removed]",
      "text/plain": [
       "<Figure size 864x432 with 1 Axes>"
      ]
     },
     "metadata": {},
     "output_type": "display_data"
    }
   ],
   "source": [
    "distances=np.sort(distances, axis=0)\n",
    "distances=distances[:,1]\n",
    "plt.plot(distances) \n",
    "plt.ylabel('Epsilon Value')\n",
    "plt.title('K Distance Graph for DBSCAN')"
   ]
  },
  {
   "cell_type": "code",
   "execution_count": 15,
   "id": "1df0630e",
   "metadata": {},
   "outputs": [],
   "source": [
    "from sklearn.cluster import DBSCAN\n",
    "db= DBSCAN(eps=0.5, min_samples=20).fit(X_db)\n",
    "#print(db.value_counts())\n",
    "unique, counts = np.unique(db, return_counts=True)\n",
    "dict(zip(unique, counts))\n",
    "labels = db.labels_\n",
    "#fts=db.feature_names_in_\n",
    "#print(n_features_in_)\n"
   ]
  },
  {
   "cell_type": "code",
   "execution_count": 16,
   "id": "16465cd3",
   "metadata": {
    "scrolled": true
   },
   "outputs": [
    {
     "name": "stdout",
     "output_type": "stream",
     "text": [
      "Estimated number of clusters: 44\n",
      "Estimated number of noise points: 5017\n",
      "Silhouette Coefficient: -0.190\n",
      "-0.1902758065567206\n",
      "calinski harabasz score\n",
      "475.33230012270826\n",
      "davies bouldin\n",
      "1.4122053454731918\n"
     ]
    }
   ],
   "source": [
    "core_samples_mask = np.zeros_like(db.labels_, dtype=bool)\n",
    "core_samples_mask[db.core_sample_indices_] = True\n",
    "labels = db.labels_\n",
    "\n",
    "# Number of clusters in labels, ignoring noise if present.\n",
    "n_clusters_ = len(set(labels)) - (1 if -1 in labels else 0)\n",
    "n_noise_ = list(labels).count(-1)\n",
    "\n",
    "print(\"Estimated number of clusters: %d\" % n_clusters_)\n",
    "print(\"Estimated number of noise points: %d\" % n_noise_)\n",
    "\n",
    "print(\"Silhouette Coefficient: %0.3f\" % metrics.silhouette_score(X_db, labels))\n",
    "print(metrics.silhouette_score(X_db,labels))\n",
    "print('calinski harabasz score')\n",
    "print(metrics.calinski_harabasz_score(X_db, labels))\n",
    "print('davies bouldin')\n",
    "print(davies_bouldin_score(X_db, labels))\n",
    "# #############################################################################\n",
    "# Plot result\n"
   ]
  },
  {
   "cell_type": "code",
   "execution_count": 17,
   "id": "096f48ce",
   "metadata": {
    "scrolled": true
   },
   "outputs": [
    {
     "name": "stdout",
     "output_type": "stream",
     "text": [
      "[ 0  0 -1 ... -1 -1 -1]\n"
     ]
    }
   ],
   "source": [
    "print(labels)"
   ]
  },
  {
   "cell_type": "code",
   "execution_count": 18,
   "id": "b91d771d",
   "metadata": {
    "scrolled": true
   },
   "outputs": [
    {
     "name": "stdout",
     "output_type": "stream",
     "text": [
      "[[ 0.9045017  -0.66065818  0.11533939 ...  0.36097952  1.05412883\n",
      "  -2.53077938]\n",
      " [ 0.9045017  -0.66065818  0.11533939 ...  0.36097952  1.05412883\n",
      "  -2.53074308]\n",
      " [ 0.9045017  -3.15947302 -0.26147226 ... -1.05291601  1.05412883\n",
      "  -2.51626061]\n",
      " ...\n",
      " [ 0.9045017  -0.10536599  0.30374522 ...  1.5392258   1.05412883\n",
      "   1.67266692]\n",
      " [ 0.9045017  -0.38301208  0.30374522 ...  1.5392258   1.05412883\n",
      "   1.67270322]\n",
      " [ 0.9045017  -0.10536599  0.30374522 ...  1.5392258   1.05412883\n",
      "   1.67273952]]\n"
     ]
    }
   ],
   "source": [
    "print(X_db)"
   ]
  },
  {
   "cell_type": "code",
   "execution_count": 19,
   "id": "2b475f3a",
   "metadata": {},
   "outputs": [],
   "source": [
    "df['DBScanCluster']= labels"
   ]
  },
  {
   "cell_type": "code",
   "execution_count": 20,
   "id": "62096779",
   "metadata": {},
   "outputs": [],
   "source": [
    "df_dbnoise=df[df['DBScanCluster']==-1]\n",
    "#df_dbnoise.to_csv('dbscan_noise.csv')\n",
    "#df_dbnoise.head()"
   ]
  },
  {
   "cell_type": "code",
   "execution_count": 21,
   "id": "26daeb3e",
   "metadata": {},
   "outputs": [],
   "source": [
    "df_dbnormal=df[df['DBScanCluster']!=-1]\n",
    "#df_dbnormal.to_csv('dbscan_normal.csv')"
   ]
  },
  {
   "cell_type": "code",
   "execution_count": 22,
   "id": "fef1562d",
   "metadata": {},
   "outputs": [
    {
     "data": {
      "text/html": [
       "<div>\n",
       "<style scoped>\n",
       "    .dataframe tbody tr th:only-of-type {\n",
       "        vertical-align: middle;\n",
       "    }\n",
       "\n",
       "    .dataframe tbody tr th {\n",
       "        vertical-align: top;\n",
       "    }\n",
       "\n",
       "    .dataframe thead th {\n",
       "        text-align: right;\n",
       "    }\n",
       "</style>\n",
       "<table border=\"1\" class=\"dataframe\">\n",
       "  <thead>\n",
       "    <tr style=\"text-align: right;\">\n",
       "      <th></th>\n",
       "      <th>ValueOMS</th>\n",
       "      <th>ValueOOS</th>\n",
       "      <th>ValueRT</th>\n",
       "      <th>ValueST</th>\n",
       "      <th>ValueOAT</th>\n",
       "      <th>AnomalousST</th>\n",
       "      <th>STDeviation</th>\n",
       "      <th>AnomalousOAT</th>\n",
       "      <th>OATDeviation</th>\n",
       "      <th>ValueOAH</th>\n",
       "      <th>HourofDay</th>\n",
       "      <th>Month</th>\n",
       "      <th>Year</th>\n",
       "      <th>DayofWeek</th>\n",
       "      <th>Season</th>\n",
       "      <th>TS</th>\n",
       "      <th>DBScanCluster</th>\n",
       "    </tr>\n",
       "  </thead>\n",
       "  <tbody>\n",
       "    <tr>\n",
       "      <th>count</th>\n",
       "      <td>5017.000000</td>\n",
       "      <td>5017.0</td>\n",
       "      <td>5017.000000</td>\n",
       "      <td>5017.000000</td>\n",
       "      <td>5017.000000</td>\n",
       "      <td>5017.000000</td>\n",
       "      <td>5017.000000</td>\n",
       "      <td>5017.000000</td>\n",
       "      <td>5017.000000</td>\n",
       "      <td>5017.000000</td>\n",
       "      <td>5017.000000</td>\n",
       "      <td>5017.000000</td>\n",
       "      <td>5017.000000</td>\n",
       "      <td>5017.000000</td>\n",
       "      <td>5017.000000</td>\n",
       "      <td>5.017000e+03</td>\n",
       "      <td>5017.0</td>\n",
       "    </tr>\n",
       "    <tr>\n",
       "      <th>mean</th>\n",
       "      <td>1.489934</td>\n",
       "      <td>1.0</td>\n",
       "      <td>25.106438</td>\n",
       "      <td>25.445984</td>\n",
       "      <td>20.328244</td>\n",
       "      <td>0.735898</td>\n",
       "      <td>-0.339546</td>\n",
       "      <td>0.150090</td>\n",
       "      <td>4.778194</td>\n",
       "      <td>60.308617</td>\n",
       "      <td>14.230417</td>\n",
       "      <td>6.606338</td>\n",
       "      <td>2018.608730</td>\n",
       "      <td>2.120590</td>\n",
       "      <td>2.708391</td>\n",
       "      <td>1.549973e+09</td>\n",
       "      <td>-1.0</td>\n",
       "    </tr>\n",
       "    <tr>\n",
       "      <th>std</th>\n",
       "      <td>0.499948</td>\n",
       "      <td>0.0</td>\n",
       "      <td>2.310552</td>\n",
       "      <td>2.530116</td>\n",
       "      <td>8.622051</td>\n",
       "      <td>0.440898</td>\n",
       "      <td>4.032522</td>\n",
       "      <td>0.357195</td>\n",
       "      <td>7.318515</td>\n",
       "      <td>10.397317</td>\n",
       "      <td>4.607645</td>\n",
       "      <td>3.689275</td>\n",
       "      <td>0.674338</td>\n",
       "      <td>1.639697</td>\n",
       "      <td>1.128185</td>\n",
       "      <td>1.799882e+07</td>\n",
       "      <td>0.0</td>\n",
       "    </tr>\n",
       "    <tr>\n",
       "      <th>min</th>\n",
       "      <td>1.000000</td>\n",
       "      <td>1.0</td>\n",
       "      <td>15.000000</td>\n",
       "      <td>19.000000</td>\n",
       "      <td>2.500000</td>\n",
       "      <td>0.000000</td>\n",
       "      <td>-12.000000</td>\n",
       "      <td>0.000000</td>\n",
       "      <td>-9.400000</td>\n",
       "      <td>38.130000</td>\n",
       "      <td>0.000000</td>\n",
       "      <td>1.000000</td>\n",
       "      <td>2017.000000</td>\n",
       "      <td>0.000000</td>\n",
       "      <td>1.000000</td>\n",
       "      <td>1.512989e+09</td>\n",
       "      <td>-1.0</td>\n",
       "    </tr>\n",
       "    <tr>\n",
       "      <th>25%</th>\n",
       "      <td>1.000000</td>\n",
       "      <td>1.0</td>\n",
       "      <td>24.000000</td>\n",
       "      <td>24.000000</td>\n",
       "      <td>13.000000</td>\n",
       "      <td>0.000000</td>\n",
       "      <td>-3.000000</td>\n",
       "      <td>0.000000</td>\n",
       "      <td>-1.800000</td>\n",
       "      <td>52.105000</td>\n",
       "      <td>11.000000</td>\n",
       "      <td>3.000000</td>\n",
       "      <td>2018.000000</td>\n",
       "      <td>1.000000</td>\n",
       "      <td>2.000000</td>\n",
       "      <td>1.535893e+09</td>\n",
       "      <td>-1.0</td>\n",
       "    </tr>\n",
       "    <tr>\n",
       "      <th>50%</th>\n",
       "      <td>1.000000</td>\n",
       "      <td>1.0</td>\n",
       "      <td>25.500000</td>\n",
       "      <td>26.000000</td>\n",
       "      <td>19.700000</td>\n",
       "      <td>1.000000</td>\n",
       "      <td>-0.500000</td>\n",
       "      <td>0.000000</td>\n",
       "      <td>5.100000</td>\n",
       "      <td>59.190000</td>\n",
       "      <td>14.000000</td>\n",
       "      <td>7.000000</td>\n",
       "      <td>2019.000000</td>\n",
       "      <td>2.000000</td>\n",
       "      <td>3.000000</td>\n",
       "      <td>1.546937e+09</td>\n",
       "      <td>-1.0</td>\n",
       "    </tr>\n",
       "    <tr>\n",
       "      <th>75%</th>\n",
       "      <td>2.000000</td>\n",
       "      <td>1.0</td>\n",
       "      <td>26.500000</td>\n",
       "      <td>28.000000</td>\n",
       "      <td>28.100000</td>\n",
       "      <td>1.000000</td>\n",
       "      <td>2.500000</td>\n",
       "      <td>0.000000</td>\n",
       "      <td>10.600000</td>\n",
       "      <td>67.315000</td>\n",
       "      <td>18.000000</td>\n",
       "      <td>10.000000</td>\n",
       "      <td>2019.000000</td>\n",
       "      <td>3.000000</td>\n",
       "      <td>4.000000</td>\n",
       "      <td>1.562851e+09</td>\n",
       "      <td>-1.0</td>\n",
       "    </tr>\n",
       "    <tr>\n",
       "      <th>max</th>\n",
       "      <td>2.000000</td>\n",
       "      <td>1.0</td>\n",
       "      <td>32.000000</td>\n",
       "      <td>28.000000</td>\n",
       "      <td>35.700000</td>\n",
       "      <td>1.000000</td>\n",
       "      <td>12.500000</td>\n",
       "      <td>1.000000</td>\n",
       "      <td>21.200000</td>\n",
       "      <td>86.555000</td>\n",
       "      <td>23.000000</td>\n",
       "      <td>12.000000</td>\n",
       "      <td>2020.000000</td>\n",
       "      <td>6.000000</td>\n",
       "      <td>4.000000</td>\n",
       "      <td>1.582234e+09</td>\n",
       "      <td>-1.0</td>\n",
       "    </tr>\n",
       "  </tbody>\n",
       "</table>\n",
       "</div>"
      ],
      "text/plain": [
       "          ValueOMS  ValueOOS      ValueRT      ValueST     ValueOAT  \\\n",
       "count  5017.000000    5017.0  5017.000000  5017.000000  5017.000000   \n",
       "mean      1.489934       1.0    25.106438    25.445984    20.328244   \n",
       "std       0.499948       0.0     2.310552     2.530116     8.622051   \n",
       "min       1.000000       1.0    15.000000    19.000000     2.500000   \n",
       "25%       1.000000       1.0    24.000000    24.000000    13.000000   \n",
       "50%       1.000000       1.0    25.500000    26.000000    19.700000   \n",
       "75%       2.000000       1.0    26.500000    28.000000    28.100000   \n",
       "max       2.000000       1.0    32.000000    28.000000    35.700000   \n",
       "\n",
       "       AnomalousST  STDeviation  AnomalousOAT  OATDeviation     ValueOAH  \\\n",
       "count  5017.000000  5017.000000   5017.000000   5017.000000  5017.000000   \n",
       "mean      0.735898    -0.339546      0.150090      4.778194    60.308617   \n",
       "std       0.440898     4.032522      0.357195      7.318515    10.397317   \n",
       "min       0.000000   -12.000000      0.000000     -9.400000    38.130000   \n",
       "25%       0.000000    -3.000000      0.000000     -1.800000    52.105000   \n",
       "50%       1.000000    -0.500000      0.000000      5.100000    59.190000   \n",
       "75%       1.000000     2.500000      0.000000     10.600000    67.315000   \n",
       "max       1.000000    12.500000      1.000000     21.200000    86.555000   \n",
       "\n",
       "         HourofDay        Month         Year    DayofWeek       Season  \\\n",
       "count  5017.000000  5017.000000  5017.000000  5017.000000  5017.000000   \n",
       "mean     14.230417     6.606338  2018.608730     2.120590     2.708391   \n",
       "std       4.607645     3.689275     0.674338     1.639697     1.128185   \n",
       "min       0.000000     1.000000  2017.000000     0.000000     1.000000   \n",
       "25%      11.000000     3.000000  2018.000000     1.000000     2.000000   \n",
       "50%      14.000000     7.000000  2019.000000     2.000000     3.000000   \n",
       "75%      18.000000    10.000000  2019.000000     3.000000     4.000000   \n",
       "max      23.000000    12.000000  2020.000000     6.000000     4.000000   \n",
       "\n",
       "                 TS  DBScanCluster  \n",
       "count  5.017000e+03         5017.0  \n",
       "mean   1.549973e+09           -1.0  \n",
       "std    1.799882e+07            0.0  \n",
       "min    1.512989e+09           -1.0  \n",
       "25%    1.535893e+09           -1.0  \n",
       "50%    1.546937e+09           -1.0  \n",
       "75%    1.562851e+09           -1.0  \n",
       "max    1.582234e+09           -1.0  "
      ]
     },
     "execution_count": 22,
     "metadata": {},
     "output_type": "execute_result"
    }
   ],
   "source": [
    "df_dbnoise.describe()"
   ]
  },
  {
   "cell_type": "code",
   "execution_count": 23,
   "id": "adcf751c",
   "metadata": {},
   "outputs": [],
   "source": [
    "df_dblof=df_dbnoise.drop(['TimeOMS','ValueOOS','AnomalousST','AnomalousOAT','Month', 'Year','DayofWeek','DBScanCluster'],axis=1)"
   ]
  },
  {
   "cell_type": "code",
   "execution_count": 24,
   "id": "37598383",
   "metadata": {
    "scrolled": false
   },
   "outputs": [
    {
     "data": {
      "text/html": [
       "<div>\n",
       "<style scoped>\n",
       "    .dataframe tbody tr th:only-of-type {\n",
       "        vertical-align: middle;\n",
       "    }\n",
       "\n",
       "    .dataframe tbody tr th {\n",
       "        vertical-align: top;\n",
       "    }\n",
       "\n",
       "    .dataframe thead th {\n",
       "        text-align: right;\n",
       "    }\n",
       "</style>\n",
       "<table border=\"1\" class=\"dataframe\">\n",
       "  <thead>\n",
       "    <tr style=\"text-align: right;\">\n",
       "      <th></th>\n",
       "      <th>ValueOMS</th>\n",
       "      <th>ValueRT</th>\n",
       "      <th>ValueST</th>\n",
       "      <th>ValueOAT</th>\n",
       "      <th>STDeviation</th>\n",
       "      <th>OATDeviation</th>\n",
       "      <th>ValueOAH</th>\n",
       "      <th>HourofDay</th>\n",
       "      <th>Season</th>\n",
       "      <th>TS</th>\n",
       "    </tr>\n",
       "  </thead>\n",
       "  <tbody>\n",
       "    <tr>\n",
       "      <th>2</th>\n",
       "      <td>2.0</td>\n",
       "      <td>20.0</td>\n",
       "      <td>25.0</td>\n",
       "      <td>14.6</td>\n",
       "      <td>-5.0</td>\n",
       "      <td>5.4</td>\n",
       "      <td>55.42</td>\n",
       "      <td>10.0</td>\n",
       "      <td>4</td>\n",
       "      <td>1.512989e+09</td>\n",
       "    </tr>\n",
       "    <tr>\n",
       "      <th>3</th>\n",
       "      <td>2.0</td>\n",
       "      <td>20.5</td>\n",
       "      <td>25.0</td>\n",
       "      <td>14.6</td>\n",
       "      <td>-4.5</td>\n",
       "      <td>5.9</td>\n",
       "      <td>56.46</td>\n",
       "      <td>10.0</td>\n",
       "      <td>4</td>\n",
       "      <td>1.512989e+09</td>\n",
       "    </tr>\n",
       "    <tr>\n",
       "      <th>4</th>\n",
       "      <td>2.0</td>\n",
       "      <td>21.0</td>\n",
       "      <td>25.0</td>\n",
       "      <td>14.6</td>\n",
       "      <td>-4.0</td>\n",
       "      <td>6.4</td>\n",
       "      <td>56.46</td>\n",
       "      <td>11.0</td>\n",
       "      <td>4</td>\n",
       "      <td>1.512990e+09</td>\n",
       "    </tr>\n",
       "    <tr>\n",
       "      <th>5</th>\n",
       "      <td>2.0</td>\n",
       "      <td>21.0</td>\n",
       "      <td>25.0</td>\n",
       "      <td>14.6</td>\n",
       "      <td>-4.0</td>\n",
       "      <td>6.4</td>\n",
       "      <td>55.42</td>\n",
       "      <td>11.0</td>\n",
       "      <td>4</td>\n",
       "      <td>1.512991e+09</td>\n",
       "    </tr>\n",
       "    <tr>\n",
       "      <th>6</th>\n",
       "      <td>2.0</td>\n",
       "      <td>21.5</td>\n",
       "      <td>25.0</td>\n",
       "      <td>15.1</td>\n",
       "      <td>-3.5</td>\n",
       "      <td>6.4</td>\n",
       "      <td>56.46</td>\n",
       "      <td>11.0</td>\n",
       "      <td>4</td>\n",
       "      <td>1.512991e+09</td>\n",
       "    </tr>\n",
       "  </tbody>\n",
       "</table>\n",
       "</div>"
      ],
      "text/plain": [
       "   ValueOMS  ValueRT  ValueST  ValueOAT  STDeviation  OATDeviation  ValueOAH  \\\n",
       "2       2.0     20.0     25.0      14.6         -5.0           5.4     55.42   \n",
       "3       2.0     20.5     25.0      14.6         -4.5           5.9     56.46   \n",
       "4       2.0     21.0     25.0      14.6         -4.0           6.4     56.46   \n",
       "5       2.0     21.0     25.0      14.6         -4.0           6.4     55.42   \n",
       "6       2.0     21.5     25.0      15.1         -3.5           6.4     56.46   \n",
       "\n",
       "   HourofDay  Season            TS  \n",
       "2       10.0       4  1.512989e+09  \n",
       "3       10.0       4  1.512989e+09  \n",
       "4       11.0       4  1.512990e+09  \n",
       "5       11.0       4  1.512991e+09  \n",
       "6       11.0       4  1.512991e+09  "
      ]
     },
     "execution_count": 24,
     "metadata": {},
     "output_type": "execute_result"
    }
   ],
   "source": [
    "df_dblof.head()"
   ]
  },
  {
   "cell_type": "code",
   "execution_count": 25,
   "id": "1940e669",
   "metadata": {},
   "outputs": [],
   "source": [
    "df_shap=df\n",
    "def dbcluster(x):\n",
    "    if x!=-1:\n",
    "        x=0\n",
    "    return x\n",
    "df_shap['DBScanCluster']=df_shap['DBScanCluster'].apply(lambda x: dbcluster(x) )\n"
   ]
  },
  {
   "cell_type": "code",
   "execution_count": 26,
   "id": "cf0347e0",
   "metadata": {},
   "outputs": [],
   "source": [
    "df_shap=df_shap.drop(['TimeOMS','ValueOOS','AnomalousST','AnomalousOAT','Month', 'Year','DayofWeek'],axis=1)"
   ]
  },
  {
   "cell_type": "code",
   "execution_count": 27,
   "id": "33dcd0f4",
   "metadata": {},
   "outputs": [
    {
     "data": {
      "text/html": [
       "<div>\n",
       "<style scoped>\n",
       "    .dataframe tbody tr th:only-of-type {\n",
       "        vertical-align: middle;\n",
       "    }\n",
       "\n",
       "    .dataframe tbody tr th {\n",
       "        vertical-align: top;\n",
       "    }\n",
       "\n",
       "    .dataframe thead th {\n",
       "        text-align: right;\n",
       "    }\n",
       "</style>\n",
       "<table border=\"1\" class=\"dataframe\">\n",
       "  <thead>\n",
       "    <tr style=\"text-align: right;\">\n",
       "      <th></th>\n",
       "      <th>ValueOMS</th>\n",
       "      <th>ValueRT</th>\n",
       "      <th>ValueST</th>\n",
       "      <th>ValueOAT</th>\n",
       "      <th>STDeviation</th>\n",
       "      <th>OATDeviation</th>\n",
       "      <th>ValueOAH</th>\n",
       "      <th>HourofDay</th>\n",
       "      <th>Season</th>\n",
       "      <th>TS</th>\n",
       "      <th>DBScanCluster</th>\n",
       "    </tr>\n",
       "  </thead>\n",
       "  <tbody>\n",
       "    <tr>\n",
       "      <th>0</th>\n",
       "      <td>2.0</td>\n",
       "      <td>24.5</td>\n",
       "      <td>26.0</td>\n",
       "      <td>15.1</td>\n",
       "      <td>-1.5</td>\n",
       "      <td>9.4</td>\n",
       "      <td>62.895</td>\n",
       "      <td>16.0</td>\n",
       "      <td>4</td>\n",
       "      <td>1.512749e+09</td>\n",
       "      <td>0</td>\n",
       "    </tr>\n",
       "    <tr>\n",
       "      <th>1</th>\n",
       "      <td>2.0</td>\n",
       "      <td>24.5</td>\n",
       "      <td>26.0</td>\n",
       "      <td>15.6</td>\n",
       "      <td>-1.5</td>\n",
       "      <td>8.9</td>\n",
       "      <td>62.895</td>\n",
       "      <td>16.0</td>\n",
       "      <td>4</td>\n",
       "      <td>1.512749e+09</td>\n",
       "      <td>0</td>\n",
       "    </tr>\n",
       "    <tr>\n",
       "      <th>2</th>\n",
       "      <td>2.0</td>\n",
       "      <td>20.0</td>\n",
       "      <td>25.0</td>\n",
       "      <td>14.6</td>\n",
       "      <td>-5.0</td>\n",
       "      <td>5.4</td>\n",
       "      <td>55.420</td>\n",
       "      <td>10.0</td>\n",
       "      <td>4</td>\n",
       "      <td>1.512989e+09</td>\n",
       "      <td>-1</td>\n",
       "    </tr>\n",
       "    <tr>\n",
       "      <th>3</th>\n",
       "      <td>2.0</td>\n",
       "      <td>20.5</td>\n",
       "      <td>25.0</td>\n",
       "      <td>14.6</td>\n",
       "      <td>-4.5</td>\n",
       "      <td>5.9</td>\n",
       "      <td>56.460</td>\n",
       "      <td>10.0</td>\n",
       "      <td>4</td>\n",
       "      <td>1.512989e+09</td>\n",
       "      <td>-1</td>\n",
       "    </tr>\n",
       "    <tr>\n",
       "      <th>4</th>\n",
       "      <td>2.0</td>\n",
       "      <td>21.0</td>\n",
       "      <td>25.0</td>\n",
       "      <td>14.6</td>\n",
       "      <td>-4.0</td>\n",
       "      <td>6.4</td>\n",
       "      <td>56.460</td>\n",
       "      <td>11.0</td>\n",
       "      <td>4</td>\n",
       "      <td>1.512990e+09</td>\n",
       "      <td>-1</td>\n",
       "    </tr>\n",
       "    <tr>\n",
       "      <th>...</th>\n",
       "      <td>...</td>\n",
       "      <td>...</td>\n",
       "      <td>...</td>\n",
       "      <td>...</td>\n",
       "      <td>...</td>\n",
       "      <td>...</td>\n",
       "      <td>...</td>\n",
       "      <td>...</td>\n",
       "      <td>...</td>\n",
       "      <td>...</td>\n",
       "      <td>...</td>\n",
       "    </tr>\n",
       "    <tr>\n",
       "      <th>16953</th>\n",
       "      <td>2.0</td>\n",
       "      <td>25.5</td>\n",
       "      <td>26.5</td>\n",
       "      <td>13.6</td>\n",
       "      <td>-1.0</td>\n",
       "      <td>11.9</td>\n",
       "      <td>70.370</td>\n",
       "      <td>20.0</td>\n",
       "      <td>4</td>\n",
       "      <td>1.582232e+09</td>\n",
       "      <td>0</td>\n",
       "    </tr>\n",
       "    <tr>\n",
       "      <th>16954</th>\n",
       "      <td>2.0</td>\n",
       "      <td>25.5</td>\n",
       "      <td>26.5</td>\n",
       "      <td>13.1</td>\n",
       "      <td>-1.0</td>\n",
       "      <td>12.4</td>\n",
       "      <td>70.370</td>\n",
       "      <td>21.0</td>\n",
       "      <td>4</td>\n",
       "      <td>1.582233e+09</td>\n",
       "      <td>-1</td>\n",
       "    </tr>\n",
       "    <tr>\n",
       "      <th>16955</th>\n",
       "      <td>2.0</td>\n",
       "      <td>25.5</td>\n",
       "      <td>26.5</td>\n",
       "      <td>13.1</td>\n",
       "      <td>-1.0</td>\n",
       "      <td>12.4</td>\n",
       "      <td>69.330</td>\n",
       "      <td>21.0</td>\n",
       "      <td>4</td>\n",
       "      <td>1.582233e+09</td>\n",
       "      <td>-1</td>\n",
       "    </tr>\n",
       "    <tr>\n",
       "      <th>16956</th>\n",
       "      <td>2.0</td>\n",
       "      <td>25.0</td>\n",
       "      <td>26.5</td>\n",
       "      <td>13.1</td>\n",
       "      <td>-1.5</td>\n",
       "      <td>11.9</td>\n",
       "      <td>70.370</td>\n",
       "      <td>21.0</td>\n",
       "      <td>4</td>\n",
       "      <td>1.582234e+09</td>\n",
       "      <td>-1</td>\n",
       "    </tr>\n",
       "    <tr>\n",
       "      <th>16957</th>\n",
       "      <td>2.0</td>\n",
       "      <td>25.5</td>\n",
       "      <td>26.5</td>\n",
       "      <td>12.6</td>\n",
       "      <td>-1.0</td>\n",
       "      <td>12.9</td>\n",
       "      <td>70.370</td>\n",
       "      <td>21.0</td>\n",
       "      <td>4</td>\n",
       "      <td>1.582234e+09</td>\n",
       "      <td>-1</td>\n",
       "    </tr>\n",
       "  </tbody>\n",
       "</table>\n",
       "<p>16954 rows × 11 columns</p>\n",
       "</div>"
      ],
      "text/plain": [
       "       ValueOMS  ValueRT  ValueST  ValueOAT  STDeviation  OATDeviation  \\\n",
       "0           2.0     24.5     26.0      15.1         -1.5           9.4   \n",
       "1           2.0     24.5     26.0      15.6         -1.5           8.9   \n",
       "2           2.0     20.0     25.0      14.6         -5.0           5.4   \n",
       "3           2.0     20.5     25.0      14.6         -4.5           5.9   \n",
       "4           2.0     21.0     25.0      14.6         -4.0           6.4   \n",
       "...         ...      ...      ...       ...          ...           ...   \n",
       "16953       2.0     25.5     26.5      13.6         -1.0          11.9   \n",
       "16954       2.0     25.5     26.5      13.1         -1.0          12.4   \n",
       "16955       2.0     25.5     26.5      13.1         -1.0          12.4   \n",
       "16956       2.0     25.0     26.5      13.1         -1.5          11.9   \n",
       "16957       2.0     25.5     26.5      12.6         -1.0          12.9   \n",
       "\n",
       "       ValueOAH  HourofDay  Season            TS  DBScanCluster  \n",
       "0        62.895       16.0       4  1.512749e+09              0  \n",
       "1        62.895       16.0       4  1.512749e+09              0  \n",
       "2        55.420       10.0       4  1.512989e+09             -1  \n",
       "3        56.460       10.0       4  1.512989e+09             -1  \n",
       "4        56.460       11.0       4  1.512990e+09             -1  \n",
       "...         ...        ...     ...           ...            ...  \n",
       "16953    70.370       20.0       4  1.582232e+09              0  \n",
       "16954    70.370       21.0       4  1.582233e+09             -1  \n",
       "16955    69.330       21.0       4  1.582233e+09             -1  \n",
       "16956    70.370       21.0       4  1.582234e+09             -1  \n",
       "16957    70.370       21.0       4  1.582234e+09             -1  \n",
       "\n",
       "[16954 rows x 11 columns]"
      ]
     },
     "execution_count": 27,
     "metadata": {},
     "output_type": "execute_result"
    }
   ],
   "source": [
    "df_shap"
   ]
  },
  {
   "cell_type": "code",
   "execution_count": 22,
   "id": "1696c13a",
   "metadata": {},
   "outputs": [
    {
     "data": {
      "text/plain": [
       " 0    11937\n",
       "-1     5017\n",
       "Name: DBScanCluster, dtype: int64"
      ]
     },
     "execution_count": 22,
     "metadata": {},
     "output_type": "execute_result"
    }
   ],
   "source": [
    "df_shap['DBScanCluster'].value_counts()"
   ]
  },
  {
   "cell_type": "code",
   "execution_count": 72,
   "id": "a383b4fa",
   "metadata": {},
   "outputs": [
    {
     "data": {
      "text/plain": [
       "RandomForestClassifier()"
      ]
     },
     "execution_count": 72,
     "metadata": {},
     "output_type": "execute_result"
    }
   ],
   "source": [
    "from sklearn.ensemble import RandomForestClassifier\n",
    "from sklearn.preprocessing import label_binarize\n",
    "#y=db.fit(X_db).labels_\n",
    "y=df_shap['DBScanCluster']\n",
    "#y=label_binarize(y, classes=[0,-1])\n",
    "X_shap= df_shap.drop('DBScanCluster', axis=1)\n",
    "\n",
    "rfc=RandomForestClassifier()\n",
    "rfc.fit(X_db,y.ravel())"
   ]
  },
  {
   "cell_type": "code",
   "execution_count": 73,
   "id": "31a5cdf8",
   "metadata": {},
   "outputs": [
    {
     "data": {
      "text/plain": [
       "Text(0.5, 1.0, 'Feature Importances Using Random Forest Classifier (DBSCAN)')"
      ]
     },
     "execution_count": 73,
     "metadata": {},
     "output_type": "execute_result"
    },
    {
     "data": {
      "image/png": "[encoded data removed]",
      "text/plain": [
       "<Figure size 864x432 with 1 Axes>"
      ]
     },
     "metadata": {},
     "output_type": "display_data"
    }
   ],
   "source": [
    "sorted_idx = rfc.feature_importances_.argsort()\n",
    "plt.barh(X_shap.columns[sorted_idx], rfc.feature_importances_[sorted_idx])\n",
    "plt.xlabel(\"Random Forest Feature Importance\")\n",
    "plt.title('Feature Importances Using Random Forest Classifier (DBSCAN)')\n",
    "#plt.barh(X_shap.columns, rfc.feature_importances_)\n"
   ]
  },
  {
   "cell_type": "code",
   "execution_count": 29,
   "id": "2f4d9612",
   "metadata": {},
   "outputs": [],
   "source": [
    "import shap\n",
    "explainer= shap.TreeExplainer(rfc)\n",
    "shap_values = explainer(X_shap)"
   ]
  },
  {
   "cell_type": "code",
   "execution_count": 30,
   "id": "9bdf1510",
   "metadata": {},
   "outputs": [
    {
     "data": {
      "text/plain": [
       "(16954, 10, 2)"
      ]
     },
     "execution_count": 30,
     "metadata": {},
     "output_type": "execute_result"
    }
   ],
   "source": [
    "shap_values.shape"
   ]
  },
  {
   "cell_type": "code",
   "execution_count": 31,
   "id": "f8551c65",
   "metadata": {},
   "outputs": [
    {
     "data": {
      "image/png": "[encoded data removed]",
      "text/plain": [
       "<Figure size 576x396 with 1 Axes>"
      ]
     },
     "metadata": {},
     "output_type": "display_data"
    }
   ],
   "source": [
    "shap.summary_plot(shap_values.values[:,:,1], features=X_shap.columns, plot_type='bar')"
   ]
  },
  {
   "cell_type": "code",
   "execution_count": 32,
   "id": "52261fd7",
   "metadata": {},
   "outputs": [
    {
     "data": {
      "image/png": "[encoded data removed]",
      "text/plain": [
       "<Figure size 576x396 with 2 Axes>"
      ]
     },
     "metadata": {},
     "output_type": "display_data"
    }
   ],
   "source": [
    "shap.plots.beeswarm(shap_values[:,:,1])"
   ]
  },
  {
   "cell_type": "code",
   "execution_count": 33,
   "id": "173176d3",
   "metadata": {},
   "outputs": [
    {
     "data": {
      "image/png": "[encoded data removed]",
      "text/plain": [
       "<Figure size 576x468 with 1 Axes>"
      ]
     },
     "metadata": {},
     "output_type": "display_data"
    }
   ],
   "source": [
    "shap.plots.bar(shap_values[:,:,1])\n"
   ]
  },
  {
   "cell_type": "markdown",
   "id": "13cd846e",
   "metadata": {},
   "source": [
    "### LOCAL Outlier Factor (DBSCAN Subset)"
   ]
  },
  {
   "cell_type": "code",
   "execution_count": 34,
   "id": "a5e93905",
   "metadata": {},
   "outputs": [
    {
     "data": {
      "text/html": [
       "<div>\n",
       "<style scoped>\n",
       "    .dataframe tbody tr th:only-of-type {\n",
       "        vertical-align: middle;\n",
       "    }\n",
       "\n",
       "    .dataframe tbody tr th {\n",
       "        vertical-align: top;\n",
       "    }\n",
       "\n",
       "    .dataframe thead th {\n",
       "        text-align: right;\n",
       "    }\n",
       "</style>\n",
       "<table border=\"1\" class=\"dataframe\">\n",
       "  <thead>\n",
       "    <tr style=\"text-align: right;\">\n",
       "      <th></th>\n",
       "      <th>ValueOMS</th>\n",
       "      <th>ValueRT</th>\n",
       "      <th>ValueST</th>\n",
       "      <th>ValueOAT</th>\n",
       "      <th>STDeviation</th>\n",
       "      <th>OATDeviation</th>\n",
       "      <th>ValueOAH</th>\n",
       "      <th>HourofDay</th>\n",
       "      <th>Season</th>\n",
       "      <th>TS</th>\n",
       "    </tr>\n",
       "  </thead>\n",
       "  <tbody>\n",
       "    <tr>\n",
       "      <th>2</th>\n",
       "      <td>2.0</td>\n",
       "      <td>20.0</td>\n",
       "      <td>25.0</td>\n",
       "      <td>14.6</td>\n",
       "      <td>-5.0</td>\n",
       "      <td>5.4</td>\n",
       "      <td>55.42</td>\n",
       "      <td>10.0</td>\n",
       "      <td>4</td>\n",
       "      <td>1.512989e+09</td>\n",
       "    </tr>\n",
       "    <tr>\n",
       "      <th>3</th>\n",
       "      <td>2.0</td>\n",
       "      <td>20.5</td>\n",
       "      <td>25.0</td>\n",
       "      <td>14.6</td>\n",
       "      <td>-4.5</td>\n",
       "      <td>5.9</td>\n",
       "      <td>56.46</td>\n",
       "      <td>10.0</td>\n",
       "      <td>4</td>\n",
       "      <td>1.512989e+09</td>\n",
       "    </tr>\n",
       "    <tr>\n",
       "      <th>4</th>\n",
       "      <td>2.0</td>\n",
       "      <td>21.0</td>\n",
       "      <td>25.0</td>\n",
       "      <td>14.6</td>\n",
       "      <td>-4.0</td>\n",
       "      <td>6.4</td>\n",
       "      <td>56.46</td>\n",
       "      <td>11.0</td>\n",
       "      <td>4</td>\n",
       "      <td>1.512990e+09</td>\n",
       "    </tr>\n",
       "    <tr>\n",
       "      <th>5</th>\n",
       "      <td>2.0</td>\n",
       "      <td>21.0</td>\n",
       "      <td>25.0</td>\n",
       "      <td>14.6</td>\n",
       "      <td>-4.0</td>\n",
       "      <td>6.4</td>\n",
       "      <td>55.42</td>\n",
       "      <td>11.0</td>\n",
       "      <td>4</td>\n",
       "      <td>1.512991e+09</td>\n",
       "    </tr>\n",
       "    <tr>\n",
       "      <th>6</th>\n",
       "      <td>2.0</td>\n",
       "      <td>21.5</td>\n",
       "      <td>25.0</td>\n",
       "      <td>15.1</td>\n",
       "      <td>-3.5</td>\n",
       "      <td>6.4</td>\n",
       "      <td>56.46</td>\n",
       "      <td>11.0</td>\n",
       "      <td>4</td>\n",
       "      <td>1.512991e+09</td>\n",
       "    </tr>\n",
       "    <tr>\n",
       "      <th>...</th>\n",
       "      <td>...</td>\n",
       "      <td>...</td>\n",
       "      <td>...</td>\n",
       "      <td>...</td>\n",
       "      <td>...</td>\n",
       "      <td>...</td>\n",
       "      <td>...</td>\n",
       "      <td>...</td>\n",
       "      <td>...</td>\n",
       "      <td>...</td>\n",
       "    </tr>\n",
       "    <tr>\n",
       "      <th>16952</th>\n",
       "      <td>2.0</td>\n",
       "      <td>26.0</td>\n",
       "      <td>26.5</td>\n",
       "      <td>13.1</td>\n",
       "      <td>-0.5</td>\n",
       "      <td>12.9</td>\n",
       "      <td>71.41</td>\n",
       "      <td>20.0</td>\n",
       "      <td>4</td>\n",
       "      <td>1.582231e+09</td>\n",
       "    </tr>\n",
       "    <tr>\n",
       "      <th>16954</th>\n",
       "      <td>2.0</td>\n",
       "      <td>25.5</td>\n",
       "      <td>26.5</td>\n",
       "      <td>13.1</td>\n",
       "      <td>-1.0</td>\n",
       "      <td>12.4</td>\n",
       "      <td>70.37</td>\n",
       "      <td>21.0</td>\n",
       "      <td>4</td>\n",
       "      <td>1.582233e+09</td>\n",
       "    </tr>\n",
       "    <tr>\n",
       "      <th>16955</th>\n",
       "      <td>2.0</td>\n",
       "      <td>25.5</td>\n",
       "      <td>26.5</td>\n",
       "      <td>13.1</td>\n",
       "      <td>-1.0</td>\n",
       "      <td>12.4</td>\n",
       "      <td>69.33</td>\n",
       "      <td>21.0</td>\n",
       "      <td>4</td>\n",
       "      <td>1.582233e+09</td>\n",
       "    </tr>\n",
       "    <tr>\n",
       "      <th>16956</th>\n",
       "      <td>2.0</td>\n",
       "      <td>25.0</td>\n",
       "      <td>26.5</td>\n",
       "      <td>13.1</td>\n",
       "      <td>-1.5</td>\n",
       "      <td>11.9</td>\n",
       "      <td>70.37</td>\n",
       "      <td>21.0</td>\n",
       "      <td>4</td>\n",
       "      <td>1.582234e+09</td>\n",
       "    </tr>\n",
       "    <tr>\n",
       "      <th>16957</th>\n",
       "      <td>2.0</td>\n",
       "      <td>25.5</td>\n",
       "      <td>26.5</td>\n",
       "      <td>12.6</td>\n",
       "      <td>-1.0</td>\n",
       "      <td>12.9</td>\n",
       "      <td>70.37</td>\n",
       "      <td>21.0</td>\n",
       "      <td>4</td>\n",
       "      <td>1.582234e+09</td>\n",
       "    </tr>\n",
       "  </tbody>\n",
       "</table>\n",
       "<p>5017 rows × 10 columns</p>\n",
       "</div>"
      ],
      "text/plain": [
       "       ValueOMS  ValueRT  ValueST  ValueOAT  STDeviation  OATDeviation  \\\n",
       "2           2.0     20.0     25.0      14.6         -5.0           5.4   \n",
       "3           2.0     20.5     25.0      14.6         -4.5           5.9   \n",
       "4           2.0     21.0     25.0      14.6         -4.0           6.4   \n",
       "5           2.0     21.0     25.0      14.6         -4.0           6.4   \n",
       "6           2.0     21.5     25.0      15.1         -3.5           6.4   \n",
       "...         ...      ...      ...       ...          ...           ...   \n",
       "16952       2.0     26.0     26.5      13.1         -0.5          12.9   \n",
       "16954       2.0     25.5     26.5      13.1         -1.0          12.4   \n",
       "16955       2.0     25.5     26.5      13.1         -1.0          12.4   \n",
       "16956       2.0     25.0     26.5      13.1         -1.5          11.9   \n",
       "16957       2.0     25.5     26.5      12.6         -1.0          12.9   \n",
       "\n",
       "       ValueOAH  HourofDay  Season            TS  \n",
       "2         55.42       10.0       4  1.512989e+09  \n",
       "3         56.46       10.0       4  1.512989e+09  \n",
       "4         56.46       11.0       4  1.512990e+09  \n",
       "5         55.42       11.0       4  1.512991e+09  \n",
       "6         56.46       11.0       4  1.512991e+09  \n",
       "...         ...        ...     ...           ...  \n",
       "16952     71.41       20.0       4  1.582231e+09  \n",
       "16954     70.37       21.0       4  1.582233e+09  \n",
       "16955     69.33       21.0       4  1.582233e+09  \n",
       "16956     70.37       21.0       4  1.582234e+09  \n",
       "16957     70.37       21.0       4  1.582234e+09  \n",
       "\n",
       "[5017 rows x 10 columns]"
      ]
     },
     "execution_count": 34,
     "metadata": {},
     "output_type": "execute_result"
    }
   ],
   "source": [
    "(df_dblof)"
   ]
  },
  {
   "cell_type": "code",
   "execution_count": 35,
   "id": "644abafa",
   "metadata": {},
   "outputs": [],
   "source": [
    "#X_db_lof=\n",
    "#.drop(['TimeOMS','Month', 'DayofWeek','AnomalousST','AnomalousOAT','ValueOOS', 'Year','Season'],axis=1)\n",
    "scaler2= StandardScaler()\n",
    "scaler2=scaler2.fit(df_dblof)\n",
    "X_dblof=scaler1.transform(df_dblof)"
   ]
  },
  {
   "cell_type": "code",
   "execution_count": 36,
   "id": "7d467f71",
   "metadata": {},
   "outputs": [
    {
     "data": {
      "text/plain": [
       "array([[ 0.9045017 , -3.15947302, -0.26147226, ..., -1.05291601,\n",
       "         1.05412883, -2.51626061],\n",
       "       [ 0.9045017 , -2.88182693, -0.26147226, ..., -1.05291601,\n",
       "         1.05412883, -2.51622431],\n",
       "       [ 0.9045017 , -2.60418084, -0.26147226, ..., -0.81726676,\n",
       "         1.05412883, -2.51618802],\n",
       "       ...,\n",
       "       [ 0.9045017 , -0.10536599,  0.30374522, ...,  1.5392258 ,\n",
       "         1.05412883,  1.67266692],\n",
       "       [ 0.9045017 , -0.38301208,  0.30374522, ...,  1.5392258 ,\n",
       "         1.05412883,  1.67270322],\n",
       "       [ 0.9045017 , -0.10536599,  0.30374522, ...,  1.5392258 ,\n",
       "         1.05412883,  1.67273952]])"
      ]
     },
     "execution_count": 36,
     "metadata": {},
     "output_type": "execute_result"
    }
   ],
   "source": [
    "X_dblof"
   ]
  },
  {
   "cell_type": "code",
   "execution_count": 37,
   "id": "eb94f8d4",
   "metadata": {},
   "outputs": [],
   "source": [
    "from sklearn.neighbors import LocalOutlierFactor \n",
    "# fit the model for outlier detection (default)\n",
    "clf = LocalOutlierFactor(n_neighbors=20)\n",
    "y_pred = clf.fit_predict(X_dblof)\n",
    "X_scores = clf.negative_outlier_factor_\n",
    "clfoffset=clf.offset_\n"
   ]
  },
  {
   "cell_type": "code",
   "execution_count": 38,
   "id": "f95b6e26",
   "metadata": {
    "scrolled": false
   },
   "outputs": [
    {
     "name": "stdout",
     "output_type": "stream",
     "text": [
      "[-1.11284579 -1.07292151 -1.03729746 ... -0.99584195 -1.09674545\n",
      " -1.01579427]\n"
     ]
    }
   ],
   "source": [
    "print(X_scores)"
   ]
  },
  {
   "cell_type": "code",
   "execution_count": 39,
   "id": "4d413214",
   "metadata": {},
   "outputs": [
    {
     "data": {
      "text/plain": [
       "-1.5"
      ]
     },
     "execution_count": 39,
     "metadata": {},
     "output_type": "execute_result"
    }
   ],
   "source": [
    "clfoffset"
   ]
  },
  {
   "cell_type": "code",
   "execution_count": 40,
   "id": "316c328d",
   "metadata": {},
   "outputs": [
    {
     "data": {
      "text/plain": [
       "array([1, 1, 1, ..., 1, 1, 1])"
      ]
     },
     "execution_count": 40,
     "metadata": {},
     "output_type": "execute_result"
    }
   ],
   "source": [
    "y_pred"
   ]
  },
  {
   "cell_type": "code",
   "execution_count": 41,
   "id": "fb7fc4fe",
   "metadata": {
    "scrolled": true
   },
   "outputs": [
    {
     "data": {
      "text/plain": [
       "(-1.54, 0.0)"
      ]
     },
     "execution_count": 41,
     "metadata": {},
     "output_type": "execute_result"
    },
    {
     "data": {
      "image/png": "[encoded data removed]",
      "text/plain": [
       "<Figure size 864x432 with 1 Axes>"
      ]
     },
     "metadata": {},
     "output_type": "display_data"
    }
   ],
   "source": [
    "sns.boxplot(data=X_scores)\n",
    "plt.ylim(-1.54,0)"
   ]
  },
  {
   "cell_type": "code",
   "execution_count": 42,
   "id": "6ed4ba71",
   "metadata": {
    "scrolled": true
   },
   "outputs": [
    {
     "data": {
      "text/plain": [
       "<AxesSubplot:>"
      ]
     },
     "execution_count": 42,
     "metadata": {},
     "output_type": "execute_result"
    },
    {
     "data": {
      "image/png": "[encoded data removed]",
      "text/plain": [
       "<Figure size 864x432 with 1 Axes>"
      ]
     },
     "metadata": {},
     "output_type": "display_data"
    }
   ],
   "source": [
    "sns.boxplot(data=X_scores)\n",
    "#plt.ylim(-1.7,0)"
   ]
  },
  {
   "cell_type": "code",
   "execution_count": 43,
   "id": "9061ee86",
   "metadata": {},
   "outputs": [
    {
     "data": {
      "text/plain": [
       "array([[   0, 4629],\n",
       "       [   1,  388]], dtype=int64)"
      ]
     },
     "execution_count": 43,
     "metadata": {},
     "output_type": "execute_result"
    }
   ],
   "source": [
    "w=((X_scores)<=-1.2)\n",
    "unique, counts = np.unique(w, return_counts=True)\n",
    "\n",
    "np.asarray((unique, counts)).T"
   ]
  },
  {
   "cell_type": "code",
   "execution_count": 44,
   "id": "32282a4e",
   "metadata": {},
   "outputs": [
    {
     "data": {
      "text/plain": [
       "0.112651298496888"
      ]
     },
     "execution_count": 44,
     "metadata": {},
     "output_type": "execute_result"
    }
   ],
   "source": [
    "np.std(X_scores)"
   ]
  },
  {
   "cell_type": "code",
   "execution_count": 45,
   "id": "f8bda5a3",
   "metadata": {},
   "outputs": [
    {
     "data": {
      "text/plain": [
       "-1.0554384801343744"
      ]
     },
     "execution_count": 45,
     "metadata": {},
     "output_type": "execute_result"
    }
   ],
   "source": [
    "np.mean(X_scores)"
   ]
  },
  {
   "cell_type": "code",
   "execution_count": 46,
   "id": "d665d3ee",
   "metadata": {},
   "outputs": [
    {
     "name": "stderr",
     "output_type": "stream",
     "text": [
      "\n",
      "A value is trying to be set on a copy of a slice from a DataFrame.\n",
      "Try using .loc[row_indexer,col_indexer] = value instead\n",
      "\n",
      "See the caveats in the documentation: https://pandas.pydata.org/pandas-docs/stable/user_guide/indexing.html#returning-a-view-versus-a-copy\n"
     ]
    },
    {
     "data": {
      "text/html": [
       "<div>\n",
       "<style scoped>\n",
       "    .dataframe tbody tr th:only-of-type {\n",
       "        vertical-align: middle;\n",
       "    }\n",
       "\n",
       "    .dataframe tbody tr th {\n",
       "        vertical-align: top;\n",
       "    }\n",
       "\n",
       "    .dataframe thead th {\n",
       "        text-align: right;\n",
       "    }\n",
       "</style>\n",
       "<table border=\"1\" class=\"dataframe\">\n",
       "  <thead>\n",
       "    <tr style=\"text-align: right;\">\n",
       "      <th></th>\n",
       "      <th>TimeOMS</th>\n",
       "      <th>ValueOMS</th>\n",
       "      <th>ValueOOS</th>\n",
       "      <th>ValueRT</th>\n",
       "      <th>ValueST</th>\n",
       "      <th>ValueOAT</th>\n",
       "      <th>AnomalousST</th>\n",
       "      <th>STDeviation</th>\n",
       "      <th>AnomalousOAT</th>\n",
       "      <th>OATDeviation</th>\n",
       "      <th>ValueOAH</th>\n",
       "      <th>HourofDay</th>\n",
       "      <th>Month</th>\n",
       "      <th>Year</th>\n",
       "      <th>DayofWeek</th>\n",
       "      <th>Season</th>\n",
       "      <th>TS</th>\n",
       "      <th>DBScanCluster</th>\n",
       "      <th>LOF</th>\n",
       "    </tr>\n",
       "  </thead>\n",
       "  <tbody>\n",
       "    <tr>\n",
       "      <th>2</th>\n",
       "      <td>2017-12-11 10:40:52</td>\n",
       "      <td>2.0</td>\n",
       "      <td>1.0</td>\n",
       "      <td>20.0</td>\n",
       "      <td>25.0</td>\n",
       "      <td>14.6</td>\n",
       "      <td>1.0</td>\n",
       "      <td>-5.0</td>\n",
       "      <td>0.0</td>\n",
       "      <td>5.4</td>\n",
       "      <td>55.42</td>\n",
       "      <td>10.0</td>\n",
       "      <td>12.0</td>\n",
       "      <td>2017.0</td>\n",
       "      <td>0.0</td>\n",
       "      <td>4</td>\n",
       "      <td>1.512989e+09</td>\n",
       "      <td>-1</td>\n",
       "      <td>-1.112846</td>\n",
       "    </tr>\n",
       "    <tr>\n",
       "      <th>3</th>\n",
       "      <td>2017-12-11 10:50:52</td>\n",
       "      <td>2.0</td>\n",
       "      <td>1.0</td>\n",
       "      <td>20.5</td>\n",
       "      <td>25.0</td>\n",
       "      <td>14.6</td>\n",
       "      <td>1.0</td>\n",
       "      <td>-4.5</td>\n",
       "      <td>0.0</td>\n",
       "      <td>5.9</td>\n",
       "      <td>56.46</td>\n",
       "      <td>10.0</td>\n",
       "      <td>12.0</td>\n",
       "      <td>2017.0</td>\n",
       "      <td>0.0</td>\n",
       "      <td>4</td>\n",
       "      <td>1.512989e+09</td>\n",
       "      <td>-1</td>\n",
       "      <td>-1.072922</td>\n",
       "    </tr>\n",
       "    <tr>\n",
       "      <th>4</th>\n",
       "      <td>2017-12-11 11:00:52</td>\n",
       "      <td>2.0</td>\n",
       "      <td>1.0</td>\n",
       "      <td>21.0</td>\n",
       "      <td>25.0</td>\n",
       "      <td>14.6</td>\n",
       "      <td>1.0</td>\n",
       "      <td>-4.0</td>\n",
       "      <td>0.0</td>\n",
       "      <td>6.4</td>\n",
       "      <td>56.46</td>\n",
       "      <td>11.0</td>\n",
       "      <td>12.0</td>\n",
       "      <td>2017.0</td>\n",
       "      <td>0.0</td>\n",
       "      <td>4</td>\n",
       "      <td>1.512990e+09</td>\n",
       "      <td>-1</td>\n",
       "      <td>-1.037297</td>\n",
       "    </tr>\n",
       "    <tr>\n",
       "      <th>5</th>\n",
       "      <td>2017-12-11 11:10:52</td>\n",
       "      <td>2.0</td>\n",
       "      <td>1.0</td>\n",
       "      <td>21.0</td>\n",
       "      <td>25.0</td>\n",
       "      <td>14.6</td>\n",
       "      <td>1.0</td>\n",
       "      <td>-4.0</td>\n",
       "      <td>0.0</td>\n",
       "      <td>6.4</td>\n",
       "      <td>55.42</td>\n",
       "      <td>11.0</td>\n",
       "      <td>12.0</td>\n",
       "      <td>2017.0</td>\n",
       "      <td>0.0</td>\n",
       "      <td>4</td>\n",
       "      <td>1.512991e+09</td>\n",
       "      <td>-1</td>\n",
       "      <td>-1.044922</td>\n",
       "    </tr>\n",
       "    <tr>\n",
       "      <th>6</th>\n",
       "      <td>2017-12-11 11:20:52</td>\n",
       "      <td>2.0</td>\n",
       "      <td>1.0</td>\n",
       "      <td>21.5</td>\n",
       "      <td>25.0</td>\n",
       "      <td>15.1</td>\n",
       "      <td>1.0</td>\n",
       "      <td>-3.5</td>\n",
       "      <td>0.0</td>\n",
       "      <td>6.4</td>\n",
       "      <td>56.46</td>\n",
       "      <td>11.0</td>\n",
       "      <td>12.0</td>\n",
       "      <td>2017.0</td>\n",
       "      <td>0.0</td>\n",
       "      <td>4</td>\n",
       "      <td>1.512991e+09</td>\n",
       "      <td>-1</td>\n",
       "      <td>-1.038174</td>\n",
       "    </tr>\n",
       "  </tbody>\n",
       "</table>\n",
       "</div>"
      ],
      "text/plain": [
       "              TimeOMS  ValueOMS  ValueOOS  ValueRT  ValueST  ValueOAT  \\\n",
       "2 2017-12-11 10:40:52       2.0       1.0     20.0     25.0      14.6   \n",
       "3 2017-12-11 10:50:52       2.0       1.0     20.5     25.0      14.6   \n",
       "4 2017-12-11 11:00:52       2.0       1.0     21.0     25.0      14.6   \n",
       "5 2017-12-11 11:10:52       2.0       1.0     21.0     25.0      14.6   \n",
       "6 2017-12-11 11:20:52       2.0       1.0     21.5     25.0      15.1   \n",
       "\n",
       "   AnomalousST  STDeviation  AnomalousOAT  OATDeviation  ValueOAH  HourofDay  \\\n",
       "2          1.0         -5.0           0.0           5.4     55.42       10.0   \n",
       "3          1.0         -4.5           0.0           5.9     56.46       10.0   \n",
       "4          1.0         -4.0           0.0           6.4     56.46       11.0   \n",
       "5          1.0         -4.0           0.0           6.4     55.42       11.0   \n",
       "6          1.0         -3.5           0.0           6.4     56.46       11.0   \n",
       "\n",
       "   Month    Year  DayofWeek  Season            TS  DBScanCluster       LOF  \n",
       "2   12.0  2017.0        0.0       4  1.512989e+09             -1 -1.112846  \n",
       "3   12.0  2017.0        0.0       4  1.512989e+09             -1 -1.072922  \n",
       "4   12.0  2017.0        0.0       4  1.512990e+09             -1 -1.037297  \n",
       "5   12.0  2017.0        0.0       4  1.512991e+09             -1 -1.044922  \n",
       "6   12.0  2017.0        0.0       4  1.512991e+09             -1 -1.038174  "
      ]
     },
     "execution_count": 46,
     "metadata": {},
     "output_type": "execute_result"
    }
   ],
   "source": [
    "df_dbnoise['LOF']=(X_scores)\n",
    "df_dbnoise.head()\n"
   ]
  },
  {
   "cell_type": "code",
   "execution_count": 47,
   "id": "2a9beaa8",
   "metadata": {},
   "outputs": [
    {
     "data": {
      "text/plain": [
       "388"
      ]
     },
     "execution_count": 47,
     "metadata": {},
     "output_type": "execute_result"
    }
   ],
   "source": [
    "df_dblof_n=df_dbnoise[df_dbnoise['LOF']<=-1.2]\n",
    "#df_dblof_n.to_csv('dblof_anomalies1.csv')\n",
    "len(df_dblof_n)"
   ]
  },
  {
   "cell_type": "code",
   "execution_count": 48,
   "id": "c69f7ea3",
   "metadata": {},
   "outputs": [
    {
     "data": {
      "text/html": [
       "<div>\n",
       "<style scoped>\n",
       "    .dataframe tbody tr th:only-of-type {\n",
       "        vertical-align: middle;\n",
       "    }\n",
       "\n",
       "    .dataframe tbody tr th {\n",
       "        vertical-align: top;\n",
       "    }\n",
       "\n",
       "    .dataframe thead th {\n",
       "        text-align: right;\n",
       "    }\n",
       "</style>\n",
       "<table border=\"1\" class=\"dataframe\">\n",
       "  <thead>\n",
       "    <tr style=\"text-align: right;\">\n",
       "      <th></th>\n",
       "      <th>TimeOMS</th>\n",
       "      <th>ValueOMS</th>\n",
       "      <th>ValueOOS</th>\n",
       "      <th>ValueRT</th>\n",
       "      <th>ValueST</th>\n",
       "      <th>ValueOAT</th>\n",
       "      <th>AnomalousST</th>\n",
       "      <th>STDeviation</th>\n",
       "      <th>AnomalousOAT</th>\n",
       "      <th>OATDeviation</th>\n",
       "      <th>ValueOAH</th>\n",
       "      <th>HourofDay</th>\n",
       "      <th>Month</th>\n",
       "      <th>Year</th>\n",
       "      <th>DayofWeek</th>\n",
       "      <th>Season</th>\n",
       "      <th>TS</th>\n",
       "      <th>DBScanCluster</th>\n",
       "      <th>LOF</th>\n",
       "    </tr>\n",
       "  </thead>\n",
       "  <tbody>\n",
       "    <tr>\n",
       "      <th>104</th>\n",
       "      <td>2017-12-20 12:10:52</td>\n",
       "      <td>2.0</td>\n",
       "      <td>1.0</td>\n",
       "      <td>19.5</td>\n",
       "      <td>27.0</td>\n",
       "      <td>11.4</td>\n",
       "      <td>1.0</td>\n",
       "      <td>-7.5</td>\n",
       "      <td>0.0</td>\n",
       "      <td>8.1</td>\n",
       "      <td>54.640</td>\n",
       "      <td>12.0</td>\n",
       "      <td>12.0</td>\n",
       "      <td>2017.0</td>\n",
       "      <td>2.0</td>\n",
       "      <td>4</td>\n",
       "      <td>1.513772e+09</td>\n",
       "      <td>-1</td>\n",
       "      <td>-1.253365</td>\n",
       "    </tr>\n",
       "    <tr>\n",
       "      <th>136</th>\n",
       "      <td>2018-01-15 09:40:52</td>\n",
       "      <td>2.0</td>\n",
       "      <td>1.0</td>\n",
       "      <td>18.5</td>\n",
       "      <td>26.0</td>\n",
       "      <td>9.9</td>\n",
       "      <td>1.0</td>\n",
       "      <td>-7.5</td>\n",
       "      <td>0.0</td>\n",
       "      <td>8.6</td>\n",
       "      <td>66.990</td>\n",
       "      <td>9.0</td>\n",
       "      <td>1.0</td>\n",
       "      <td>2018.0</td>\n",
       "      <td>0.0</td>\n",
       "      <td>4</td>\n",
       "      <td>1.516009e+09</td>\n",
       "      <td>-1</td>\n",
       "      <td>-1.284345</td>\n",
       "    </tr>\n",
       "    <tr>\n",
       "      <th>232</th>\n",
       "      <td>2018-01-18 17:10:52</td>\n",
       "      <td>2.0</td>\n",
       "      <td>1.0</td>\n",
       "      <td>26.5</td>\n",
       "      <td>26.0</td>\n",
       "      <td>11.6</td>\n",
       "      <td>0.0</td>\n",
       "      <td>0.5</td>\n",
       "      <td>0.0</td>\n",
       "      <td>14.9</td>\n",
       "      <td>42.355</td>\n",
       "      <td>17.0</td>\n",
       "      <td>1.0</td>\n",
       "      <td>2018.0</td>\n",
       "      <td>3.0</td>\n",
       "      <td>4</td>\n",
       "      <td>1.516295e+09</td>\n",
       "      <td>-1</td>\n",
       "      <td>-1.220959</td>\n",
       "    </tr>\n",
       "    <tr>\n",
       "      <th>237</th>\n",
       "      <td>2018-01-23 17:40:52</td>\n",
       "      <td>2.0</td>\n",
       "      <td>1.0</td>\n",
       "      <td>21.5</td>\n",
       "      <td>26.0</td>\n",
       "      <td>9.8</td>\n",
       "      <td>1.0</td>\n",
       "      <td>-4.5</td>\n",
       "      <td>0.0</td>\n",
       "      <td>11.7</td>\n",
       "      <td>66.340</td>\n",
       "      <td>17.0</td>\n",
       "      <td>1.0</td>\n",
       "      <td>2018.0</td>\n",
       "      <td>1.0</td>\n",
       "      <td>4</td>\n",
       "      <td>1.516729e+09</td>\n",
       "      <td>-1</td>\n",
       "      <td>-1.248768</td>\n",
       "    </tr>\n",
       "    <tr>\n",
       "      <th>239</th>\n",
       "      <td>2018-01-25 16:20:52</td>\n",
       "      <td>2.0</td>\n",
       "      <td>1.0</td>\n",
       "      <td>22.0</td>\n",
       "      <td>26.0</td>\n",
       "      <td>8.4</td>\n",
       "      <td>1.0</td>\n",
       "      <td>-4.0</td>\n",
       "      <td>0.0</td>\n",
       "      <td>13.6</td>\n",
       "      <td>50.805</td>\n",
       "      <td>16.0</td>\n",
       "      <td>1.0</td>\n",
       "      <td>2018.0</td>\n",
       "      <td>3.0</td>\n",
       "      <td>4</td>\n",
       "      <td>1.516897e+09</td>\n",
       "      <td>-1</td>\n",
       "      <td>-1.236529</td>\n",
       "    </tr>\n",
       "  </tbody>\n",
       "</table>\n",
       "</div>"
      ],
      "text/plain": [
       "                TimeOMS  ValueOMS  ValueOOS  ValueRT  ValueST  ValueOAT  \\\n",
       "104 2017-12-20 12:10:52       2.0       1.0     19.5     27.0      11.4   \n",
       "136 2018-01-15 09:40:52       2.0       1.0     18.5     26.0       9.9   \n",
       "232 2018-01-18 17:10:52       2.0       1.0     26.5     26.0      11.6   \n",
       "237 2018-01-23 17:40:52       2.0       1.0     21.5     26.0       9.8   \n",
       "239 2018-01-25 16:20:52       2.0       1.0     22.0     26.0       8.4   \n",
       "\n",
       "     AnomalousST  STDeviation  AnomalousOAT  OATDeviation  ValueOAH  \\\n",
       "104          1.0         -7.5           0.0           8.1    54.640   \n",
       "136          1.0         -7.5           0.0           8.6    66.990   \n",
       "232          0.0          0.5           0.0          14.9    42.355   \n",
       "237          1.0         -4.5           0.0          11.7    66.340   \n",
       "239          1.0         -4.0           0.0          13.6    50.805   \n",
       "\n",
       "     HourofDay  Month    Year  DayofWeek  Season            TS  DBScanCluster  \\\n",
       "104       12.0   12.0  2017.0        2.0       4  1.513772e+09             -1   \n",
       "136        9.0    1.0  2018.0        0.0       4  1.516009e+09             -1   \n",
       "232       17.0    1.0  2018.0        3.0       4  1.516295e+09             -1   \n",
       "237       17.0    1.0  2018.0        1.0       4  1.516729e+09             -1   \n",
       "239       16.0    1.0  2018.0        3.0       4  1.516897e+09             -1   \n",
       "\n",
       "          LOF  \n",
       "104 -1.253365  \n",
       "136 -1.284345  \n",
       "232 -1.220959  \n",
       "237 -1.248768  \n",
       "239 -1.236529  "
      ]
     },
     "execution_count": 48,
     "metadata": {},
     "output_type": "execute_result"
    }
   ],
   "source": [
    "(df_dblof_n).head()"
   ]
  },
  {
   "cell_type": "code",
   "execution_count": null,
   "id": "41ea325e",
   "metadata": {},
   "outputs": [],
   "source": []
  },
  {
   "cell_type": "code",
   "execution_count": 32,
   "id": "d583f10a",
   "metadata": {},
   "outputs": [
    {
     "data": {
      "text/plain": [
       "[104,\n",
       " 136,\n",
       " 232,\n",
       " 237,\n",
       " 239,\n",
       " 245,\n",
       " 250,\n",
       " 265,\n",
       " 266,\n",
       " 267,\n",
       " 306,\n",
       " 307,\n",
       " 359,\n",
       " 360,\n",
       " 361,\n",
       " 362,\n",
       " 363,\n",
       " 374,\n",
       " 375,\n",
       " 376,\n",
       " 377,\n",
       " 378,\n",
       " 380,\n",
       " 416,\n",
       " 417,\n",
       " 450,\n",
       " 451,\n",
       " 452,\n",
       " 479,\n",
       " 480,\n",
       " 481,\n",
       " 482,\n",
       " 483,\n",
       " 484,\n",
       " 485,\n",
       " 486,\n",
       " 487,\n",
       " 521,\n",
       " 522,\n",
       " 523,\n",
       " 524,\n",
       " 726,\n",
       " 727,\n",
       " 728,\n",
       " 729,\n",
       " 730,\n",
       " 731,\n",
       " 732,\n",
       " 785,\n",
       " 887,\n",
       " 891,\n",
       " 892,\n",
       " 893,\n",
       " 894,\n",
       " 895,\n",
       " 896,\n",
       " 897,\n",
       " 924,\n",
       " 926,\n",
       " 927,\n",
       " 1124,\n",
       " 1125,\n",
       " 1128,\n",
       " 1129,\n",
       " 1130,\n",
       " 1131,\n",
       " 1132,\n",
       " 1133,\n",
       " 1134,\n",
       " 1135,\n",
       " 1156,\n",
       " 1230,\n",
       " 1296,\n",
       " 1587,\n",
       " 1605,\n",
       " 1708,\n",
       " 1709,\n",
       " 2015,\n",
       " 2016,\n",
       " 2056,\n",
       " 2057,\n",
       " 2058,\n",
       " 2059,\n",
       " 2060,\n",
       " 2062,\n",
       " 2063,\n",
       " 2124,\n",
       " 2159,\n",
       " 2160,\n",
       " 2161,\n",
       " 2282,\n",
       " 2283,\n",
       " 2284,\n",
       " 2313,\n",
       " 2387,\n",
       " 2388,\n",
       " 2389,\n",
       " 2390,\n",
       " 2391,\n",
       " 2437,\n",
       " 2454,\n",
       " 2517,\n",
       " 2518,\n",
       " 2519,\n",
       " 2816,\n",
       " 2817,\n",
       " 2818,\n",
       " 2819,\n",
       " 2820,\n",
       " 2821,\n",
       " 2875,\n",
       " 2876,\n",
       " 2877,\n",
       " 2878,\n",
       " 2879,\n",
       " 2880,\n",
       " 2881,\n",
       " 2948,\n",
       " 2949,\n",
       " 2950,\n",
       " 2951,\n",
       " 3066,\n",
       " 3162,\n",
       " 3206,\n",
       " 3268,\n",
       " 3269,\n",
       " 3343,\n",
       " 3402,\n",
       " 3405,\n",
       " 3434,\n",
       " 3486,\n",
       " 3487,\n",
       " 3488,\n",
       " 3489,\n",
       " 3490,\n",
       " 3491,\n",
       " 3492,\n",
       " 3493,\n",
       " 3494,\n",
       " 3503,\n",
       " 3504,\n",
       " 3505,\n",
       " 3506,\n",
       " 3553,\n",
       " 3554,\n",
       " 3555,\n",
       " 3556,\n",
       " 3557,\n",
       " 3558,\n",
       " 3559,\n",
       " 3577,\n",
       " 3578,\n",
       " 3591,\n",
       " 3592,\n",
       " 3593,\n",
       " 3594,\n",
       " 3595,\n",
       " 3596,\n",
       " 3597,\n",
       " 3598,\n",
       " 3599,\n",
       " 3600,\n",
       " 3601,\n",
       " 3602,\n",
       " 3603,\n",
       " 3604,\n",
       " 3666,\n",
       " 3667,\n",
       " 3714,\n",
       " 3715,\n",
       " 3716,\n",
       " 3717,\n",
       " 3718,\n",
       " 3719,\n",
       " 3754,\n",
       " 3755,\n",
       " 3793,\n",
       " 3794,\n",
       " 3795,\n",
       " 3851,\n",
       " 3860,\n",
       " 3861,\n",
       " 3862,\n",
       " 3871,\n",
       " 3935,\n",
       " 3937,\n",
       " 3998,\n",
       " 3999,\n",
       " 4000,\n",
       " 4001,\n",
       " 4002,\n",
       " 4223,\n",
       " 4224,\n",
       " 4225,\n",
       " 4226,\n",
       " 4227,\n",
       " 4480,\n",
       " 4493,\n",
       " 4494,\n",
       " 4495,\n",
       " 4496,\n",
       " 4613,\n",
       " 4621,\n",
       " 4622,\n",
       " 4627,\n",
       " 4643,\n",
       " 5292,\n",
       " 5293,\n",
       " 5319,\n",
       " 5320,\n",
       " 5321,\n",
       " 5322,\n",
       " 5323,\n",
       " 5324,\n",
       " 5325,\n",
       " 5404,\n",
       " 5405,\n",
       " 5406,\n",
       " 5407,\n",
       " 5408,\n",
       " 5409,\n",
       " 5543,\n",
       " 5545,\n",
       " 5546,\n",
       " 5547,\n",
       " 5548,\n",
       " 5589,\n",
       " 5628,\n",
       " 5629,\n",
       " 5630,\n",
       " 5631,\n",
       " 5632,\n",
       " 5706,\n",
       " 5707,\n",
       " 5709,\n",
       " 5897,\n",
       " 5910,\n",
       " 5911,\n",
       " 5912,\n",
       " 5913,\n",
       " 5914,\n",
       " 5915,\n",
       " 5916,\n",
       " 5917,\n",
       " 5918,\n",
       " 5919,\n",
       " 5951,\n",
       " 5952,\n",
       " 5953,\n",
       " 5978,\n",
       " 5979,\n",
       " 5980,\n",
       " 6093,\n",
       " 6094,\n",
       " 6095,\n",
       " 6615,\n",
       " 6692,\n",
       " 6693,\n",
       " 6694,\n",
       " 6878,\n",
       " 6879,\n",
       " 7473,\n",
       " 7474,\n",
       " 7475,\n",
       " 7798,\n",
       " 7799,\n",
       " 7879,\n",
       " 7880,\n",
       " 7910,\n",
       " 7911,\n",
       " 7912,\n",
       " 7913,\n",
       " 7965,\n",
       " 8057,\n",
       " 8058,\n",
       " 8059,\n",
       " 8184,\n",
       " 8185,\n",
       " 8186,\n",
       " 8280,\n",
       " 8281,\n",
       " 8282,\n",
       " 8283,\n",
       " 8284,\n",
       " 8285,\n",
       " 8540,\n",
       " 8743,\n",
       " 8744,\n",
       " 8745,\n",
       " 8747,\n",
       " 8780,\n",
       " 8944,\n",
       " 9234,\n",
       " 9614,\n",
       " 9744,\n",
       " 9763,\n",
       " 9764,\n",
       " 9765,\n",
       " 9766,\n",
       " 9767,\n",
       " 9799,\n",
       " 9801,\n",
       " 9802,\n",
       " 9842,\n",
       " 9843,\n",
       " 9844,\n",
       " 9870,\n",
       " 9872,\n",
       " 9873,\n",
       " 9941,\n",
       " 10026,\n",
       " 10045,\n",
       " 10046,\n",
       " 10128,\n",
       " 10129,\n",
       " 10130,\n",
       " 10131,\n",
       " 10132,\n",
       " 10133,\n",
       " 10159,\n",
       " 10214,\n",
       " 10215,\n",
       " 10216,\n",
       " 10217,\n",
       " 10218,\n",
       " 10219,\n",
       " 10220,\n",
       " 10242,\n",
       " 10243,\n",
       " 10407,\n",
       " 10581,\n",
       " 10618,\n",
       " 10672,\n",
       " 10762,\n",
       " 10763,\n",
       " 10853,\n",
       " 10854,\n",
       " 10855,\n",
       " 11048,\n",
       " 11051,\n",
       " 11375,\n",
       " 11887,\n",
       " 11888,\n",
       " 11916,\n",
       " 11918,\n",
       " 11919,\n",
       " 12587,\n",
       " 12591,\n",
       " 12592,\n",
       " 13631,\n",
       " 13632,\n",
       " 13633,\n",
       " 13643,\n",
       " 13644,\n",
       " 13645,\n",
       " 13646,\n",
       " 13877,\n",
       " 13878,\n",
       " 13879,\n",
       " 13880,\n",
       " 13881,\n",
       " 13882,\n",
       " 13883,\n",
       " 13884,\n",
       " 14081,\n",
       " 14082,\n",
       " 14792,\n",
       " 14859,\n",
       " 14860,\n",
       " 14861,\n",
       " 14862,\n",
       " 14974,\n",
       " 15031,\n",
       " 15032,\n",
       " 15033,\n",
       " 15087,\n",
       " 15088,\n",
       " 15089,\n",
       " 15092,\n",
       " 15093,\n",
       " 15159,\n",
       " 15720,\n",
       " 15853,\n",
       " 16381,\n",
       " 16382,\n",
       " 16693,\n",
       " 16695,\n",
       " 16926]"
      ]
     },
     "execution_count": 32,
     "metadata": {},
     "output_type": "execute_result"
    }
   ],
   "source": [
    "\n",
    "(df_dblof_n).index.to_list()"
   ]
  },
  {
   "cell_type": "code",
   "execution_count": 49,
   "id": "48a9a7ed",
   "metadata": {},
   "outputs": [
    {
     "name": "stderr",
     "output_type": "stream",
     "text": [
      "\n",
      "A value is trying to be set on a copy of a slice from a DataFrame\n",
      "\n",
      "See the caveats in the documentation: https://pandas.pydata.org/pandas-docs/stable/user_guide/indexing.html#returning-a-view-versus-a-copy\n"
     ]
    }
   ],
   "source": [
    "df_surrogate= df\n",
    "df_surrogate['anom']=0\n",
    "for idx in (df_dblof_n).index.to_list(): \n",
    "    df_surrogate['anom'].loc[idx]=1\n",
    "    "
   ]
  },
  {
   "cell_type": "code",
   "execution_count": 50,
   "id": "ea684d60",
   "metadata": {},
   "outputs": [
    {
     "data": {
      "text/html": [
       "<div>\n",
       "<style scoped>\n",
       "    .dataframe tbody tr th:only-of-type {\n",
       "        vertical-align: middle;\n",
       "    }\n",
       "\n",
       "    .dataframe tbody tr th {\n",
       "        vertical-align: top;\n",
       "    }\n",
       "\n",
       "    .dataframe thead th {\n",
       "        text-align: right;\n",
       "    }\n",
       "</style>\n",
       "<table border=\"1\" class=\"dataframe\">\n",
       "  <thead>\n",
       "    <tr style=\"text-align: right;\">\n",
       "      <th></th>\n",
       "      <th>TimeOMS</th>\n",
       "      <th>ValueOMS</th>\n",
       "      <th>ValueOOS</th>\n",
       "      <th>ValueRT</th>\n",
       "      <th>ValueST</th>\n",
       "      <th>ValueOAT</th>\n",
       "      <th>AnomalousST</th>\n",
       "      <th>STDeviation</th>\n",
       "      <th>AnomalousOAT</th>\n",
       "      <th>OATDeviation</th>\n",
       "      <th>ValueOAH</th>\n",
       "      <th>HourofDay</th>\n",
       "      <th>Month</th>\n",
       "      <th>Year</th>\n",
       "      <th>DayofWeek</th>\n",
       "      <th>Season</th>\n",
       "      <th>TS</th>\n",
       "      <th>DBScanCluster</th>\n",
       "      <th>anom</th>\n",
       "    </tr>\n",
       "  </thead>\n",
       "  <tbody>\n",
       "    <tr>\n",
       "      <th>104</th>\n",
       "      <td>2017-12-20 12:10:52</td>\n",
       "      <td>2.0</td>\n",
       "      <td>1.0</td>\n",
       "      <td>19.5</td>\n",
       "      <td>27.0</td>\n",
       "      <td>11.4</td>\n",
       "      <td>1.0</td>\n",
       "      <td>-7.5</td>\n",
       "      <td>0.0</td>\n",
       "      <td>8.1</td>\n",
       "      <td>54.640</td>\n",
       "      <td>12.0</td>\n",
       "      <td>12.0</td>\n",
       "      <td>2017.0</td>\n",
       "      <td>2.0</td>\n",
       "      <td>4</td>\n",
       "      <td>1.513772e+09</td>\n",
       "      <td>-1</td>\n",
       "      <td>1</td>\n",
       "    </tr>\n",
       "    <tr>\n",
       "      <th>136</th>\n",
       "      <td>2018-01-15 09:40:52</td>\n",
       "      <td>2.0</td>\n",
       "      <td>1.0</td>\n",
       "      <td>18.5</td>\n",
       "      <td>26.0</td>\n",
       "      <td>9.9</td>\n",
       "      <td>1.0</td>\n",
       "      <td>-7.5</td>\n",
       "      <td>0.0</td>\n",
       "      <td>8.6</td>\n",
       "      <td>66.990</td>\n",
       "      <td>9.0</td>\n",
       "      <td>1.0</td>\n",
       "      <td>2018.0</td>\n",
       "      <td>0.0</td>\n",
       "      <td>4</td>\n",
       "      <td>1.516009e+09</td>\n",
       "      <td>-1</td>\n",
       "      <td>1</td>\n",
       "    </tr>\n",
       "    <tr>\n",
       "      <th>232</th>\n",
       "      <td>2018-01-18 17:10:52</td>\n",
       "      <td>2.0</td>\n",
       "      <td>1.0</td>\n",
       "      <td>26.5</td>\n",
       "      <td>26.0</td>\n",
       "      <td>11.6</td>\n",
       "      <td>0.0</td>\n",
       "      <td>0.5</td>\n",
       "      <td>0.0</td>\n",
       "      <td>14.9</td>\n",
       "      <td>42.355</td>\n",
       "      <td>17.0</td>\n",
       "      <td>1.0</td>\n",
       "      <td>2018.0</td>\n",
       "      <td>3.0</td>\n",
       "      <td>4</td>\n",
       "      <td>1.516295e+09</td>\n",
       "      <td>-1</td>\n",
       "      <td>1</td>\n",
       "    </tr>\n",
       "    <tr>\n",
       "      <th>237</th>\n",
       "      <td>2018-01-23 17:40:52</td>\n",
       "      <td>2.0</td>\n",
       "      <td>1.0</td>\n",
       "      <td>21.5</td>\n",
       "      <td>26.0</td>\n",
       "      <td>9.8</td>\n",
       "      <td>1.0</td>\n",
       "      <td>-4.5</td>\n",
       "      <td>0.0</td>\n",
       "      <td>11.7</td>\n",
       "      <td>66.340</td>\n",
       "      <td>17.0</td>\n",
       "      <td>1.0</td>\n",
       "      <td>2018.0</td>\n",
       "      <td>1.0</td>\n",
       "      <td>4</td>\n",
       "      <td>1.516729e+09</td>\n",
       "      <td>-1</td>\n",
       "      <td>1</td>\n",
       "    </tr>\n",
       "    <tr>\n",
       "      <th>239</th>\n",
       "      <td>2018-01-25 16:20:52</td>\n",
       "      <td>2.0</td>\n",
       "      <td>1.0</td>\n",
       "      <td>22.0</td>\n",
       "      <td>26.0</td>\n",
       "      <td>8.4</td>\n",
       "      <td>1.0</td>\n",
       "      <td>-4.0</td>\n",
       "      <td>0.0</td>\n",
       "      <td>13.6</td>\n",
       "      <td>50.805</td>\n",
       "      <td>16.0</td>\n",
       "      <td>1.0</td>\n",
       "      <td>2018.0</td>\n",
       "      <td>3.0</td>\n",
       "      <td>4</td>\n",
       "      <td>1.516897e+09</td>\n",
       "      <td>-1</td>\n",
       "      <td>1</td>\n",
       "    </tr>\n",
       "    <tr>\n",
       "      <th>...</th>\n",
       "      <td>...</td>\n",
       "      <td>...</td>\n",
       "      <td>...</td>\n",
       "      <td>...</td>\n",
       "      <td>...</td>\n",
       "      <td>...</td>\n",
       "      <td>...</td>\n",
       "      <td>...</td>\n",
       "      <td>...</td>\n",
       "      <td>...</td>\n",
       "      <td>...</td>\n",
       "      <td>...</td>\n",
       "      <td>...</td>\n",
       "      <td>...</td>\n",
       "      <td>...</td>\n",
       "      <td>...</td>\n",
       "      <td>...</td>\n",
       "      <td>...</td>\n",
       "      <td>...</td>\n",
       "    </tr>\n",
       "    <tr>\n",
       "      <th>16381</th>\n",
       "      <td>2020-02-08 00:13:17</td>\n",
       "      <td>2.0</td>\n",
       "      <td>1.0</td>\n",
       "      <td>25.5</td>\n",
       "      <td>28.0</td>\n",
       "      <td>8.4</td>\n",
       "      <td>1.0</td>\n",
       "      <td>-2.5</td>\n",
       "      <td>0.0</td>\n",
       "      <td>17.1</td>\n",
       "      <td>57.955</td>\n",
       "      <td>0.0</td>\n",
       "      <td>2.0</td>\n",
       "      <td>2020.0</td>\n",
       "      <td>5.0</td>\n",
       "      <td>4</td>\n",
       "      <td>1.581121e+09</td>\n",
       "      <td>-1</td>\n",
       "      <td>1</td>\n",
       "    </tr>\n",
       "    <tr>\n",
       "      <th>16382</th>\n",
       "      <td>2020-02-08 00:23:17</td>\n",
       "      <td>2.0</td>\n",
       "      <td>1.0</td>\n",
       "      <td>25.5</td>\n",
       "      <td>28.0</td>\n",
       "      <td>8.4</td>\n",
       "      <td>1.0</td>\n",
       "      <td>-2.5</td>\n",
       "      <td>0.0</td>\n",
       "      <td>17.1</td>\n",
       "      <td>58.995</td>\n",
       "      <td>0.0</td>\n",
       "      <td>2.0</td>\n",
       "      <td>2020.0</td>\n",
       "      <td>5.0</td>\n",
       "      <td>4</td>\n",
       "      <td>1.581121e+09</td>\n",
       "      <td>-1</td>\n",
       "      <td>1</td>\n",
       "    </tr>\n",
       "    <tr>\n",
       "      <th>16693</th>\n",
       "      <td>2020-02-14 23:03:18</td>\n",
       "      <td>2.0</td>\n",
       "      <td>1.0</td>\n",
       "      <td>26.5</td>\n",
       "      <td>28.0</td>\n",
       "      <td>14.8</td>\n",
       "      <td>1.0</td>\n",
       "      <td>-1.5</td>\n",
       "      <td>0.0</td>\n",
       "      <td>11.7</td>\n",
       "      <td>81.615</td>\n",
       "      <td>23.0</td>\n",
       "      <td>2.0</td>\n",
       "      <td>2020.0</td>\n",
       "      <td>4.0</td>\n",
       "      <td>4</td>\n",
       "      <td>1.581721e+09</td>\n",
       "      <td>-1</td>\n",
       "      <td>1</td>\n",
       "    </tr>\n",
       "    <tr>\n",
       "      <th>16695</th>\n",
       "      <td>2020-02-14 23:23:18</td>\n",
       "      <td>2.0</td>\n",
       "      <td>1.0</td>\n",
       "      <td>26.5</td>\n",
       "      <td>28.0</td>\n",
       "      <td>14.8</td>\n",
       "      <td>1.0</td>\n",
       "      <td>-1.5</td>\n",
       "      <td>0.0</td>\n",
       "      <td>11.7</td>\n",
       "      <td>81.615</td>\n",
       "      <td>23.0</td>\n",
       "      <td>2.0</td>\n",
       "      <td>2020.0</td>\n",
       "      <td>4.0</td>\n",
       "      <td>4</td>\n",
       "      <td>1.581723e+09</td>\n",
       "      <td>-1</td>\n",
       "      <td>1</td>\n",
       "    </tr>\n",
       "    <tr>\n",
       "      <th>16926</th>\n",
       "      <td>2020-02-20 15:43:18</td>\n",
       "      <td>2.0</td>\n",
       "      <td>1.0</td>\n",
       "      <td>24.0</td>\n",
       "      <td>28.0</td>\n",
       "      <td>15.6</td>\n",
       "      <td>1.0</td>\n",
       "      <td>-4.0</td>\n",
       "      <td>0.0</td>\n",
       "      <td>8.4</td>\n",
       "      <td>62.050</td>\n",
       "      <td>15.0</td>\n",
       "      <td>2.0</td>\n",
       "      <td>2020.0</td>\n",
       "      <td>3.0</td>\n",
       "      <td>4</td>\n",
       "      <td>1.582213e+09</td>\n",
       "      <td>-1</td>\n",
       "      <td>1</td>\n",
       "    </tr>\n",
       "  </tbody>\n",
       "</table>\n",
       "<p>388 rows × 19 columns</p>\n",
       "</div>"
      ],
      "text/plain": [
       "                  TimeOMS  ValueOMS  ValueOOS  ValueRT  ValueST  ValueOAT  \\\n",
       "104   2017-12-20 12:10:52       2.0       1.0     19.5     27.0      11.4   \n",
       "136   2018-01-15 09:40:52       2.0       1.0     18.5     26.0       9.9   \n",
       "232   2018-01-18 17:10:52       2.0       1.0     26.5     26.0      11.6   \n",
       "237   2018-01-23 17:40:52       2.0       1.0     21.5     26.0       9.8   \n",
       "239   2018-01-25 16:20:52       2.0       1.0     22.0     26.0       8.4   \n",
       "...                   ...       ...       ...      ...      ...       ...   \n",
       "16381 2020-02-08 00:13:17       2.0       1.0     25.5     28.0       8.4   \n",
       "16382 2020-02-08 00:23:17       2.0       1.0     25.5     28.0       8.4   \n",
       "16693 2020-02-14 23:03:18       2.0       1.0     26.5     28.0      14.8   \n",
       "16695 2020-02-14 23:23:18       2.0       1.0     26.5     28.0      14.8   \n",
       "16926 2020-02-20 15:43:18       2.0       1.0     24.0     28.0      15.6   \n",
       "\n",
       "       AnomalousST  STDeviation  AnomalousOAT  OATDeviation  ValueOAH  \\\n",
       "104            1.0         -7.5           0.0           8.1    54.640   \n",
       "136            1.0         -7.5           0.0           8.6    66.990   \n",
       "232            0.0          0.5           0.0          14.9    42.355   \n",
       "237            1.0         -4.5           0.0          11.7    66.340   \n",
       "239            1.0         -4.0           0.0          13.6    50.805   \n",
       "...            ...          ...           ...           ...       ...   \n",
       "16381          1.0         -2.5           0.0          17.1    57.955   \n",
       "16382          1.0         -2.5           0.0          17.1    58.995   \n",
       "16693          1.0         -1.5           0.0          11.7    81.615   \n",
       "16695          1.0         -1.5           0.0          11.7    81.615   \n",
       "16926          1.0         -4.0           0.0           8.4    62.050   \n",
       "\n",
       "       HourofDay  Month    Year  DayofWeek  Season            TS  \\\n",
       "104         12.0   12.0  2017.0        2.0       4  1.513772e+09   \n",
       "136          9.0    1.0  2018.0        0.0       4  1.516009e+09   \n",
       "232         17.0    1.0  2018.0        3.0       4  1.516295e+09   \n",
       "237         17.0    1.0  2018.0        1.0       4  1.516729e+09   \n",
       "239         16.0    1.0  2018.0        3.0       4  1.516897e+09   \n",
       "...          ...    ...     ...        ...     ...           ...   \n",
       "16381        0.0    2.0  2020.0        5.0       4  1.581121e+09   \n",
       "16382        0.0    2.0  2020.0        5.0       4  1.581121e+09   \n",
       "16693       23.0    2.0  2020.0        4.0       4  1.581721e+09   \n",
       "16695       23.0    2.0  2020.0        4.0       4  1.581723e+09   \n",
       "16926       15.0    2.0  2020.0        3.0       4  1.582213e+09   \n",
       "\n",
       "       DBScanCluster  anom  \n",
       "104               -1     1  \n",
       "136               -1     1  \n",
       "232               -1     1  \n",
       "237               -1     1  \n",
       "239               -1     1  \n",
       "...              ...   ...  \n",
       "16381             -1     1  \n",
       "16382             -1     1  \n",
       "16693             -1     1  \n",
       "16695             -1     1  \n",
       "16926             -1     1  \n",
       "\n",
       "[388 rows x 19 columns]"
      ]
     },
     "execution_count": 50,
     "metadata": {},
     "output_type": "execute_result"
    }
   ],
   "source": [
    "df_surrogate[df_surrogate['anom']==1]"
   ]
  },
  {
   "cell_type": "code",
   "execution_count": null,
   "id": "1ba267a6",
   "metadata": {},
   "outputs": [],
   "source": []
  },
  {
   "cell_type": "code",
   "execution_count": 89,
   "id": "28494c10",
   "metadata": {},
   "outputs": [
    {
     "data": {
      "text/plain": [
       "5017"
      ]
     },
     "execution_count": 89,
     "metadata": {},
     "output_type": "execute_result"
    }
   ],
   "source": [
    "len(df_dbnoise)"
   ]
  },
  {
   "cell_type": "code",
   "execution_count": 51,
   "id": "e6a7804b",
   "metadata": {},
   "outputs": [
    {
     "data": {
      "text/plain": [
       "2       -1.112846\n",
       "3       -1.072922\n",
       "4       -1.037297\n",
       "5       -1.044922\n",
       "6       -1.038174\n",
       "           ...   \n",
       "16952   -1.031160\n",
       "16954   -1.000189\n",
       "16955   -0.995842\n",
       "16956   -1.096745\n",
       "16957   -1.015794\n",
       "Name: LOF, Length: 5017, dtype: float64"
      ]
     },
     "execution_count": 51,
     "metadata": {},
     "output_type": "execute_result"
    }
   ],
   "source": [
    "df_dbnoise['LOF']"
   ]
  },
  {
   "cell_type": "code",
   "execution_count": 52,
   "id": "5cc26c18",
   "metadata": {},
   "outputs": [],
   "source": [
    "def lof_score(x):\n",
    "    if x<=-1.2:\n",
    "        y=1\n",
    "    else:\n",
    "        y=0\n",
    "    return y\n"
   ]
  },
  {
   "cell_type": "code",
   "execution_count": 53,
   "id": "82ee9643",
   "metadata": {
    "scrolled": true
   },
   "outputs": [
    {
     "name": "stdout",
     "output_type": "stream",
     "text": [
      "2        0\n",
      "3        0\n",
      "4        0\n",
      "5        0\n",
      "6        0\n",
      "        ..\n",
      "16952    0\n",
      "16954    0\n",
      "16955    0\n",
      "16956    0\n",
      "16957    0\n",
      "Name: LOF_shap, Length: 5017, dtype: int64\n",
      "2        0\n",
      "3        0\n",
      "4        0\n",
      "5        0\n",
      "6        0\n",
      "        ..\n",
      "16952    0\n",
      "16954    0\n",
      "16955    0\n",
      "16956    0\n",
      "16957    0\n",
      "Name: LOF_shap, Length: 5017, dtype: int64\n"
     ]
    },
    {
     "name": "stderr",
     "output_type": "stream",
     "text": [
      "\n",
      "A value is trying to be set on a copy of a slice from a DataFrame.\n",
      "Try using .loc[row_indexer,col_indexer] = value instead\n",
      "\n",
      "See the caveats in the documentation: https://pandas.pydata.org/pandas-docs/stable/user_guide/indexing.html#returning-a-view-versus-a-copy\n",
      "\n",
      "A value is trying to be set on a copy of a slice from a DataFrame.\n",
      "Try using .loc[row_indexer,col_indexer] = value instead\n",
      "\n",
      "See the caveats in the documentation: https://pandas.pydata.org/pandas-docs/stable/user_guide/indexing.html#returning-a-view-versus-a-copy\n"
     ]
    }
   ],
   "source": [
    "df_dbnoise['LOF_shap']=0\n",
    "print(df_dbnoise['LOF_shap'])\n",
    "df_dbnoise['LOF_shap']=df_dbnoise['LOF'].apply(lambda x:lof_score(x))\n",
    "print(df_dbnoise['LOF_shap'])\n"
   ]
  },
  {
   "cell_type": "code",
   "execution_count": 54,
   "id": "e2aed4d6",
   "metadata": {},
   "outputs": [
    {
     "data": {
      "text/plain": [
       "0    4629\n",
       "1     388\n",
       "Name: LOF_shap, dtype: int64"
      ]
     },
     "execution_count": 54,
     "metadata": {},
     "output_type": "execute_result"
    }
   ],
   "source": [
    "df_dbnoise['LOF_shap'].value_counts()"
   ]
  },
  {
   "cell_type": "code",
   "execution_count": 55,
   "id": "3f13c88e",
   "metadata": {},
   "outputs": [
    {
     "data": {
      "text/html": [
       "<div>\n",
       "<style scoped>\n",
       "    .dataframe tbody tr th:only-of-type {\n",
       "        vertical-align: middle;\n",
       "    }\n",
       "\n",
       "    .dataframe tbody tr th {\n",
       "        vertical-align: top;\n",
       "    }\n",
       "\n",
       "    .dataframe thead th {\n",
       "        text-align: right;\n",
       "    }\n",
       "</style>\n",
       "<table border=\"1\" class=\"dataframe\">\n",
       "  <thead>\n",
       "    <tr style=\"text-align: right;\">\n",
       "      <th></th>\n",
       "      <th>ValueOMS</th>\n",
       "      <th>ValueRT</th>\n",
       "      <th>ValueST</th>\n",
       "      <th>ValueOAT</th>\n",
       "      <th>STDeviation</th>\n",
       "      <th>OATDeviation</th>\n",
       "      <th>ValueOAH</th>\n",
       "      <th>HourofDay</th>\n",
       "      <th>Season</th>\n",
       "      <th>TS</th>\n",
       "    </tr>\n",
       "  </thead>\n",
       "  <tbody>\n",
       "    <tr>\n",
       "      <th>2</th>\n",
       "      <td>2.0</td>\n",
       "      <td>20.0</td>\n",
       "      <td>25.0</td>\n",
       "      <td>14.6</td>\n",
       "      <td>-5.0</td>\n",
       "      <td>5.4</td>\n",
       "      <td>55.42</td>\n",
       "      <td>10.0</td>\n",
       "      <td>4</td>\n",
       "      <td>1.512989e+09</td>\n",
       "    </tr>\n",
       "    <tr>\n",
       "      <th>3</th>\n",
       "      <td>2.0</td>\n",
       "      <td>20.5</td>\n",
       "      <td>25.0</td>\n",
       "      <td>14.6</td>\n",
       "      <td>-4.5</td>\n",
       "      <td>5.9</td>\n",
       "      <td>56.46</td>\n",
       "      <td>10.0</td>\n",
       "      <td>4</td>\n",
       "      <td>1.512989e+09</td>\n",
       "    </tr>\n",
       "    <tr>\n",
       "      <th>4</th>\n",
       "      <td>2.0</td>\n",
       "      <td>21.0</td>\n",
       "      <td>25.0</td>\n",
       "      <td>14.6</td>\n",
       "      <td>-4.0</td>\n",
       "      <td>6.4</td>\n",
       "      <td>56.46</td>\n",
       "      <td>11.0</td>\n",
       "      <td>4</td>\n",
       "      <td>1.512990e+09</td>\n",
       "    </tr>\n",
       "    <tr>\n",
       "      <th>5</th>\n",
       "      <td>2.0</td>\n",
       "      <td>21.0</td>\n",
       "      <td>25.0</td>\n",
       "      <td>14.6</td>\n",
       "      <td>-4.0</td>\n",
       "      <td>6.4</td>\n",
       "      <td>55.42</td>\n",
       "      <td>11.0</td>\n",
       "      <td>4</td>\n",
       "      <td>1.512991e+09</td>\n",
       "    </tr>\n",
       "    <tr>\n",
       "      <th>6</th>\n",
       "      <td>2.0</td>\n",
       "      <td>21.5</td>\n",
       "      <td>25.0</td>\n",
       "      <td>15.1</td>\n",
       "      <td>-3.5</td>\n",
       "      <td>6.4</td>\n",
       "      <td>56.46</td>\n",
       "      <td>11.0</td>\n",
       "      <td>4</td>\n",
       "      <td>1.512991e+09</td>\n",
       "    </tr>\n",
       "    <tr>\n",
       "      <th>...</th>\n",
       "      <td>...</td>\n",
       "      <td>...</td>\n",
       "      <td>...</td>\n",
       "      <td>...</td>\n",
       "      <td>...</td>\n",
       "      <td>...</td>\n",
       "      <td>...</td>\n",
       "      <td>...</td>\n",
       "      <td>...</td>\n",
       "      <td>...</td>\n",
       "    </tr>\n",
       "    <tr>\n",
       "      <th>16952</th>\n",
       "      <td>2.0</td>\n",
       "      <td>26.0</td>\n",
       "      <td>26.5</td>\n",
       "      <td>13.1</td>\n",
       "      <td>-0.5</td>\n",
       "      <td>12.9</td>\n",
       "      <td>71.41</td>\n",
       "      <td>20.0</td>\n",
       "      <td>4</td>\n",
       "      <td>1.582231e+09</td>\n",
       "    </tr>\n",
       "    <tr>\n",
       "      <th>16954</th>\n",
       "      <td>2.0</td>\n",
       "      <td>25.5</td>\n",
       "      <td>26.5</td>\n",
       "      <td>13.1</td>\n",
       "      <td>-1.0</td>\n",
       "      <td>12.4</td>\n",
       "      <td>70.37</td>\n",
       "      <td>21.0</td>\n",
       "      <td>4</td>\n",
       "      <td>1.582233e+09</td>\n",
       "    </tr>\n",
       "    <tr>\n",
       "      <th>16955</th>\n",
       "      <td>2.0</td>\n",
       "      <td>25.5</td>\n",
       "      <td>26.5</td>\n",
       "      <td>13.1</td>\n",
       "      <td>-1.0</td>\n",
       "      <td>12.4</td>\n",
       "      <td>69.33</td>\n",
       "      <td>21.0</td>\n",
       "      <td>4</td>\n",
       "      <td>1.582233e+09</td>\n",
       "    </tr>\n",
       "    <tr>\n",
       "      <th>16956</th>\n",
       "      <td>2.0</td>\n",
       "      <td>25.0</td>\n",
       "      <td>26.5</td>\n",
       "      <td>13.1</td>\n",
       "      <td>-1.5</td>\n",
       "      <td>11.9</td>\n",
       "      <td>70.37</td>\n",
       "      <td>21.0</td>\n",
       "      <td>4</td>\n",
       "      <td>1.582234e+09</td>\n",
       "    </tr>\n",
       "    <tr>\n",
       "      <th>16957</th>\n",
       "      <td>2.0</td>\n",
       "      <td>25.5</td>\n",
       "      <td>26.5</td>\n",
       "      <td>12.6</td>\n",
       "      <td>-1.0</td>\n",
       "      <td>12.9</td>\n",
       "      <td>70.37</td>\n",
       "      <td>21.0</td>\n",
       "      <td>4</td>\n",
       "      <td>1.582234e+09</td>\n",
       "    </tr>\n",
       "  </tbody>\n",
       "</table>\n",
       "<p>5017 rows × 10 columns</p>\n",
       "</div>"
      ],
      "text/plain": [
       "       ValueOMS  ValueRT  ValueST  ValueOAT  STDeviation  OATDeviation  \\\n",
       "2           2.0     20.0     25.0      14.6         -5.0           5.4   \n",
       "3           2.0     20.5     25.0      14.6         -4.5           5.9   \n",
       "4           2.0     21.0     25.0      14.6         -4.0           6.4   \n",
       "5           2.0     21.0     25.0      14.6         -4.0           6.4   \n",
       "6           2.0     21.5     25.0      15.1         -3.5           6.4   \n",
       "...         ...      ...      ...       ...          ...           ...   \n",
       "16952       2.0     26.0     26.5      13.1         -0.5          12.9   \n",
       "16954       2.0     25.5     26.5      13.1         -1.0          12.4   \n",
       "16955       2.0     25.5     26.5      13.1         -1.0          12.4   \n",
       "16956       2.0     25.0     26.5      13.1         -1.5          11.9   \n",
       "16957       2.0     25.5     26.5      12.6         -1.0          12.9   \n",
       "\n",
       "       ValueOAH  HourofDay  Season            TS  \n",
       "2         55.42       10.0       4  1.512989e+09  \n",
       "3         56.46       10.0       4  1.512989e+09  \n",
       "4         56.46       11.0       4  1.512990e+09  \n",
       "5         55.42       11.0       4  1.512991e+09  \n",
       "6         56.46       11.0       4  1.512991e+09  \n",
       "...         ...        ...     ...           ...  \n",
       "16952     71.41       20.0       4  1.582231e+09  \n",
       "16954     70.37       21.0       4  1.582233e+09  \n",
       "16955     69.33       21.0       4  1.582233e+09  \n",
       "16956     70.37       21.0       4  1.582234e+09  \n",
       "16957     70.37       21.0       4  1.582234e+09  \n",
       "\n",
       "[5017 rows x 10 columns]"
      ]
     },
     "execution_count": 55,
     "metadata": {},
     "output_type": "execute_result"
    }
   ],
   "source": [
    "df_dblof"
   ]
  },
  {
   "cell_type": "code",
   "execution_count": null,
   "id": "c8638889",
   "metadata": {},
   "outputs": [],
   "source": []
  },
  {
   "cell_type": "code",
   "execution_count": 78,
   "id": "88fccc18",
   "metadata": {},
   "outputs": [
    {
     "data": {
      "text/plain": [
       "RandomForestClassifier()"
      ]
     },
     "execution_count": 78,
     "metadata": {},
     "output_type": "execute_result"
    }
   ],
   "source": [
    "from sklearn.ensemble import RandomForestClassifier\n",
    "#from sklearn.preprocessing import label_binarize\n",
    "#y=db.fit(X_db).labels_\n",
    "#y=label_binarize(y, classes=[0,-1])\n",
    "#X_shap= df_shap.drop('DBScanCluster', axis=1)\n",
    "y_shap=df_dbnoise['LOF_shap']\n",
    "rfc1=RandomForestClassifier()\n",
    "rfc1.fit(df_dblof,y_shap)"
   ]
  },
  {
   "cell_type": "code",
   "execution_count": 79,
   "id": "af00ce33",
   "metadata": {},
   "outputs": [
    {
     "data": {
      "text/plain": [
       "Text(0.5, 1.0, 'Feature Importances Using Random Forest Classifier (DBSCAN-LOF Subset)')"
      ]
     },
     "execution_count": 79,
     "metadata": {},
     "output_type": "execute_result"
    },
    {
     "data": {
      "image/png": "[encoded data removed]",
      "text/plain": [
       "<Figure size 864x432 with 1 Axes>"
      ]
     },
     "metadata": {},
     "output_type": "display_data"
    }
   ],
   "source": [
    "sorted_idx = rfc1.feature_importances_.argsort()\n",
    "plt.barh(df_dblof.columns[sorted_idx], rfc1.feature_importances_[sorted_idx])\n",
    "plt.xlabel(\"Random Forest Feature Importance\")\n",
    "\n",
    "plt.title('Feature Importances Using Random Forest Classifier (DBSCAN-LOF Subset)')"
   ]
  },
  {
   "cell_type": "code",
   "execution_count": 59,
   "id": "caa78b04",
   "metadata": {},
   "outputs": [],
   "source": [
    "from sklearn.metrics import accuracy_score"
   ]
  },
  {
   "cell_type": "code",
   "execution_count": null,
   "id": "baaad41e",
   "metadata": {},
   "outputs": [],
   "source": [
    "accuracy_score(y_true, y_pred)"
   ]
  },
  {
   "cell_type": "code",
   "execution_count": 60,
   "id": "2975385a",
   "metadata": {},
   "outputs": [],
   "source": [
    "import shap\n",
    "explainer= shap.TreeExplainer(rfc)\n",
    "shap_values = explainer(df_dblof)\n"
   ]
  },
  {
   "cell_type": "code",
   "execution_count": 61,
   "id": "5d207548",
   "metadata": {},
   "outputs": [
    {
     "data": {
      "text/plain": [
       "(5017, 10, 2)"
      ]
     },
     "execution_count": 61,
     "metadata": {},
     "output_type": "execute_result"
    }
   ],
   "source": [
    "shap_values.shape"
   ]
  },
  {
   "cell_type": "code",
   "execution_count": 80,
   "id": "c49a5a98",
   "metadata": {},
   "outputs": [
    {
     "data": {
      "image/png": "[encoded data removed]",
      "text/plain": [
       "<Figure size 576x468 with 1 Axes>"
      ]
     },
     "metadata": {},
     "output_type": "display_data"
    }
   ],
   "source": [
    "shap.plots.bar(shap_values[:,:,1])\n"
   ]
  },
  {
   "cell_type": "code",
   "execution_count": 65,
   "id": "20973a55",
   "metadata": {},
   "outputs": [
    {
     "data": {
      "image/png": "[encoded data removed]",
      "text/plain": [
       "<Figure size 576x396 with 2 Axes>"
      ]
     },
     "metadata": {},
     "output_type": "display_data"
    }
   ],
   "source": [
    "shap.plots.beeswarm(shap_values[:,:,1])"
   ]
  },
  {
   "cell_type": "code",
   "execution_count": 53,
   "id": "d3556877",
   "metadata": {},
   "outputs": [
    {
     "data": {
      "text/plain": [
       "TimeOMS          datetime64[ns]\n",
       "ValueOMS                float64\n",
       "ValueOOS                float64\n",
       "ValueRT                 float64\n",
       "ValueST                 float64\n",
       "ValueOAT                float64\n",
       "AnomalousST             float64\n",
       "STDeviation             float64\n",
       "AnomalousOAT            float64\n",
       "OATDeviation            float64\n",
       "ValueOAH                float64\n",
       "HourofDay               float64\n",
       "Month                   float64\n",
       "Year                    float64\n",
       "DayofWeek               float64\n",
       "Season                    int64\n",
       "TS                      float64\n",
       "DBScanCluster             int64\n",
       "LOF                     float64\n",
       "dtype: object"
      ]
     },
     "execution_count": 53,
     "metadata": {},
     "output_type": "execute_result"
    }
   ],
   "source": [
    "df_dblof_n.dtypes"
   ]
  },
  {
   "cell_type": "code",
   "execution_count": 54,
   "id": "b3881389",
   "metadata": {},
   "outputs": [
    {
     "data": {
      "text/plain": [
       "<matplotlib.legend.Legend at 0x1cecb5e59d0>"
      ]
     },
     "execution_count": 54,
     "metadata": {},
     "output_type": "execute_result"
    },
    {
     "data": {
      "image/png": "[encoded data removed]",
      "text/plain": [
       "<Figure size 864x432 with 1 Axes>"
      ]
     },
     "metadata": {},
     "output_type": "display_data"
    }
   ],
   "source": [
    "sns.scatterplot(data=df_dblof_n, x='TimeOMS', y='ValueRT', color='red')\n",
    "sns.scatterplot(data=df_dblof_n, x='TimeOMS', y='ValueST', alpha=0.3)\n",
    "plt.title('Set point temp and Room temperature')\n",
    "plt.ylabel('Temperature (degrees celsius)')\n",
    "plt.xlabel('Time')\n",
    "plt.legend(['Room Temp','Set Temp'])"
   ]
  },
  {
   "cell_type": "code",
   "execution_count": 55,
   "id": "2e581beb",
   "metadata": {},
   "outputs": [
    {
     "data": {
      "text/plain": [
       "Text(0.5, 0, 'Time')"
      ]
     },
     "execution_count": 55,
     "metadata": {},
     "output_type": "execute_result"
    },
    {
     "data": {
      "image/png": "[encoded data removed]",
      "text/plain": [
       "<Figure size 864x432 with 1 Axes>"
      ]
     },
     "metadata": {},
     "output_type": "display_data"
    }
   ],
   "source": [
    "sns.scatterplot(data=df_dblof_n, x='TimeOMS', y='HourofDay', hue='ValueOMS')\n",
    "plt.title('Anomalies on the Hour of Day based on the Operation Mode')\n",
    "plt.ylabel('Hour of Day')\n",
    "plt.xlabel('Time')\n",
    "#plt.legend(['Room Temp','Set Temp'])"
   ]
  },
  {
   "cell_type": "markdown",
   "id": "2594df09",
   "metadata": {},
   "source": [
    "### LOF "
   ]
  },
  {
   "cell_type": "code",
   "execution_count": 56,
   "id": "b559602f",
   "metadata": {},
   "outputs": [],
   "source": [
    "from sklearn.neighbors import LocalOutlierFactor \n",
    "# fit the model for outlier detection (default)\n",
    "clf = LocalOutlierFactor(n_neighbors=20)\n",
    "# use fit_predict to compute the predicted labels of the training samples\n",
    "# (when LOF is used for outlier detection, the estimator has no predict,\n",
    "# decision_function and score_samples methods).\n",
    "y_pred = clf.fit_predict(X_db)\n",
    "X_scores = clf.negative_outlier_factor_\n",
    "clfoffset=clf.offset_"
   ]
  },
  {
   "cell_type": "code",
   "execution_count": 57,
   "id": "3139e883",
   "metadata": {},
   "outputs": [
    {
     "data": {
      "text/plain": [
       "<AxesSubplot:>"
      ]
     },
     "execution_count": 57,
     "metadata": {},
     "output_type": "execute_result"
    },
    {
     "data": {
      "image/png": "[encoded data removed]",
      "text/plain": [
       "<Figure size 864x432 with 1 Axes>"
      ]
     },
     "metadata": {},
     "output_type": "display_data"
    }
   ],
   "source": [
    "sns.boxplot(data=X_scores)\n",
    "#plt.ylim(-1.7,0)"
   ]
  },
  {
   "cell_type": "code",
   "execution_count": 58,
   "id": "4cebbae5",
   "metadata": {},
   "outputs": [
    {
     "data": {
      "text/plain": [
       "(-1.3, 0.0)"
      ]
     },
     "execution_count": 58,
     "metadata": {},
     "output_type": "execute_result"
    },
    {
     "data": {
      "image/png": "[encoded data removed]",
      "text/plain": [
       "<Figure size 864x432 with 1 Axes>"
      ]
     },
     "metadata": {},
     "output_type": "display_data"
    }
   ],
   "source": [
    "sns.boxplot(data=X_scores)\n",
    "plt.ylim(-1.3,0)"
   ]
  },
  {
   "cell_type": "code",
   "execution_count": 59,
   "id": "f757e0fe",
   "metadata": {},
   "outputs": [
    {
     "data": {
      "text/plain": [
       "array([[    0, 15697],\n",
       "       [    1,  1257]], dtype=int64)"
      ]
     },
     "execution_count": 59,
     "metadata": {},
     "output_type": "execute_result"
    }
   ],
   "source": [
    "w=((X_scores)<=-1.2)\n",
    "unique, counts = np.unique(w, return_counts=True)\n",
    "\n",
    "np.asarray((unique, counts)).T"
   ]
  },
  {
   "cell_type": "code",
   "execution_count": 60,
   "id": "225f56f8",
   "metadata": {},
   "outputs": [
    {
     "data": {
      "text/html": [
       "<div>\n",
       "<style scoped>\n",
       "    .dataframe tbody tr th:only-of-type {\n",
       "        vertical-align: middle;\n",
       "    }\n",
       "\n",
       "    .dataframe tbody tr th {\n",
       "        vertical-align: top;\n",
       "    }\n",
       "\n",
       "    .dataframe thead th {\n",
       "        text-align: right;\n",
       "    }\n",
       "</style>\n",
       "<table border=\"1\" class=\"dataframe\">\n",
       "  <thead>\n",
       "    <tr style=\"text-align: right;\">\n",
       "      <th></th>\n",
       "      <th>TimeOMS</th>\n",
       "      <th>ValueOMS</th>\n",
       "      <th>ValueOOS</th>\n",
       "      <th>ValueRT</th>\n",
       "      <th>ValueST</th>\n",
       "      <th>ValueOAT</th>\n",
       "      <th>AnomalousST</th>\n",
       "      <th>STDeviation</th>\n",
       "      <th>AnomalousOAT</th>\n",
       "      <th>OATDeviation</th>\n",
       "      <th>ValueOAH</th>\n",
       "      <th>HourofDay</th>\n",
       "      <th>Month</th>\n",
       "      <th>Year</th>\n",
       "      <th>DayofWeek</th>\n",
       "      <th>Season</th>\n",
       "      <th>TS</th>\n",
       "      <th>DBScanCluster</th>\n",
       "      <th>LOF</th>\n",
       "    </tr>\n",
       "  </thead>\n",
       "  <tbody>\n",
       "    <tr>\n",
       "      <th>0</th>\n",
       "      <td>2017-12-08 16:00:52</td>\n",
       "      <td>2.0</td>\n",
       "      <td>1.0</td>\n",
       "      <td>24.5</td>\n",
       "      <td>26.0</td>\n",
       "      <td>15.1</td>\n",
       "      <td>1.0</td>\n",
       "      <td>-1.5</td>\n",
       "      <td>0.0</td>\n",
       "      <td>9.4</td>\n",
       "      <td>62.895</td>\n",
       "      <td>16.0</td>\n",
       "      <td>12.0</td>\n",
       "      <td>2017.0</td>\n",
       "      <td>4.0</td>\n",
       "      <td>4</td>\n",
       "      <td>1.512749e+09</td>\n",
       "      <td>0</td>\n",
       "      <td>-0.967571</td>\n",
       "    </tr>\n",
       "    <tr>\n",
       "      <th>1</th>\n",
       "      <td>2017-12-08 16:10:52</td>\n",
       "      <td>2.0</td>\n",
       "      <td>1.0</td>\n",
       "      <td>24.5</td>\n",
       "      <td>26.0</td>\n",
       "      <td>15.6</td>\n",
       "      <td>1.0</td>\n",
       "      <td>-1.5</td>\n",
       "      <td>0.0</td>\n",
       "      <td>8.9</td>\n",
       "      <td>62.895</td>\n",
       "      <td>16.0</td>\n",
       "      <td>12.0</td>\n",
       "      <td>2017.0</td>\n",
       "      <td>4.0</td>\n",
       "      <td>4</td>\n",
       "      <td>1.512749e+09</td>\n",
       "      <td>0</td>\n",
       "      <td>-0.961414</td>\n",
       "    </tr>\n",
       "    <tr>\n",
       "      <th>2</th>\n",
       "      <td>2017-12-11 10:40:52</td>\n",
       "      <td>2.0</td>\n",
       "      <td>1.0</td>\n",
       "      <td>20.0</td>\n",
       "      <td>25.0</td>\n",
       "      <td>14.6</td>\n",
       "      <td>1.0</td>\n",
       "      <td>-5.0</td>\n",
       "      <td>0.0</td>\n",
       "      <td>5.4</td>\n",
       "      <td>55.420</td>\n",
       "      <td>10.0</td>\n",
       "      <td>12.0</td>\n",
       "      <td>2017.0</td>\n",
       "      <td>0.0</td>\n",
       "      <td>4</td>\n",
       "      <td>1.512989e+09</td>\n",
       "      <td>-1</td>\n",
       "      <td>-1.113261</td>\n",
       "    </tr>\n",
       "    <tr>\n",
       "      <th>3</th>\n",
       "      <td>2017-12-11 10:50:52</td>\n",
       "      <td>2.0</td>\n",
       "      <td>1.0</td>\n",
       "      <td>20.5</td>\n",
       "      <td>25.0</td>\n",
       "      <td>14.6</td>\n",
       "      <td>1.0</td>\n",
       "      <td>-4.5</td>\n",
       "      <td>0.0</td>\n",
       "      <td>5.9</td>\n",
       "      <td>56.460</td>\n",
       "      <td>10.0</td>\n",
       "      <td>12.0</td>\n",
       "      <td>2017.0</td>\n",
       "      <td>0.0</td>\n",
       "      <td>4</td>\n",
       "      <td>1.512989e+09</td>\n",
       "      <td>-1</td>\n",
       "      <td>-1.073373</td>\n",
       "    </tr>\n",
       "    <tr>\n",
       "      <th>4</th>\n",
       "      <td>2017-12-11 11:00:52</td>\n",
       "      <td>2.0</td>\n",
       "      <td>1.0</td>\n",
       "      <td>21.0</td>\n",
       "      <td>25.0</td>\n",
       "      <td>14.6</td>\n",
       "      <td>1.0</td>\n",
       "      <td>-4.0</td>\n",
       "      <td>0.0</td>\n",
       "      <td>6.4</td>\n",
       "      <td>56.460</td>\n",
       "      <td>11.0</td>\n",
       "      <td>12.0</td>\n",
       "      <td>2017.0</td>\n",
       "      <td>0.0</td>\n",
       "      <td>4</td>\n",
       "      <td>1.512990e+09</td>\n",
       "      <td>-1</td>\n",
       "      <td>-1.038468</td>\n",
       "    </tr>\n",
       "  </tbody>\n",
       "</table>\n",
       "</div>"
      ],
      "text/plain": [
       "              TimeOMS  ValueOMS  ValueOOS  ValueRT  ValueST  ValueOAT  \\\n",
       "0 2017-12-08 16:00:52       2.0       1.0     24.5     26.0      15.1   \n",
       "1 2017-12-08 16:10:52       2.0       1.0     24.5     26.0      15.6   \n",
       "2 2017-12-11 10:40:52       2.0       1.0     20.0     25.0      14.6   \n",
       "3 2017-12-11 10:50:52       2.0       1.0     20.5     25.0      14.6   \n",
       "4 2017-12-11 11:00:52       2.0       1.0     21.0     25.0      14.6   \n",
       "\n",
       "   AnomalousST  STDeviation  AnomalousOAT  OATDeviation  ValueOAH  HourofDay  \\\n",
       "0          1.0         -1.5           0.0           9.4    62.895       16.0   \n",
       "1          1.0         -1.5           0.0           8.9    62.895       16.0   \n",
       "2          1.0         -5.0           0.0           5.4    55.420       10.0   \n",
       "3          1.0         -4.5           0.0           5.9    56.460       10.0   \n",
       "4          1.0         -4.0           0.0           6.4    56.460       11.0   \n",
       "\n",
       "   Month    Year  DayofWeek  Season            TS  DBScanCluster       LOF  \n",
       "0   12.0  2017.0        4.0       4  1.512749e+09              0 -0.967571  \n",
       "1   12.0  2017.0        4.0       4  1.512749e+09              0 -0.961414  \n",
       "2   12.0  2017.0        0.0       4  1.512989e+09             -1 -1.113261  \n",
       "3   12.0  2017.0        0.0       4  1.512989e+09             -1 -1.073373  \n",
       "4   12.0  2017.0        0.0       4  1.512990e+09             -1 -1.038468  "
      ]
     },
     "execution_count": 60,
     "metadata": {},
     "output_type": "execute_result"
    }
   ],
   "source": [
    "df['LOF']=(X_scores)\n",
    "df.head()"
   ]
  },
  {
   "cell_type": "code",
   "execution_count": 61,
   "id": "b49a642a",
   "metadata": {},
   "outputs": [],
   "source": [
    "df_lof1=df[df['LOF']<=-1.2]\n",
    "df_lof1.to_csv('lof_anomalies1.csv')\n",
    "df_lofnormal=df[df['LOF']>clfoffset]\n",
    "df_lofnormal.to_csv('lof_normal.csv')"
   ]
  },
  {
   "cell_type": "code",
   "execution_count": 62,
   "id": "d1db1203",
   "metadata": {},
   "outputs": [
    {
     "name": "stdout",
     "output_type": "stream",
     "text": [
      "Silhouette Coefficient: 0.075\n",
      "0.07455433665671136\n",
      "calinski harabasz score\n",
      "10.813960898231802\n",
      "davies bouldin\n",
      "8.08248072844188\n"
     ]
    }
   ],
   "source": [
    "print(\"Silhouette Coefficient: %0.3f\" % metrics.silhouette_score(X_db, y_pred))\n",
    "print(metrics.silhouette_score(X_db, y_pred))\n",
    "print('calinski harabasz score')\n",
    "print(metrics.calinski_harabasz_score(X_db, y_pred))\n",
    "print('davies bouldin')\n",
    "print(davies_bouldin_score(X_db, y_pred))\n",
    "# #############################################################################\n",
    "# Plot result\n"
   ]
  },
  {
   "cell_type": "code",
   "execution_count": 63,
   "id": "3caf3a4f",
   "metadata": {},
   "outputs": [
    {
     "name": "stdout",
     "output_type": "stream",
     "text": [
      "2        0\n",
      "3        0\n",
      "4        0\n",
      "5        0\n",
      "6        0\n",
      "        ..\n",
      "16952    0\n",
      "16954    0\n",
      "16955    0\n",
      "16956    0\n",
      "16957    0\n",
      "Name: LOF_shap, Length: 5017, dtype: int64\n",
      "0        0\n",
      "1        0\n",
      "2        0\n",
      "3        0\n",
      "4        0\n",
      "        ..\n",
      "16953    0\n",
      "16954    0\n",
      "16955    0\n",
      "16956    1\n",
      "16957    0\n",
      "Name: LOF_shap, Length: 16954, dtype: int64\n"
     ]
    }
   ],
   "source": [
    "df['LOF_shap']=0\n",
    "print(df_dbnoise['LOF_shap'])\n",
    "df['LOF_shap']=df['LOF'].apply(lambda x:lof_score(x))\n",
    "print(df['LOF_shap'])"
   ]
  },
  {
   "cell_type": "code",
   "execution_count": 64,
   "id": "0ac24eb6",
   "metadata": {
    "scrolled": true
   },
   "outputs": [
    {
     "data": {
      "text/plain": [
       "0    15697\n",
       "1     1257\n",
       "Name: LOF_shap, dtype: int64"
      ]
     },
     "execution_count": 64,
     "metadata": {},
     "output_type": "execute_result"
    }
   ],
   "source": [
    "(df['LOF_shap']).value_counts()"
   ]
  },
  {
   "cell_type": "code",
   "execution_count": 65,
   "id": "b5ea9746",
   "metadata": {},
   "outputs": [
    {
     "data": {
      "text/plain": [
       "RandomForestClassifier()"
      ]
     },
     "execution_count": 65,
     "metadata": {},
     "output_type": "execute_result"
    }
   ],
   "source": [
    "from sklearn.ensemble import RandomForestClassifier\n",
    "#from sklearn.preprocessing import label_binarize\n",
    "#y=db.fit(X_db).labels_\n",
    "#y=label_binarize(y, classes=[0,-1])\n",
    "#X_shap= df_shap.drop('DBScanCluster', axis=1)\n",
    "y=(df['LOF_shap'])\n",
    "rfc=RandomForestClassifier()\n",
    "rfc.fit(X_db,y)"
   ]
  },
  {
   "cell_type": "code",
   "execution_count": 66,
   "id": "bb0b7755",
   "metadata": {},
   "outputs": [],
   "source": [
    "import shap\n",
    "explainer= shap.TreeExplainer(rfc)\n",
    "shap_values = explainer(X_d).values"
   ]
  },
  {
   "cell_type": "code",
   "execution_count": 68,
   "id": "8d0f7e92",
   "metadata": {},
   "outputs": [
    {
     "data": {
      "text/plain": [
       "<matplotlib.legend.Legend at 0x1cecb601f40>"
      ]
     },
     "execution_count": 68,
     "metadata": {},
     "output_type": "execute_result"
    },
    {
     "data": {
      "image/png": "[encoded data removed]",
      "text/plain": [
       "<Figure size 864x432 with 1 Axes>"
      ]
     },
     "metadata": {},
     "output_type": "display_data"
    }
   ],
   "source": [
    "sns.scatterplot(data=df_lof1, x='TimeOMS', y='ValueRT', color='red')\n",
    "sns.scatterplot(data=df_lof1, x='TimeOMS', y='ValueST', alpha=0.3)\n",
    "plt.title('Set point temp and Room temperature')\n",
    "plt.ylabel('Temperature (degrees celsius)')\n",
    "plt.xlabel('Time')\n",
    "plt.legend(['Room Temp','Set Temp'])"
   ]
  },
  {
   "cell_type": "code",
   "execution_count": 69,
   "id": "8166b949",
   "metadata": {},
   "outputs": [
    {
     "data": {
      "text/plain": [
       "Text(0.5, 0, 'Time')"
      ]
     },
     "execution_count": 69,
     "metadata": {},
     "output_type": "execute_result"
    },
    {
     "data": {
      "image/png": "[encoded data removed]",
      "text/plain": [
       "<Figure size 864x432 with 1 Axes>"
      ]
     },
     "metadata": {},
     "output_type": "display_data"
    }
   ],
   "source": [
    "sns.scatterplot(data=df_lof1, x='TimeOMS', y='HourofDay', hue='ValueOMS')\n",
    "plt.title('Anomalies on the Hour of Day based on the Operation Mode')\n",
    "plt.ylabel('Hour of Day')\n",
    "plt.xlabel('Time')\n",
    "#plt.legend(['Room Temp','Set Temp'])"
   ]
  },
  {
   "cell_type": "code",
   "execution_count": 70,
   "id": "204879af",
   "metadata": {},
   "outputs": [
    {
     "data": {
      "text/plain": [
       "1257"
      ]
     },
     "execution_count": 70,
     "metadata": {},
     "output_type": "execute_result"
    }
   ],
   "source": [
    "len(df_lof1)"
   ]
  },
  {
   "cell_type": "code",
   "execution_count": null,
   "id": "91712c54",
   "metadata": {},
   "outputs": [],
   "source": [
    "fig, axes = plt.subplots(2, 2, figsize=(15, 10), sharey=True)\n",
    "fig.suptitle('Distribution of Set Point Temperatre Deviation')\n",
    "\n",
    "#DBScan\n",
    "sns.histplot(ax=axes[0,0], data=df_dbnormal, x='ValueST',bins=30,kde=True)\n",
    "axes[0,0].set_title('DBSCAN Clusters')\n",
    "\n",
    "# Contextual\n",
    "sns.histplot(ax=axes[0,1],data=df_normal, x='ValueST', bins=30,kde=True)\n",
    "axes[0,1].set_title('Contextual Anomalous')\n",
    "\n",
    "#K Means\n",
    "sns.histplot(ax=axes[1,0],data=dfc0,x='ValueST', bins=30, kde=True)\n",
    "axes[1,0].set_title('K Means')\n",
    "\n",
    "sns.histplot(ax=axes[1,1],data=df_lof,x='ValueST', bins=30, kde=True)\n",
    "axes[1,1].set_title('LOF')"
   ]
  },
  {
   "cell_type": "code",
   "execution_count": null,
   "id": "0a66fa50",
   "metadata": {},
   "outputs": [],
   "source": [
    "plt.scatter(x=df_lof['TimeOMS'],y=df_lof['ValueST'])\n"
   ]
  },
  {
   "cell_type": "code",
   "execution_count": 42,
   "id": "7c5b82b8",
   "metadata": {},
   "outputs": [
    {
     "data": {
      "text/plain": [
       "Index(['ValueOMS', 'ValueRT', 'ValueST', 'ValueOAT', 'STDeviation',\n",
       "       'OATDeviation', 'ValueOAH', 'HourofDay', 'Season', 'TS'],\n",
       "      dtype='object')"
      ]
     },
     "execution_count": 42,
     "metadata": {},
     "output_type": "execute_result"
    }
   ],
   "source": [
    "(df_dblof).columns"
   ]
  },
  {
   "cell_type": "code",
   "execution_count": 84,
   "id": "257426a5",
   "metadata": {},
   "outputs": [],
   "source": [
    "df_surrogate=df_surrogate[['ValueOMS', 'ValueRT', 'ValueST', 'ValueOAT',\n",
    "       'STDeviation', 'OATDeviation',\n",
    "       'ValueOAH', 'HourofDay', 'DayofWeek', 'Season', 'TS',\n",
    "        'anom']]\n",
    "df_surrogate_train=df_surrogate.drop('anom',axis=1)"
   ]
  },
  {
   "cell_type": "code",
   "execution_count": 85,
   "id": "5586a32b",
   "metadata": {},
   "outputs": [
    {
     "data": {
      "text/html": [
       "<div>\n",
       "<style scoped>\n",
       "    .dataframe tbody tr th:only-of-type {\n",
       "        vertical-align: middle;\n",
       "    }\n",
       "\n",
       "    .dataframe tbody tr th {\n",
       "        vertical-align: top;\n",
       "    }\n",
       "\n",
       "    .dataframe thead th {\n",
       "        text-align: right;\n",
       "    }\n",
       "</style>\n",
       "<table border=\"1\" class=\"dataframe\">\n",
       "  <thead>\n",
       "    <tr style=\"text-align: right;\">\n",
       "      <th></th>\n",
       "      <th>ValueOMS</th>\n",
       "      <th>ValueRT</th>\n",
       "      <th>ValueST</th>\n",
       "      <th>ValueOAT</th>\n",
       "      <th>STDeviation</th>\n",
       "      <th>OATDeviation</th>\n",
       "      <th>ValueOAH</th>\n",
       "      <th>HourofDay</th>\n",
       "      <th>DayofWeek</th>\n",
       "      <th>Season</th>\n",
       "      <th>TS</th>\n",
       "    </tr>\n",
       "  </thead>\n",
       "  <tbody>\n",
       "    <tr>\n",
       "      <th>0</th>\n",
       "      <td>2.0</td>\n",
       "      <td>24.5</td>\n",
       "      <td>26.0</td>\n",
       "      <td>15.1</td>\n",
       "      <td>-1.5</td>\n",
       "      <td>9.4</td>\n",
       "      <td>62.895</td>\n",
       "      <td>16.0</td>\n",
       "      <td>4.0</td>\n",
       "      <td>4</td>\n",
       "      <td>1.512749e+09</td>\n",
       "    </tr>\n",
       "    <tr>\n",
       "      <th>1</th>\n",
       "      <td>2.0</td>\n",
       "      <td>24.5</td>\n",
       "      <td>26.0</td>\n",
       "      <td>15.6</td>\n",
       "      <td>-1.5</td>\n",
       "      <td>8.9</td>\n",
       "      <td>62.895</td>\n",
       "      <td>16.0</td>\n",
       "      <td>4.0</td>\n",
       "      <td>4</td>\n",
       "      <td>1.512749e+09</td>\n",
       "    </tr>\n",
       "    <tr>\n",
       "      <th>2</th>\n",
       "      <td>2.0</td>\n",
       "      <td>20.0</td>\n",
       "      <td>25.0</td>\n",
       "      <td>14.6</td>\n",
       "      <td>-5.0</td>\n",
       "      <td>5.4</td>\n",
       "      <td>55.420</td>\n",
       "      <td>10.0</td>\n",
       "      <td>0.0</td>\n",
       "      <td>4</td>\n",
       "      <td>1.512989e+09</td>\n",
       "    </tr>\n",
       "    <tr>\n",
       "      <th>3</th>\n",
       "      <td>2.0</td>\n",
       "      <td>20.5</td>\n",
       "      <td>25.0</td>\n",
       "      <td>14.6</td>\n",
       "      <td>-4.5</td>\n",
       "      <td>5.9</td>\n",
       "      <td>56.460</td>\n",
       "      <td>10.0</td>\n",
       "      <td>0.0</td>\n",
       "      <td>4</td>\n",
       "      <td>1.512989e+09</td>\n",
       "    </tr>\n",
       "    <tr>\n",
       "      <th>4</th>\n",
       "      <td>2.0</td>\n",
       "      <td>21.0</td>\n",
       "      <td>25.0</td>\n",
       "      <td>14.6</td>\n",
       "      <td>-4.0</td>\n",
       "      <td>6.4</td>\n",
       "      <td>56.460</td>\n",
       "      <td>11.0</td>\n",
       "      <td>0.0</td>\n",
       "      <td>4</td>\n",
       "      <td>1.512990e+09</td>\n",
       "    </tr>\n",
       "  </tbody>\n",
       "</table>\n",
       "</div>"
      ],
      "text/plain": [
       "   ValueOMS  ValueRT  ValueST  ValueOAT  STDeviation  OATDeviation  ValueOAH  \\\n",
       "0       2.0     24.5     26.0      15.1         -1.5           9.4    62.895   \n",
       "1       2.0     24.5     26.0      15.6         -1.5           8.9    62.895   \n",
       "2       2.0     20.0     25.0      14.6         -5.0           5.4    55.420   \n",
       "3       2.0     20.5     25.0      14.6         -4.5           5.9    56.460   \n",
       "4       2.0     21.0     25.0      14.6         -4.0           6.4    56.460   \n",
       "\n",
       "   HourofDay  DayofWeek  Season            TS  \n",
       "0       16.0        4.0       4  1.512749e+09  \n",
       "1       16.0        4.0       4  1.512749e+09  \n",
       "2       10.0        0.0       4  1.512989e+09  \n",
       "3       10.0        0.0       4  1.512989e+09  \n",
       "4       11.0        0.0       4  1.512990e+09  "
      ]
     },
     "execution_count": 85,
     "metadata": {},
     "output_type": "execute_result"
    }
   ],
   "source": [
    "df_surrogate_train.head()"
   ]
  },
  {
   "cell_type": "code",
   "execution_count": 86,
   "id": "d7fca084",
   "metadata": {},
   "outputs": [
    {
     "data": {
      "text/plain": [
       "0    16566\n",
       "1      388\n",
       "Name: anom, dtype: int64"
      ]
     },
     "execution_count": 86,
     "metadata": {},
     "output_type": "execute_result"
    }
   ],
   "source": [
    "df_surrogate['anom'].value_counts()"
   ]
  },
  {
   "cell_type": "code",
   "execution_count": 87,
   "id": "6a8e7c1f",
   "metadata": {},
   "outputs": [
    {
     "data": {
      "text/plain": [
       "RandomForestClassifier()"
      ]
     },
     "execution_count": 87,
     "metadata": {},
     "output_type": "execute_result"
    }
   ],
   "source": [
    "from sklearn.ensemble import RandomForestClassifier\n",
    "#from sklearn.preprocessing import label_binarize\n",
    "#y=db.fit(X_db).labels_\n",
    "#y=label_binarize(y, classes=[0,-1])\n",
    "#X_shap= df_shap.drop('DBScanCluster', axis=1)\n",
    "y_shap=df_surrogate['anom']\n",
    "rfc=RandomForestClassifier()\n",
    "rfc.fit(df_surrogate_train,y_shap)"
   ]
  },
  {
   "cell_type": "code",
   "execution_count": 69,
   "id": "9ab63948",
   "metadata": {},
   "outputs": [
    {
     "data": {
      "text/plain": [
       "16954"
      ]
     },
     "execution_count": 69,
     "metadata": {},
     "output_type": "execute_result"
    }
   ],
   "source": [
    "from sklearn.metrics import accuracy_score\n",
    "accuracy_score(y_shap, y_shap, normalize=False)"
   ]
  },
  {
   "cell_type": "code",
   "execution_count": 88,
   "id": "a694047d",
   "metadata": {},
   "outputs": [],
   "source": [
    "import shap\n",
    "explainer= shap.TreeExplainer(rfc)\n",
    "shap_values = explainer(df_surrogate_train)"
   ]
  },
  {
   "cell_type": "code",
   "execution_count": 89,
   "id": "aee38d2a",
   "metadata": {},
   "outputs": [
    {
     "data": {
      "text/plain": [
       ".values =\n",
       "-0.0032604062055601023\n",
       "\n",
       ".base_values =\n",
       "0.022806417364633708\n",
       "\n",
       ".data =\n",
       "-1.5"
      ]
     },
     "execution_count": 89,
     "metadata": {},
     "output_type": "execute_result"
    }
   ],
   "source": [
    "shap_values[1,4,1]"
   ]
  },
  {
   "cell_type": "code",
   "execution_count": 88,
   "id": "b31aa24a",
   "metadata": {
    "scrolled": true
   },
   "outputs": [
    {
     "data": {
      "image/png": "[encoded data removed]",
      "text/plain": [
       "<Figure size 576x424.8 with 1 Axes>"
      ]
     },
     "metadata": {},
     "output_type": "display_data"
    }
   ],
   "source": [
    "shap.summary_plot(shap_values[:,:,1],features=df_surrogate_train.columns,plot_type='bar')"
   ]
  },
  {
   "cell_type": "code",
   "execution_count": 90,
   "id": "6de3b8da",
   "metadata": {},
   "outputs": [
    {
     "data": {
      "image/png": "[encoded data removed]",
      "text/plain": [
       "<Figure size 576x468 with 1 Axes>"
      ]
     },
     "metadata": {},
     "output_type": "display_data"
    }
   ],
   "source": [
    "shap.plots.bar(shap_values[:,:,0])\n"
   ]
  },
  {
   "cell_type": "code",
   "execution_count": 91,
   "id": "43877546",
   "metadata": {},
   "outputs": [
    {
     "data": {
      "image/png": "[encoded data removed]",
      "text/plain": [
       "<Figure size 576x396 with 2 Axes>"
      ]
     },
     "metadata": {},
     "output_type": "display_data"
    }
   ],
   "source": [
    "shap.plots.beeswarm(shap_values[:,:,1])"
   ]
  },
  {
   "cell_type": "code",
   "execution_count": null,
   "id": "14baf32b",
   "metadata": {},
   "outputs": [],
   "source": []
  },
  {
   "cell_type": "code",
   "execution_count": null,
   "id": "0900dc2e",
   "metadata": {},
   "outputs": [],
   "source": []
  },
  {
   "cell_type": "code",
   "execution_count": null,
   "id": "e766265c",
   "metadata": {},
   "outputs": [],
   "source": []
  },
  {
   "cell_type": "code",
   "execution_count": null,
   "id": "2af4b010",
   "metadata": {},
   "outputs": [],
   "source": []
  },
  {
   "cell_type": "code",
   "execution_count": null,
   "id": "7c17b917",
   "metadata": {},
   "outputs": [],
   "source": []
  },
  {
   "cell_type": "code",
   "execution_count": null,
   "id": "743f91f3",
   "metadata": {},
   "outputs": [],
   "source": []
  },
  {
   "cell_type": "code",
   "execution_count": null,
   "id": "201d1775",
   "metadata": {},
   "outputs": [],
   "source": []
  },
  {
   "cell_type": "code",
   "execution_count": null,
   "id": "56fb63f8",
   "metadata": {},
   "outputs": [],
   "source": []
  },
  {
   "cell_type": "code",
   "execution_count": null,
   "id": "252b4ab9",
   "metadata": {},
   "outputs": [],
   "source": []
  },
  {
   "cell_type": "code",
   "execution_count": null,
   "id": "21a9727f",
   "metadata": {},
   "outputs": [],
   "source": []
  },
  {
   "cell_type": "code",
   "execution_count": null,
   "id": "375384b4",
   "metadata": {},
   "outputs": [],
   "source": []
  }
 ],
 "metadata": {
  "kernelspec": {
   "display_name": "Python 3",
   "language": "python",
   "name": "python3"
  },
  "language_info": {
   "codemirror_mode": {
    "name": "ipython",
    "version": 3
   },
   "file_extension": ".py",
   "mimetype": "text/x-python",
   "name": "python",
   "nbconvert_exporter": "python",
   "pygments_lexer": "ipython3",
   "version": "3.8.8"
  }
 },
 "nbformat": 4,
 "nbformat_minor": 5
}
