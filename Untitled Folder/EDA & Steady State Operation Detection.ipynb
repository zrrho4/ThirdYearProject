{
 "cells": [
  {
   "cell_type": "code",
   "execution_count": 1,
   "id": "26fdf6eb",
   "metadata": {},
   "outputs": [],
   "source": [
    "import pandas as pd \n",
    "import numpy as np\n",
    "import matplotlib.pyplot as plt\n",
    "import seaborn as sns \n",
    "import datetime\n",
    "import fitter"
   ]
  },
  {
   "cell_type": "code",
   "execution_count": 12,
   "id": "b19282c4",
   "metadata": {},
   "outputs": [],
   "source": [
    "dfx=pd.read_excel((r\"C:\\Users\\HP\\OneDrive\\Third Year Project\\Third Year Project\\Data Recodings 8.12.2017- 27.02.2020\\Code\\completeds_cleaned.xlsx\"),header=0,index_col=0)"
   ]
  },
  {
   "cell_type": "code",
   "execution_count": 13,
   "id": "e4b7bcfa",
   "metadata": {},
   "outputs": [],
   "source": [
    "df=dfx"
   ]
  },
  {
   "cell_type": "code",
   "execution_count": 14,
   "id": "f59db9ed",
   "metadata": {},
   "outputs": [
    {
     "data": {
      "text/html": [
       "<div>\n",
       "<style scoped>\n",
       "    .dataframe tbody tr th:only-of-type {\n",
       "        vertical-align: middle;\n",
       "    }\n",
       "\n",
       "    .dataframe tbody tr th {\n",
       "        vertical-align: top;\n",
       "    }\n",
       "\n",
       "    .dataframe thead th {\n",
       "        text-align: right;\n",
       "    }\n",
       "</style>\n",
       "<table border=\"1\" class=\"dataframe\">\n",
       "  <thead>\n",
       "    <tr style=\"text-align: right;\">\n",
       "      <th></th>\n",
       "      <th>TimeOMS</th>\n",
       "      <th>ValueOMS</th>\n",
       "      <th>ValueOOS</th>\n",
       "      <th>ValueRT</th>\n",
       "      <th>ValueST</th>\n",
       "      <th>ValueOAT</th>\n",
       "      <th>ValueOAH</th>\n",
       "    </tr>\n",
       "  </thead>\n",
       "  <tbody>\n",
       "    <tr>\n",
       "      <th>0</th>\n",
       "      <td>2017-12-08 15:30:52</td>\n",
       "      <td>2</td>\n",
       "      <td>1</td>\n",
       "      <td>24.0</td>\n",
       "      <td>24.0</td>\n",
       "      <td>15.3</td>\n",
       "      <td>62.180</td>\n",
       "    </tr>\n",
       "    <tr>\n",
       "      <th>1</th>\n",
       "      <td>2017-12-08 15:40:52</td>\n",
       "      <td>2</td>\n",
       "      <td>1</td>\n",
       "      <td>24.0</td>\n",
       "      <td>24.0</td>\n",
       "      <td>15.1</td>\n",
       "      <td>62.180</td>\n",
       "    </tr>\n",
       "    <tr>\n",
       "      <th>2</th>\n",
       "      <td>2017-12-08 15:50:52</td>\n",
       "      <td>2</td>\n",
       "      <td>1</td>\n",
       "      <td>24.5</td>\n",
       "      <td>24.0</td>\n",
       "      <td>15.1</td>\n",
       "      <td>62.895</td>\n",
       "    </tr>\n",
       "    <tr>\n",
       "      <th>3</th>\n",
       "      <td>2017-12-08 16:00:52</td>\n",
       "      <td>2</td>\n",
       "      <td>1</td>\n",
       "      <td>24.5</td>\n",
       "      <td>26.0</td>\n",
       "      <td>15.1</td>\n",
       "      <td>62.895</td>\n",
       "    </tr>\n",
       "    <tr>\n",
       "      <th>4</th>\n",
       "      <td>2017-12-08 16:10:52</td>\n",
       "      <td>2</td>\n",
       "      <td>1</td>\n",
       "      <td>24.5</td>\n",
       "      <td>26.0</td>\n",
       "      <td>15.6</td>\n",
       "      <td>62.895</td>\n",
       "    </tr>\n",
       "  </tbody>\n",
       "</table>\n",
       "</div>"
      ],
      "text/plain": [
       "              TimeOMS  ValueOMS  ValueOOS  ValueRT  ValueST  ValueOAT  \\\n",
       "0 2017-12-08 15:30:52         2         1     24.0     24.0      15.3   \n",
       "1 2017-12-08 15:40:52         2         1     24.0     24.0      15.1   \n",
       "2 2017-12-08 15:50:52         2         1     24.5     24.0      15.1   \n",
       "3 2017-12-08 16:00:52         2         1     24.5     26.0      15.1   \n",
       "4 2017-12-08 16:10:52         2         1     24.5     26.0      15.6   \n",
       "\n",
       "   ValueOAH  \n",
       "0    62.180  \n",
       "1    62.180  \n",
       "2    62.895  \n",
       "3    62.895  \n",
       "4    62.895  "
      ]
     },
     "execution_count": 14,
     "metadata": {},
     "output_type": "execute_result"
    }
   ],
   "source": [
    "dfx.head()"
   ]
  },
  {
   "cell_type": "code",
   "execution_count": 5,
   "id": "6b3f2ee2",
   "metadata": {},
   "outputs": [
    {
     "data": {
      "text/plain": [
       "105998"
      ]
     },
     "execution_count": 5,
     "metadata": {},
     "output_type": "execute_result"
    }
   ],
   "source": [
    "#df['ValueOAT']=\n",
    "df['ValueOAT']=df['ValueOAT'].apply(lambda x: x[1:-1]).astype(float)\n",
    "len(df)"
   ]
  },
  {
   "cell_type": "code",
   "execution_count": 15,
   "id": "5eab2f0b",
   "metadata": {},
   "outputs": [
    {
     "data": {
      "text/plain": [
       "0    83325\n",
       "1    22673\n",
       "Name: ValueOOS, dtype: int64"
      ]
     },
     "execution_count": 15,
     "metadata": {},
     "output_type": "execute_result"
    }
   ],
   "source": [
    "df['ValueOOS'].value_counts()"
   ]
  },
  {
   "cell_type": "code",
   "execution_count": 16,
   "id": "566fdbd2",
   "metadata": {},
   "outputs": [],
   "source": [
    "##function for anomaly detection ***contextual*** \n",
    "def check_anomaly(RT,T1,SO,TH):\n",
    "    deviationST=TH\n",
    "    deviationOAT=TH\n",
    "    if SO==1:#set point temp\n",
    "        if abs(RT-T1)>=deviationST:\n",
    "            return 1\n",
    "        else:\n",
    "            return 0 \n",
    "    elif SO==0: #outside temp\n",
    "        if abs(RT-T1)<=deviationOAT:\n",
    "            return 1\n",
    "        else:\n",
    "            return 0"
   ]
  },
  {
   "cell_type": "code",
   "execution_count": 17,
   "id": "8b7906c5",
   "metadata": {},
   "outputs": [],
   "source": [
    "#applying functions and extracting features \n",
    "df['AnomalousST']= df.apply(lambda x: check_anomaly(x.ValueRT,x.ValueST,1,1.5),axis=1)\n",
    "df['STDeviation']=(df.ValueRT-df.ValueST)\n",
    "df['AnomalousOAT']= df.apply(lambda x: check_anomaly(x.ValueRT,x.ValueOAT,0,1.5),axis=1)\n",
    "df['OATDeviation']=(df.ValueRT-df.ValueOAT)\n",
    "df['HourofDay']=df['TimeOMS'].dt.hour\n",
    "df['Month']=df['TimeOMS'].dt.month\n",
    "df['Year']=df['TimeOMS'].dt.year\n",
    "df['DayofWeek']=df['TimeOMS'].dt.dayofweek"
   ]
  },
  {
   "cell_type": "code",
   "execution_count": 9,
   "id": "381ffc40",
   "metadata": {},
   "outputs": [
    {
     "data": {
      "text/plain": [
       "0    83325\n",
       "1    22673\n",
       "Name: ValueOOS, dtype: int64"
      ]
     },
     "execution_count": 9,
     "metadata": {},
     "output_type": "execute_result"
    }
   ],
   "source": [
    "df['ValueOOS'].value_counts()"
   ]
  },
  {
   "cell_type": "markdown",
   "id": "fedf07e5",
   "metadata": {},
   "source": [
    "### EDA when HVAC is ON (OOS=1)"
   ]
  },
  {
   "cell_type": "code",
   "execution_count": 18,
   "id": "3d21183f",
   "metadata": {},
   "outputs": [],
   "source": [
    "df[(df.ValueOOS==1) & (df.STDeviation==0)]\n",
    "df1= df[(df.ValueOOS==1)]\n",
    "df1.to_csv('OnStateData.csv')\n",
    "df1.to_excel('OnStateData.xlsx')"
   ]
  },
  {
   "cell_type": "code",
   "execution_count": 19,
   "id": "5edc2b7a",
   "metadata": {},
   "outputs": [
    {
     "data": {
      "text/html": [
       "<div>\n",
       "<style scoped>\n",
       "    .dataframe tbody tr th:only-of-type {\n",
       "        vertical-align: middle;\n",
       "    }\n",
       "\n",
       "    .dataframe tbody tr th {\n",
       "        vertical-align: top;\n",
       "    }\n",
       "\n",
       "    .dataframe thead th {\n",
       "        text-align: right;\n",
       "    }\n",
       "</style>\n",
       "<table border=\"1\" class=\"dataframe\">\n",
       "  <thead>\n",
       "    <tr style=\"text-align: right;\">\n",
       "      <th></th>\n",
       "      <th>ValueOMS</th>\n",
       "      <th>ValueOOS</th>\n",
       "      <th>ValueRT</th>\n",
       "      <th>ValueST</th>\n",
       "      <th>ValueOAT</th>\n",
       "      <th>ValueOAH</th>\n",
       "      <th>AnomalousST</th>\n",
       "      <th>STDeviation</th>\n",
       "      <th>AnomalousOAT</th>\n",
       "      <th>OATDeviation</th>\n",
       "      <th>HourofDay</th>\n",
       "      <th>Month</th>\n",
       "      <th>Year</th>\n",
       "      <th>DayofWeek</th>\n",
       "    </tr>\n",
       "  </thead>\n",
       "  <tbody>\n",
       "    <tr>\n",
       "      <th>count</th>\n",
       "      <td>22673.000000</td>\n",
       "      <td>22673.0</td>\n",
       "      <td>22673.000000</td>\n",
       "      <td>22673.000000</td>\n",
       "      <td>22668.000000</td>\n",
       "      <td>22671.000000</td>\n",
       "      <td>22673.000000</td>\n",
       "      <td>22673.000000</td>\n",
       "      <td>22673.000000</td>\n",
       "      <td>22668.000000</td>\n",
       "      <td>22673.000000</td>\n",
       "      <td>22673.000000</td>\n",
       "      <td>22673.000000</td>\n",
       "      <td>22673.000000</td>\n",
       "    </tr>\n",
       "    <tr>\n",
       "      <th>mean</th>\n",
       "      <td>1.531646</td>\n",
       "      <td>1.0</td>\n",
       "      <td>25.710757</td>\n",
       "      <td>25.653972</td>\n",
       "      <td>20.871083</td>\n",
       "      <td>59.764478</td>\n",
       "      <td>0.724739</td>\n",
       "      <td>0.056786</td>\n",
       "      <td>0.086843</td>\n",
       "      <td>4.839567</td>\n",
       "      <td>14.358047</td>\n",
       "      <td>6.187359</td>\n",
       "      <td>2018.779209</td>\n",
       "      <td>2.164116</td>\n",
       "    </tr>\n",
       "    <tr>\n",
       "      <th>std</th>\n",
       "      <td>0.499097</td>\n",
       "      <td>0.0</td>\n",
       "      <td>1.958130</td>\n",
       "      <td>2.639396</td>\n",
       "      <td>8.817289</td>\n",
       "      <td>9.731383</td>\n",
       "      <td>0.446656</td>\n",
       "      <td>3.748645</td>\n",
       "      <td>0.281612</td>\n",
       "      <td>7.993472</td>\n",
       "      <td>4.288867</td>\n",
       "      <td>3.685394</td>\n",
       "      <td>0.636900</td>\n",
       "      <td>1.585767</td>\n",
       "    </tr>\n",
       "    <tr>\n",
       "      <th>min</th>\n",
       "      <td>1.000000</td>\n",
       "      <td>1.0</td>\n",
       "      <td>14.000000</td>\n",
       "      <td>19.000000</td>\n",
       "      <td>2.000000</td>\n",
       "      <td>38.130000</td>\n",
       "      <td>0.000000</td>\n",
       "      <td>-13.500000</td>\n",
       "      <td>0.000000</td>\n",
       "      <td>-9.900000</td>\n",
       "      <td>0.000000</td>\n",
       "      <td>1.000000</td>\n",
       "      <td>2017.000000</td>\n",
       "      <td>0.000000</td>\n",
       "    </tr>\n",
       "    <tr>\n",
       "      <th>25%</th>\n",
       "      <td>1.000000</td>\n",
       "      <td>1.0</td>\n",
       "      <td>25.000000</td>\n",
       "      <td>24.000000</td>\n",
       "      <td>13.300000</td>\n",
       "      <td>51.780000</td>\n",
       "      <td>0.000000</td>\n",
       "      <td>-2.000000</td>\n",
       "      <td>0.000000</td>\n",
       "      <td>-3.200000</td>\n",
       "      <td>11.000000</td>\n",
       "      <td>2.000000</td>\n",
       "      <td>2018.000000</td>\n",
       "      <td>1.000000</td>\n",
       "    </tr>\n",
       "    <tr>\n",
       "      <th>50%</th>\n",
       "      <td>2.000000</td>\n",
       "      <td>1.0</td>\n",
       "      <td>26.000000</td>\n",
       "      <td>26.000000</td>\n",
       "      <td>18.100000</td>\n",
       "      <td>58.995000</td>\n",
       "      <td>1.000000</td>\n",
       "      <td>-0.500000</td>\n",
       "      <td>0.000000</td>\n",
       "      <td>7.200000</td>\n",
       "      <td>15.000000</td>\n",
       "      <td>7.000000</td>\n",
       "      <td>2019.000000</td>\n",
       "      <td>2.000000</td>\n",
       "    </tr>\n",
       "    <tr>\n",
       "      <th>75%</th>\n",
       "      <td>2.000000</td>\n",
       "      <td>1.0</td>\n",
       "      <td>27.000000</td>\n",
       "      <td>28.000000</td>\n",
       "      <td>29.800000</td>\n",
       "      <td>67.185000</td>\n",
       "      <td>1.000000</td>\n",
       "      <td>2.500000</td>\n",
       "      <td>0.000000</td>\n",
       "      <td>11.700000</td>\n",
       "      <td>18.000000</td>\n",
       "      <td>9.000000</td>\n",
       "      <td>2019.000000</td>\n",
       "      <td>3.000000</td>\n",
       "    </tr>\n",
       "    <tr>\n",
       "      <th>max</th>\n",
       "      <td>3.000000</td>\n",
       "      <td>1.0</td>\n",
       "      <td>34.000000</td>\n",
       "      <td>28.000000</td>\n",
       "      <td>35.900000</td>\n",
       "      <td>86.815000</td>\n",
       "      <td>1.000000</td>\n",
       "      <td>13.500000</td>\n",
       "      <td>1.000000</td>\n",
       "      <td>21.200000</td>\n",
       "      <td>23.000000</td>\n",
       "      <td>12.000000</td>\n",
       "      <td>2020.000000</td>\n",
       "      <td>6.000000</td>\n",
       "    </tr>\n",
       "  </tbody>\n",
       "</table>\n",
       "</div>"
      ],
      "text/plain": [
       "           ValueOMS  ValueOOS       ValueRT       ValueST      ValueOAT  \\\n",
       "count  22673.000000   22673.0  22673.000000  22673.000000  22668.000000   \n",
       "mean       1.531646       1.0     25.710757     25.653972     20.871083   \n",
       "std        0.499097       0.0      1.958130      2.639396      8.817289   \n",
       "min        1.000000       1.0     14.000000     19.000000      2.000000   \n",
       "25%        1.000000       1.0     25.000000     24.000000     13.300000   \n",
       "50%        2.000000       1.0     26.000000     26.000000     18.100000   \n",
       "75%        2.000000       1.0     27.000000     28.000000     29.800000   \n",
       "max        3.000000       1.0     34.000000     28.000000     35.900000   \n",
       "\n",
       "           ValueOAH   AnomalousST   STDeviation  AnomalousOAT  OATDeviation  \\\n",
       "count  22671.000000  22673.000000  22673.000000  22673.000000  22668.000000   \n",
       "mean      59.764478      0.724739      0.056786      0.086843      4.839567   \n",
       "std        9.731383      0.446656      3.748645      0.281612      7.993472   \n",
       "min       38.130000      0.000000    -13.500000      0.000000     -9.900000   \n",
       "25%       51.780000      0.000000     -2.000000      0.000000     -3.200000   \n",
       "50%       58.995000      1.000000     -0.500000      0.000000      7.200000   \n",
       "75%       67.185000      1.000000      2.500000      0.000000     11.700000   \n",
       "max       86.815000      1.000000     13.500000      1.000000     21.200000   \n",
       "\n",
       "          HourofDay         Month          Year     DayofWeek  \n",
       "count  22673.000000  22673.000000  22673.000000  22673.000000  \n",
       "mean      14.358047      6.187359   2018.779209      2.164116  \n",
       "std        4.288867      3.685394      0.636900      1.585767  \n",
       "min        0.000000      1.000000   2017.000000      0.000000  \n",
       "25%       11.000000      2.000000   2018.000000      1.000000  \n",
       "50%       15.000000      7.000000   2019.000000      2.000000  \n",
       "75%       18.000000      9.000000   2019.000000      3.000000  \n",
       "max       23.000000     12.000000   2020.000000      6.000000  "
      ]
     },
     "execution_count": 19,
     "metadata": {},
     "output_type": "execute_result"
    },
    {
     "data": {
      "image/png": "[encoded data removed]",
      "text/plain": [
       "<Figure size 432x288 with 1 Axes>"
      ]
     },
     "metadata": {
      "needs_background": "light"
     },
     "output_type": "display_data"
    }
   ],
   "source": [
    "df1.plot(y='STDeviation',kind='hist')\n",
    "df1.describe()\n"
   ]
  },
  {
   "cell_type": "code",
   "execution_count": 20,
   "id": "4ab6589c",
   "metadata": {},
   "outputs": [
    {
     "name": "stderr",
     "output_type": "stream",
     "text": [
      "No handles with labels found to put in legend.\n"
     ]
    },
    {
     "data": {
      "text/plain": [
       "Text(0.5, 1.0, 'Distribution of ST deviation')"
      ]
     },
     "execution_count": 20,
     "metadata": {},
     "output_type": "execute_result"
    },
    {
     "data": {
      "image/png": "[encoded data removed]",
      "text/plain": [
       "<Figure size 921.6x691.2 with 2 Axes>"
      ]
     },
     "metadata": {
      "needs_background": "light"
     },
     "output_type": "display_data"
    }
   ],
   "source": [
    "fig= plt.figure(figsize=[12.8,9.6])\n",
    "ax=fig.add_subplot(111)\n",
    "sns.kdeplot(data=df1['STDeviation'], ax=ax)\n",
    "ax.set_xlim((df1['STDeviation'].min(), df1['STDeviation'].max()))\n",
    "ax2 = ax.twinx()\n",
    "sns.histplot(data=df1['STDeviation'], discrete=True, ax=ax2)\n",
    "ax.legend()\n",
    "ax.grid(True)\n",
    "plt.title('Distribution of ST deviation')\n",
    "\n",
    "\n",
    "\n"
   ]
  },
  {
   "cell_type": "code",
   "execution_count": 21,
   "id": "16055dc2",
   "metadata": {},
   "outputs": [
    {
     "name": "stderr",
     "output_type": "stream",
     "text": [
      "WARNING:root:SKIPPED poisson distribution (taking more than 120 seconds)\n",
      "WARNING:fitter.fitter:poisson was not fitted. no parameters available\n"
     ]
    },
    {
     "data": {
      "text/html": [
       "<div>\n",
       "<style scoped>\n",
       "    .dataframe tbody tr th:only-of-type {\n",
       "        vertical-align: middle;\n",
       "    }\n",
       "\n",
       "    .dataframe tbody tr th {\n",
       "        vertical-align: top;\n",
       "    }\n",
       "\n",
       "    .dataframe thead th {\n",
       "        text-align: right;\n",
       "    }\n",
       "</style>\n",
       "<table border=\"1\" class=\"dataframe\">\n",
       "  <thead>\n",
       "    <tr style=\"text-align: right;\">\n",
       "      <th></th>\n",
       "      <th>sumsquare_error</th>\n",
       "      <th>aic</th>\n",
       "      <th>bic</th>\n",
       "      <th>kl_div</th>\n",
       "    </tr>\n",
       "  </thead>\n",
       "  <tbody>\n",
       "    <tr>\n",
       "      <th>gamma</th>\n",
       "      <td>0.310771</td>\n",
       "      <td>904.411743</td>\n",
       "      <td>-2.538538e+05</td>\n",
       "      <td>inf</td>\n",
       "    </tr>\n",
       "    <tr>\n",
       "      <th>norm</th>\n",
       "      <td>0.313426</td>\n",
       "      <td>884.373328</td>\n",
       "      <td>-2.536709e+05</td>\n",
       "      <td>inf</td>\n",
       "    </tr>\n",
       "    <tr>\n",
       "      <th>rayleigh</th>\n",
       "      <td>0.631285</td>\n",
       "      <td>inf</td>\n",
       "      <td>-2.377954e+05</td>\n",
       "      <td>inf</td>\n",
       "    </tr>\n",
       "    <tr>\n",
       "      <th>poisson</th>\n",
       "      <td>inf</td>\n",
       "      <td>inf</td>\n",
       "      <td>inf</td>\n",
       "      <td>inf</td>\n",
       "    </tr>\n",
       "  </tbody>\n",
       "</table>\n",
       "</div>"
      ],
      "text/plain": [
       "          sumsquare_error         aic           bic  kl_div\n",
       "gamma            0.310771  904.411743 -2.538538e+05     inf\n",
       "norm             0.313426  884.373328 -2.536709e+05     inf\n",
       "rayleigh         0.631285         inf -2.377954e+05     inf\n",
       "poisson               inf         inf           inf     inf"
      ]
     },
     "execution_count": 21,
     "metadata": {},
     "output_type": "execute_result"
    },
    {
     "data": {
      "image/png": "[encoded data removed]",
      "text/plain": [
       "<Figure size 432x288 with 1 Axes>"
      ]
     },
     "metadata": {
      "needs_background": "light"
     },
     "output_type": "display_data"
    }
   ],
   "source": [
    "from fitter import Fitter\n",
    "f = Fitter(df1['STDeviation'],distributions=['gamma',\n",
    "                          'rayleigh',\n",
    "                          \"poisson\",\n",
    "                          \"norm\"], timeout= 120)\n",
    "f.fit()\n",
    "# may take some time since by default, all distributions are tried\n",
    "# but you call manually provide a smaller set of distributions\n",
    "f.summary()"
   ]
  },
  {
   "cell_type": "code",
   "execution_count": 22,
   "id": "101c24ba",
   "metadata": {},
   "outputs": [
    {
     "name": "stderr",
     "output_type": "stream",
     "text": [
      "WARNING:matplotlib.legend:No handles with labels found to put in legend.\n"
     ]
    },
    {
     "data": {
      "text/plain": [
       "Text(0.5, 1.0, 'Distribution of Outside air temp deviation')"
      ]
     },
     "execution_count": 22,
     "metadata": {},
     "output_type": "execute_result"
    },
    {
     "data": {
      "image/png": "[encoded data removed]",
      "text/plain": [
       "<Figure size 921.6x691.2 with 2 Axes>"
      ]
     },
     "metadata": {
      "needs_background": "light"
     },
     "output_type": "display_data"
    }
   ],
   "source": [
    "fig= plt.figure(figsize=[12.8,9.6])\n",
    "ax=fig.add_subplot(111)\n",
    "sns.kdeplot(data=df1['OATDeviation'], ax=ax)\n",
    "ax.set_xlim((df1['OATDeviation'].min(), df1['OATDeviation'].max()))\n",
    "ax2 = ax.twinx()\n",
    "sns.histplot(data=df1['OATDeviation'], discrete=True, ax=ax2)\n",
    "ax.legend()\n",
    "ax.grid(True)\n",
    "plt.title('Distribution of Outside air temp deviation')\n"
   ]
  },
  {
   "cell_type": "code",
   "execution_count": 23,
   "id": "7112b77a",
   "metadata": {},
   "outputs": [
    {
     "data": {
      "text/plain": [
       "<AxesSubplot:xlabel='TimeOMS', ylabel='ValueOOS'>"
      ]
     },
     "execution_count": 23,
     "metadata": {},
     "output_type": "execute_result"
    },
    {
     "data": {
      "image/png": "[encoded data removed]",
      "text/plain": [
       "<Figure size 432x288 with 1 Axes>"
      ]
     },
     "metadata": {
      "needs_background": "light"
     },
     "output_type": "display_data"
    }
   ],
   "source": [
    "df1.plot(x='TimeOMS',y='ValueOOS',kind='scatter')"
   ]
  },
  {
   "cell_type": "code",
   "execution_count": 24,
   "id": "1723154a",
   "metadata": {},
   "outputs": [
    {
     "data": {
      "text/plain": [
       "<AxesSubplot:>"
      ]
     },
     "execution_count": 24,
     "metadata": {},
     "output_type": "execute_result"
    },
    {
     "data": {
      "image/png": "[encoded data removed]",
      "text/plain": [
       "<Figure size 432x288 with 1 Axes>"
      ]
     },
     "metadata": {
      "needs_background": "light"
     },
     "output_type": "display_data"
    }
   ],
   "source": [
    "df1.boxplot(column=['STDeviation','OATDeviation'])"
   ]
  },
  {
   "cell_type": "code",
   "execution_count": 25,
   "id": "cfca18ec",
   "metadata": {},
   "outputs": [
    {
     "data": {
      "text/plain": [
       "<AxesSubplot:>"
      ]
     },
     "execution_count": 25,
     "metadata": {},
     "output_type": "execute_result"
    },
    {
     "data": {
      "image/png": "[encoded data removed]",
      "text/plain": [
       "<Figure size 432x288 with 1 Axes>"
      ]
     },
     "metadata": {
      "needs_background": "light"
     },
     "output_type": "display_data"
    }
   ],
   "source": [
    "df1.boxplot(column=['ValueST','ValueOAT'])"
   ]
  },
  {
   "cell_type": "code",
   "execution_count": 26,
   "id": "c3971a00",
   "metadata": {},
   "outputs": [
    {
     "data": {
      "text/plain": [
       "<AxesSubplot:>"
      ]
     },
     "execution_count": 26,
     "metadata": {},
     "output_type": "execute_result"
    },
    {
     "data": {
      "image/png": "[encoded data removed]",
      "text/plain": [
       "<Figure size 432x288 with 1 Axes>"
      ]
     },
     "metadata": {
      "needs_background": "light"
     },
     "output_type": "display_data"
    }
   ],
   "source": [
    "sns.boxplot(data= df1['STDeviation'])"
   ]
  },
  {
   "cell_type": "code",
   "execution_count": 27,
   "id": "42bd9db7",
   "metadata": {},
   "outputs": [
    {
     "data": {
      "text/plain": [
       "<AxesSubplot:>"
      ]
     },
     "execution_count": 27,
     "metadata": {},
     "output_type": "execute_result"
    },
    {
     "data": {
      "image/png": "[encoded data removed]",
      "text/plain": [
       "<Figure size 432x288 with 1 Axes>"
      ]
     },
     "metadata": {
      "needs_background": "light"
     },
     "output_type": "display_data"
    }
   ],
   "source": [
    "df1.boxplot(column=['HourofDay'])"
   ]
  },
  {
   "cell_type": "code",
   "execution_count": 28,
   "id": "894870ec",
   "metadata": {},
   "outputs": [
    {
     "name": "stderr",
     "output_type": "stream",
     "text": [
      "WARNING:matplotlib.legend:No handles with labels found to put in legend.\n"
     ]
    },
    {
     "data": {
      "text/plain": [
       "Text(0.5, 1.0, 'Distribution Active Hours for HVAC')"
      ]
     },
     "execution_count": 28,
     "metadata": {},
     "output_type": "execute_result"
    },
    {
     "data": {
      "image/png": "[encoded data removed]",
      "text/plain": [
       "<Figure size 921.6x691.2 with 2 Axes>"
      ]
     },
     "metadata": {
      "needs_background": "light"
     },
     "output_type": "display_data"
    }
   ],
   "source": [
    "fig= plt.figure(figsize=[12.8,9.6])\n",
    "ax=fig.add_subplot(111)\n",
    "sns.kdeplot(data=df1['HourofDay'], ax=ax)\n",
    "ax.set_xlim((df1['HourofDay'].min(), df1['HourofDay'].max()))\n",
    "ax2 = ax.twinx()\n",
    "sns.histplot(data=df1['HourofDay'], discrete=True, ax=ax2)\n",
    "ax.legend()\n",
    "ax.grid(True)\n",
    "plt.title('Distribution Active Hours for HVAC')"
   ]
  },
  {
   "cell_type": "code",
   "execution_count": 29,
   "id": "8bfd800f",
   "metadata": {},
   "outputs": [
    {
     "name": "stdout",
     "output_type": "stream",
     "text": [
      "<class 'pandas.core.frame.DataFrame'>\n",
      "Int64Index: 22673 entries, 0 to 105935\n",
      "Data columns (total 15 columns):\n",
      " #   Column        Non-Null Count  Dtype         \n",
      "---  ------        --------------  -----         \n",
      " 0   TimeOMS       22673 non-null  datetime64[ns]\n",
      " 1   ValueOMS      22673 non-null  int64         \n",
      " 2   ValueOOS      22673 non-null  int64         \n",
      " 3   ValueRT       22673 non-null  float64       \n",
      " 4   ValueST       22673 non-null  float64       \n",
      " 5   ValueOAT      22668 non-null  float64       \n",
      " 6   ValueOAH      22671 non-null  float64       \n",
      " 7   AnomalousST   22673 non-null  int64         \n",
      " 8   STDeviation   22673 non-null  float64       \n",
      " 9   AnomalousOAT  22673 non-null  int64         \n",
      " 10  OATDeviation  22668 non-null  float64       \n",
      " 11  HourofDay     22673 non-null  int64         \n",
      " 12  Month         22673 non-null  int64         \n",
      " 13  Year          22673 non-null  int64         \n",
      " 14  DayofWeek     22673 non-null  int64         \n",
      "dtypes: datetime64[ns](1), float64(6), int64(8)\n",
      "memory usage: 2.8 MB\n"
     ]
    }
   ],
   "source": [
    "df1=df1[(df1.DayofWeek!=5) | (df1.DayofWeek!=6)]\n",
    "df1.info()"
   ]
  },
  {
   "cell_type": "markdown",
   "id": "a63f24c0",
   "metadata": {},
   "source": [
    "# Transient Response Determinations\n"
   ]
  },
  {
   "cell_type": "code",
   "execution_count": 30,
   "id": "c6a887d8",
   "metadata": {},
   "outputs": [],
   "source": [
    "scidtest=[]\n",
    "i=0\n",
    "for i in range (0,len(df)-1):\n",
    "    if (df['ValueOOS'][i+1]!=df['ValueOOS'][i]):\n",
    "        #scidx.append(i)\n",
    "        scidtest.append(i+1)\n",
    "\n",
    "\n"
   ]
  },
  {
   "cell_type": "code",
   "execution_count": 31,
   "id": "b8bfbea4",
   "metadata": {},
   "outputs": [],
   "source": [
    "#df['ValueOOS'].diff()\n",
    "df['Consec_id'] = df['ValueOOS'] == df.shift()['ValueOOS']\n",
    "scidx= df.index[df['Consec_id'] == False].tolist()\n",
    "df['Change Period']=None\n",
    "i=0\n",
    "lsc=[]\n",
    "df.to_csv('test1')\n",
    "while i!=len(scidx)-1:\n",
    "    x=(df.iloc[scidx[i],0]-df.iloc[(scidx[i-1]),0]).total_seconds()\n",
    "    df.at[scidx[i], 'Change Period']= x\n",
    "    lsc+=[(scidx[i],scidx[i+1])]\n",
    "    i+=1\n",
    "    "
   ]
  },
  {
   "cell_type": "code",
   "execution_count": 32,
   "id": "d83a3d69",
   "metadata": {},
   "outputs": [
    {
     "data": {
      "text/html": [
       "<div>\n",
       "<style scoped>\n",
       "    .dataframe tbody tr th:only-of-type {\n",
       "        vertical-align: middle;\n",
       "    }\n",
       "\n",
       "    .dataframe tbody tr th {\n",
       "        vertical-align: top;\n",
       "    }\n",
       "\n",
       "    .dataframe thead th {\n",
       "        text-align: right;\n",
       "    }\n",
       "</style>\n",
       "<table border=\"1\" class=\"dataframe\">\n",
       "  <thead>\n",
       "    <tr style=\"text-align: right;\">\n",
       "      <th></th>\n",
       "      <th>ValueRT</th>\n",
       "      <th>ValueST</th>\n",
       "      <th>MedianValueRT</th>\n",
       "      <th>Mean-MedianValueRT</th>\n",
       "      <th>MedianValueST</th>\n",
       "      <th>Mean-MedianValueST</th>\n",
       "    </tr>\n",
       "  </thead>\n",
       "  <tbody>\n",
       "    <tr>\n",
       "      <th>0</th>\n",
       "      <td>24.973856</td>\n",
       "      <td>27.27451</td>\n",
       "      <td>27.0</td>\n",
       "      <td>2.026144</td>\n",
       "      <td>28.0</td>\n",
       "      <td>0.725490</td>\n",
       "    </tr>\n",
       "    <tr>\n",
       "      <th>1</th>\n",
       "      <td>24.1</td>\n",
       "      <td>27.511765</td>\n",
       "      <td>21.5</td>\n",
       "      <td>-2.600000</td>\n",
       "      <td>28.0</td>\n",
       "      <td>0.488235</td>\n",
       "    </tr>\n",
       "    <tr>\n",
       "      <th>2</th>\n",
       "      <td>23.353846</td>\n",
       "      <td>27.938462</td>\n",
       "      <td>26.0</td>\n",
       "      <td>2.646154</td>\n",
       "      <td>28.0</td>\n",
       "      <td>0.061538</td>\n",
       "    </tr>\n",
       "    <tr>\n",
       "      <th>3</th>\n",
       "      <td>22.556818</td>\n",
       "      <td>28.0</td>\n",
       "      <td>26.0</td>\n",
       "      <td>3.443182</td>\n",
       "      <td>28.0</td>\n",
       "      <td>0.000000</td>\n",
       "    </tr>\n",
       "    <tr>\n",
       "      <th>4</th>\n",
       "      <td>22.345238</td>\n",
       "      <td>28.0</td>\n",
       "      <td>19.0</td>\n",
       "      <td>-3.345238</td>\n",
       "      <td>28.0</td>\n",
       "      <td>0.000000</td>\n",
       "    </tr>\n",
       "    <tr>\n",
       "      <th>5</th>\n",
       "      <td>21.567568</td>\n",
       "      <td>27.945946</td>\n",
       "      <td>21.5</td>\n",
       "      <td>-0.067568</td>\n",
       "      <td>28.0</td>\n",
       "      <td>0.054054</td>\n",
       "    </tr>\n",
       "    <tr>\n",
       "      <th>6</th>\n",
       "      <td>25.558642</td>\n",
       "      <td>23.685185</td>\n",
       "      <td>31.5</td>\n",
       "      <td>5.941358</td>\n",
       "      <td>19.0</td>\n",
       "      <td>-4.685185</td>\n",
       "    </tr>\n",
       "    <tr>\n",
       "      <th>7</th>\n",
       "      <td>23.785276</td>\n",
       "      <td>25.944785</td>\n",
       "      <td>29.5</td>\n",
       "      <td>5.714724</td>\n",
       "      <td>28.0</td>\n",
       "      <td>2.055215</td>\n",
       "    </tr>\n",
       "    <tr>\n",
       "      <th>8</th>\n",
       "      <td>23.833333</td>\n",
       "      <td>26.058753</td>\n",
       "      <td>27.5</td>\n",
       "      <td>3.666667</td>\n",
       "      <td>28.0</td>\n",
       "      <td>1.941247</td>\n",
       "    </tr>\n",
       "    <tr>\n",
       "      <th>9</th>\n",
       "      <td>24.588386</td>\n",
       "      <td>25.771731</td>\n",
       "      <td>26.0</td>\n",
       "      <td>1.411614</td>\n",
       "      <td>24.0</td>\n",
       "      <td>-1.771731</td>\n",
       "    </tr>\n",
       "    <tr>\n",
       "      <th>10</th>\n",
       "      <td>25.115578</td>\n",
       "      <td>25.594221</td>\n",
       "      <td>27.0</td>\n",
       "      <td>1.884422</td>\n",
       "      <td>24.0</td>\n",
       "      <td>-1.594221</td>\n",
       "    </tr>\n",
       "    <tr>\n",
       "      <th>11</th>\n",
       "      <td>25.389701</td>\n",
       "      <td>25.705972</td>\n",
       "      <td>26.5</td>\n",
       "      <td>1.110299</td>\n",
       "      <td>26.0</td>\n",
       "      <td>0.294028</td>\n",
       "    </tr>\n",
       "    <tr>\n",
       "      <th>12</th>\n",
       "      <td>25.633373</td>\n",
       "      <td>25.813397</td>\n",
       "      <td>25.5</td>\n",
       "      <td>-0.133373</td>\n",
       "      <td>24.0</td>\n",
       "      <td>-1.813397</td>\n",
       "    </tr>\n",
       "    <tr>\n",
       "      <th>13</th>\n",
       "      <td>25.819597</td>\n",
       "      <td>25.867723</td>\n",
       "      <td>27.0</td>\n",
       "      <td>1.180403</td>\n",
       "      <td>26.0</td>\n",
       "      <td>0.132277</td>\n",
       "    </tr>\n",
       "    <tr>\n",
       "      <th>14</th>\n",
       "      <td>26.073684</td>\n",
       "      <td>25.759357</td>\n",
       "      <td>26.5</td>\n",
       "      <td>0.426316</td>\n",
       "      <td>26.0</td>\n",
       "      <td>0.240643</td>\n",
       "    </tr>\n",
       "    <tr>\n",
       "      <th>15</th>\n",
       "      <td>26.31515</td>\n",
       "      <td>25.556529</td>\n",
       "      <td>27.5</td>\n",
       "      <td>1.184850</td>\n",
       "      <td>26.0</td>\n",
       "      <td>0.443471</td>\n",
       "    </tr>\n",
       "    <tr>\n",
       "      <th>16</th>\n",
       "      <td>26.36165</td>\n",
       "      <td>25.190399</td>\n",
       "      <td>27.5</td>\n",
       "      <td>1.138350</td>\n",
       "      <td>24.0</td>\n",
       "      <td>-1.190399</td>\n",
       "    </tr>\n",
       "    <tr>\n",
       "      <th>17</th>\n",
       "      <td>26.363612</td>\n",
       "      <td>25.089208</td>\n",
       "      <td>27.5</td>\n",
       "      <td>1.136388</td>\n",
       "      <td>26.0</td>\n",
       "      <td>0.910792</td>\n",
       "    </tr>\n",
       "    <tr>\n",
       "      <th>18</th>\n",
       "      <td>26.355864</td>\n",
       "      <td>25.056173</td>\n",
       "      <td>26.0</td>\n",
       "      <td>-0.355864</td>\n",
       "      <td>24.0</td>\n",
       "      <td>-1.056173</td>\n",
       "    </tr>\n",
       "    <tr>\n",
       "      <th>19</th>\n",
       "      <td>26.140935</td>\n",
       "      <td>25.276746</td>\n",
       "      <td>27.0</td>\n",
       "      <td>0.859065</td>\n",
       "      <td>24.0</td>\n",
       "      <td>-1.276746</td>\n",
       "    </tr>\n",
       "    <tr>\n",
       "      <th>20</th>\n",
       "      <td>25.8693</td>\n",
       "      <td>25.808632</td>\n",
       "      <td>25.5</td>\n",
       "      <td>-0.369300</td>\n",
       "      <td>24.0</td>\n",
       "      <td>-1.808632</td>\n",
       "    </tr>\n",
       "    <tr>\n",
       "      <th>21</th>\n",
       "      <td>25.616625</td>\n",
       "      <td>26.376551</td>\n",
       "      <td>25.5</td>\n",
       "      <td>-0.116625</td>\n",
       "      <td>28.0</td>\n",
       "      <td>1.623449</td>\n",
       "    </tr>\n",
       "    <tr>\n",
       "      <th>22</th>\n",
       "      <td>25.400891</td>\n",
       "      <td>26.982183</td>\n",
       "      <td>25.5</td>\n",
       "      <td>0.099109</td>\n",
       "      <td>28.0</td>\n",
       "      <td>1.017817</td>\n",
       "    </tr>\n",
       "    <tr>\n",
       "      <th>23</th>\n",
       "      <td>25.271008</td>\n",
       "      <td>27.27521</td>\n",
       "      <td>26.0</td>\n",
       "      <td>0.728992</td>\n",
       "      <td>28.0</td>\n",
       "      <td>0.724790</td>\n",
       "    </tr>\n",
       "  </tbody>\n",
       "</table>\n",
       "</div>"
      ],
      "text/plain": [
       "      ValueRT    ValueST  MedianValueRT  Mean-MedianValueRT  MedianValueST  \\\n",
       "0   24.973856   27.27451           27.0            2.026144           28.0   \n",
       "1        24.1  27.511765           21.5           -2.600000           28.0   \n",
       "2   23.353846  27.938462           26.0            2.646154           28.0   \n",
       "3   22.556818       28.0           26.0            3.443182           28.0   \n",
       "4   22.345238       28.0           19.0           -3.345238           28.0   \n",
       "5   21.567568  27.945946           21.5           -0.067568           28.0   \n",
       "6   25.558642  23.685185           31.5            5.941358           19.0   \n",
       "7   23.785276  25.944785           29.5            5.714724           28.0   \n",
       "8   23.833333  26.058753           27.5            3.666667           28.0   \n",
       "9   24.588386  25.771731           26.0            1.411614           24.0   \n",
       "10  25.115578  25.594221           27.0            1.884422           24.0   \n",
       "11  25.389701  25.705972           26.5            1.110299           26.0   \n",
       "12  25.633373  25.813397           25.5           -0.133373           24.0   \n",
       "13  25.819597  25.867723           27.0            1.180403           26.0   \n",
       "14  26.073684  25.759357           26.5            0.426316           26.0   \n",
       "15   26.31515  25.556529           27.5            1.184850           26.0   \n",
       "16   26.36165  25.190399           27.5            1.138350           24.0   \n",
       "17  26.363612  25.089208           27.5            1.136388           26.0   \n",
       "18  26.355864  25.056173           26.0           -0.355864           24.0   \n",
       "19  26.140935  25.276746           27.0            0.859065           24.0   \n",
       "20    25.8693  25.808632           25.5           -0.369300           24.0   \n",
       "21  25.616625  26.376551           25.5           -0.116625           28.0   \n",
       "22  25.400891  26.982183           25.5            0.099109           28.0   \n",
       "23  25.271008   27.27521           26.0            0.728992           28.0   \n",
       "\n",
       "    Mean-MedianValueST  \n",
       "0             0.725490  \n",
       "1             0.488235  \n",
       "2             0.061538  \n",
       "3             0.000000  \n",
       "4             0.000000  \n",
       "5             0.054054  \n",
       "6            -4.685185  \n",
       "7             2.055215  \n",
       "8             1.941247  \n",
       "9            -1.771731  \n",
       "10           -1.594221  \n",
       "11            0.294028  \n",
       "12           -1.813397  \n",
       "13            0.132277  \n",
       "14            0.240643  \n",
       "15            0.443471  \n",
       "16           -1.190399  \n",
       "17            0.910792  \n",
       "18           -1.056173  \n",
       "19           -1.276746  \n",
       "20           -1.808632  \n",
       "21            1.623449  \n",
       "22            1.017817  \n",
       "23            0.724790  "
      ]
     },
     "execution_count": 32,
     "metadata": {},
     "output_type": "execute_result"
    }
   ],
   "source": [
    "def w_avg(grouped):\n",
    "    d=grouped.iloc[:,0]\n",
    "    w=grouped.iloc[:,1]\n",
    "    wm = sum([d[i]*w[i] for i in range(len(grouped))])/sum(w)\n",
    "    return wm\n",
    "\n",
    "def wmdn(grouped):\n",
    "    cumsum=grouped.iloc[:,1].cumsum()\n",
    "    cutoff=grouped.iloc[:,1].sum()/2.0\n",
    "    median=grouped.iloc[:,0][cumsum>=cutoff].iloc[0]\n",
    "    return median\n",
    "\n",
    "def wavds(df, attribute,columnslist):\n",
    "    x= pd.DataFrame(columns=columnslist,index=sorted(df[attribute].unique()))\n",
    "    #x.set_index(df[attribute].unique())\n",
    "    l1= (df[attribute].unique())\n",
    "    #print(sorted(l1))\n",
    "    for col in columnslist:\n",
    "        for l in (l1):\n",
    "            x1=df[df[attribute]==l][col].value_counts().reset_index()\n",
    "            wm1=w_avg(x1)\n",
    "            wmdn1=wmdn(x1.sort_values(by=col))\n",
    "            x.at[l,('Median'+col)]=wmdn1\n",
    "            x.at[l,col]=wm1\n",
    "            x.at[l,('Mean-Median'+col)]=wmdn1-wm1\n",
    "    return x\n",
    "\n",
    "wavds(df1, 'HourofDay', ['ValueRT','ValueST'])"
   ]
  },
  {
   "cell_type": "code",
   "execution_count": 25,
   "id": "06bc2d82",
   "metadata": {},
   "outputs": [
    {
     "data": {
      "text/plain": [
       "<AxesSubplot:>"
      ]
     },
     "execution_count": 25,
     "metadata": {},
     "output_type": "execute_result"
    },
    {
     "data": {
      "image/png": "[encoded data removed]",
      "text/plain": [
       "<Figure size 432x288 with 1 Axes>"
      ]
     },
     "metadata": {
      "needs_background": "light"
     },
     "output_type": "display_data"
    }
   ],
   "source": [
    "x=wavds(df1, 'HourofDay', ['ValueRT','ValueST'])\n",
    "x.plot()"
   ]
  },
  {
   "cell_type": "code",
   "execution_count": 26,
   "id": "340b017f",
   "metadata": {},
   "outputs": [
    {
     "data": {
      "text/plain": [
       "25.5"
      ]
     },
     "execution_count": 26,
     "metadata": {},
     "output_type": "execute_result"
    }
   ],
   "source": [
    "x=df1[df1.HourofDay==12]['ValueRT'].value_counts().reset_index()\n",
    "x.sort_values(by='ValueRT')\n",
    "def wmdn(grouped):\n",
    "    cumsum=grouped.iloc[:,1].cumsum()\n",
    "    cutoff=grouped.iloc[:,1].sum()/2.0\n",
    "    median=grouped.iloc[:,0][cumsum>=cutoff].iloc[0]\n",
    "    return median\n",
    "wmdn(x.sort_values(by='ValueRT'))"
   ]
  },
  {
   "cell_type": "code",
   "execution_count": 33,
   "id": "83395794",
   "metadata": {},
   "outputs": [],
   "source": [
    "import math\n",
    "import statsmodels.api as sm\n",
    "from scipy.stats import t\n",
    "import sklearn\n",
    "from statsmodels.regression.rolling import RollingOLS"
   ]
  },
  {
   "cell_type": "code",
   "execution_count": 28,
   "id": "9aca66d4",
   "metadata": {},
   "outputs": [],
   "source": [
    "df_wh= df[(df.HourofDay>8) |(df.HourofDay<18)]"
   ]
  },
  {
   "cell_type": "code",
   "execution_count": 34,
   "id": "2b6f396a",
   "metadata": {},
   "outputs": [
    {
     "name": "stdout",
     "output_type": "stream",
     "text": [
      "[range(0, 3)]\n"
     ]
    },
    {
     "name": "stderr",
     "output_type": "stream",
     "text": [
      "D:\\Anaconda3\\lib\\site-packages\\pandas\\core\\indexing.py:1720: SettingWithCopyWarning: \n",
      "A value is trying to be set on a copy of a slice from a DataFrame.\n",
      "Try using .loc[row_indexer,col_indexer] = value instead\n",
      "\n",
      "See the caveats in the documentation: https://pandas.pydata.org/pandas-docs/stable/user_guide/indexing.html#returning-a-view-versus-a-copy\n",
      "  self._setitem_single_column(loc, value, pi)\n"
     ]
    }
   ],
   "source": [
    "df['b1']=None #beta1\n",
    "df['b0']=None #beta2\n",
    "df['t1_ds']=None\n",
    "df['t1_k']=None\n",
    "df['sigma']=None\n",
    "df['xt-u']=None\n",
    "df['a']=None #constant\n",
    "#df1.iloc[i,df.columns.get_loc('xt-u')]=b0_val\n",
    "window=3\n",
    "feature_col='STDeviation'\n",
    "df_fin=pd.DataFrame(columns= list(df.columns))\n",
    "total = sum(range(window+1))\n",
    "tbar= total/window\n",
    "t_tbar=0\n",
    "for x in range(window+1):\n",
    "    t_tbar+=(x-tbar)\n",
    "tx= math.sqrt(t_tbar**2)\n",
    "\n",
    "print([range(0,window)])\n",
    "l_avgst=[]\n",
    "for j in range(0,len(lsc)):\n",
    "    if df.iloc[lsc[j][0],2]==1:\n",
    "        l_avgst+=[(df['STDeviation'].iloc[lsc[j][0]:lsc[j][1]].mean(axis=0))]\n",
    "        df1=df.iloc[lsc[j][0]:lsc[j][1]]\n",
    "        if len(df1)>=(window):\n",
    "            for i in range(window,len(df1)):\n",
    "                temp=df1.iloc[i-window:i,:].reset_index()\n",
    "                temp['index']+=1\n",
    "                #print(temp)\n",
    "                RollOLS=sm.OLS(temp.loc[:,feature_col],sm.add_constant(temp.loc[:,['index']])).fit()\n",
    "                df1.iloc[i,df.columns.get_loc('a')]=RollOLS.params[0]\n",
    "                df1.iloc[i,df.columns.get_loc('b1')]=RollOLS.params[1]\n",
    "                b0_val=((temp[feature_col].sum())-(RollOLS.params[1]*total))/window\n",
    "                #print(b0_val)\n",
    "                phi=0\n",
    "                for k in range(0,window):\n",
    "                    phi1= (temp.loc[k,feature_col]-(RollOLS.params[1]*temp.loc[k,'index'])-b0_val)**2\n",
    "                    phi+=phi1\n",
    "                xt=(temp.loc[0,feature_col])\n",
    "\n",
    "\n",
    "\n",
    "\n",
    "                alpha=math.sqrt(phi/(window-2))\n",
    "                xtu=(xt-b0_val)/alpha\n",
    "                std=alpha/tx\n",
    "                t1_ds=RollOLS.params[1]/std\n",
    "\n",
    "\n",
    "                df1.iloc[i,df.columns.get_loc('b0')]=b0_val\n",
    "                df1.iloc[i,df.columns.get_loc('sigma')]=std\n",
    "                df1.iloc[i,df.columns.get_loc('t1_ds')]=t1_ds\n",
    "                df1.iloc[i,df.columns.get_loc('t1_k')]=xtu\n",
    "\n",
    "\n",
    "            #print(df1)\n",
    "\n",
    "            df_fin=df_fin.append(df1)\n",
    "\n",
    "\n",
    "            "
   ]
  },
  {
   "cell_type": "code",
   "execution_count": 36,
   "id": "1502bd04",
   "metadata": {},
   "outputs": [
    {
     "data": {
      "text/html": [
       "<div>\n",
       "<style scoped>\n",
       "    .dataframe tbody tr th:only-of-type {\n",
       "        vertical-align: middle;\n",
       "    }\n",
       "\n",
       "    .dataframe tbody tr th {\n",
       "        vertical-align: top;\n",
       "    }\n",
       "\n",
       "    .dataframe thead th {\n",
       "        text-align: right;\n",
       "    }\n",
       "</style>\n",
       "<table border=\"1\" class=\"dataframe\">\n",
       "  <thead>\n",
       "    <tr style=\"text-align: right;\">\n",
       "      <th></th>\n",
       "      <th>TimeOMS</th>\n",
       "      <th>ValueOMS</th>\n",
       "      <th>ValueOOS</th>\n",
       "      <th>ValueRT</th>\n",
       "      <th>ValueST</th>\n",
       "      <th>ValueOAT</th>\n",
       "      <th>ValueOAH</th>\n",
       "      <th>AnomalousST</th>\n",
       "      <th>STDeviation</th>\n",
       "      <th>AnomalousOAT</th>\n",
       "      <th>...</th>\n",
       "      <th>Change Period</th>\n",
       "      <th>b1</th>\n",
       "      <th>b0</th>\n",
       "      <th>t1_ds</th>\n",
       "      <th>t1_k</th>\n",
       "      <th>sigma</th>\n",
       "      <th>xt-u</th>\n",
       "      <th>a</th>\n",
       "      <th>SSt_ds</th>\n",
       "      <th>SSt_k</th>\n",
       "    </tr>\n",
       "  </thead>\n",
       "  <tbody>\n",
       "    <tr>\n",
       "      <th>0</th>\n",
       "      <td>2017-12-08 15:30:52</td>\n",
       "      <td>2</td>\n",
       "      <td>1</td>\n",
       "      <td>24.0</td>\n",
       "      <td>24.0</td>\n",
       "      <td>15.3</td>\n",
       "      <td>62.180</td>\n",
       "      <td>0</td>\n",
       "      <td>0.0</td>\n",
       "      <td>0</td>\n",
       "      <td>...</td>\n",
       "      <td>-69487946.0</td>\n",
       "      <td>None</td>\n",
       "      <td>None</td>\n",
       "      <td>None</td>\n",
       "      <td>None</td>\n",
       "      <td>None</td>\n",
       "      <td>None</td>\n",
       "      <td>None</td>\n",
       "      <td>NaN</td>\n",
       "      <td>NaN</td>\n",
       "    </tr>\n",
       "    <tr>\n",
       "      <th>1</th>\n",
       "      <td>2017-12-08 15:40:52</td>\n",
       "      <td>2</td>\n",
       "      <td>1</td>\n",
       "      <td>24.0</td>\n",
       "      <td>24.0</td>\n",
       "      <td>15.1</td>\n",
       "      <td>62.180</td>\n",
       "      <td>0</td>\n",
       "      <td>0.0</td>\n",
       "      <td>0</td>\n",
       "      <td>...</td>\n",
       "      <td>None</td>\n",
       "      <td>None</td>\n",
       "      <td>None</td>\n",
       "      <td>None</td>\n",
       "      <td>None</td>\n",
       "      <td>None</td>\n",
       "      <td>None</td>\n",
       "      <td>None</td>\n",
       "      <td>NaN</td>\n",
       "      <td>NaN</td>\n",
       "    </tr>\n",
       "    <tr>\n",
       "      <th>2</th>\n",
       "      <td>2017-12-08 15:50:52</td>\n",
       "      <td>2</td>\n",
       "      <td>1</td>\n",
       "      <td>24.5</td>\n",
       "      <td>24.0</td>\n",
       "      <td>15.1</td>\n",
       "      <td>62.895</td>\n",
       "      <td>0</td>\n",
       "      <td>0.5</td>\n",
       "      <td>0</td>\n",
       "      <td>...</td>\n",
       "      <td>None</td>\n",
       "      <td>None</td>\n",
       "      <td>None</td>\n",
       "      <td>None</td>\n",
       "      <td>None</td>\n",
       "      <td>None</td>\n",
       "      <td>None</td>\n",
       "      <td>None</td>\n",
       "      <td>NaN</td>\n",
       "      <td>NaN</td>\n",
       "    </tr>\n",
       "    <tr>\n",
       "      <th>3</th>\n",
       "      <td>2017-12-08 16:00:52</td>\n",
       "      <td>2</td>\n",
       "      <td>1</td>\n",
       "      <td>24.5</td>\n",
       "      <td>26.0</td>\n",
       "      <td>15.1</td>\n",
       "      <td>62.895</td>\n",
       "      <td>1</td>\n",
       "      <td>-1.5</td>\n",
       "      <td>0</td>\n",
       "      <td>...</td>\n",
       "      <td>None</td>\n",
       "      <td>0.25</td>\n",
       "      <td>-0.333333</td>\n",
       "      <td>2.44949</td>\n",
       "      <td>1.632993</td>\n",
       "      <td>0.102062</td>\n",
       "      <td>None</td>\n",
       "      <td>-0.333333</td>\n",
       "      <td>1.0</td>\n",
       "      <td>1.0</td>\n",
       "    </tr>\n",
       "    <tr>\n",
       "      <th>4</th>\n",
       "      <td>2017-12-08 16:10:52</td>\n",
       "      <td>2</td>\n",
       "      <td>1</td>\n",
       "      <td>24.5</td>\n",
       "      <td>26.0</td>\n",
       "      <td>15.6</td>\n",
       "      <td>62.895</td>\n",
       "      <td>1</td>\n",
       "      <td>-1.5</td>\n",
       "      <td>0</td>\n",
       "      <td>...</td>\n",
       "      <td>None</td>\n",
       "      <td>-0.75</td>\n",
       "      <td>1.166667</td>\n",
       "      <td>-0.90798</td>\n",
       "      <td>-0.706207</td>\n",
       "      <td>0.826009</td>\n",
       "      <td>None</td>\n",
       "      <td>1.916667</td>\n",
       "      <td>1.0</td>\n",
       "      <td>1.0</td>\n",
       "    </tr>\n",
       "    <tr>\n",
       "      <th>...</th>\n",
       "      <td>...</td>\n",
       "      <td>...</td>\n",
       "      <td>...</td>\n",
       "      <td>...</td>\n",
       "      <td>...</td>\n",
       "      <td>...</td>\n",
       "      <td>...</td>\n",
       "      <td>...</td>\n",
       "      <td>...</td>\n",
       "      <td>...</td>\n",
       "      <td>...</td>\n",
       "      <td>...</td>\n",
       "      <td>...</td>\n",
       "      <td>...</td>\n",
       "      <td>...</td>\n",
       "      <td>...</td>\n",
       "      <td>...</td>\n",
       "      <td>...</td>\n",
       "      <td>...</td>\n",
       "      <td>...</td>\n",
       "      <td>...</td>\n",
       "    </tr>\n",
       "    <tr>\n",
       "      <th>105931</th>\n",
       "      <td>2020-02-20 20:53:18</td>\n",
       "      <td>2</td>\n",
       "      <td>1</td>\n",
       "      <td>25.5</td>\n",
       "      <td>26.5</td>\n",
       "      <td>13.6</td>\n",
       "      <td>70.370</td>\n",
       "      <td>0</td>\n",
       "      <td>-1.0</td>\n",
       "      <td>0</td>\n",
       "      <td>...</td>\n",
       "      <td>None</td>\n",
       "      <td>-0.25</td>\n",
       "      <td>0.166667</td>\n",
       "      <td>-0.000011</td>\n",
       "      <td>-0.000004</td>\n",
       "      <td>22934.084743</td>\n",
       "      <td>None</td>\n",
       "      <td>26482.166667</td>\n",
       "      <td>1.0</td>\n",
       "      <td>1.0</td>\n",
       "    </tr>\n",
       "    <tr>\n",
       "      <th>105932</th>\n",
       "      <td>2020-02-20 21:03:18</td>\n",
       "      <td>2</td>\n",
       "      <td>1</td>\n",
       "      <td>25.5</td>\n",
       "      <td>26.5</td>\n",
       "      <td>13.1</td>\n",
       "      <td>70.370</td>\n",
       "      <td>0</td>\n",
       "      <td>-1.0</td>\n",
       "      <td>0</td>\n",
       "      <td>...</td>\n",
       "      <td>None</td>\n",
       "      <td>-0.25</td>\n",
       "      <td>-0.166667</td>\n",
       "      <td>-0.000011</td>\n",
       "      <td>-0.000007</td>\n",
       "      <td>22934.30125</td>\n",
       "      <td>None</td>\n",
       "      <td>26482.083333</td>\n",
       "      <td>1.0</td>\n",
       "      <td>1.0</td>\n",
       "    </tr>\n",
       "    <tr>\n",
       "      <th>105933</th>\n",
       "      <td>2020-02-20 21:13:18</td>\n",
       "      <td>2</td>\n",
       "      <td>1</td>\n",
       "      <td>25.5</td>\n",
       "      <td>26.5</td>\n",
       "      <td>13.1</td>\n",
       "      <td>69.330</td>\n",
       "      <td>0</td>\n",
       "      <td>-1.0</td>\n",
       "      <td>0</td>\n",
       "      <td>...</td>\n",
       "      <td>None</td>\n",
       "      <td>-0.25</td>\n",
       "      <td>-0.333333</td>\n",
       "      <td>-0.000011</td>\n",
       "      <td>-0.000004</td>\n",
       "      <td>22934.517756</td>\n",
       "      <td>None</td>\n",
       "      <td>26482.166667</td>\n",
       "      <td>1.0</td>\n",
       "      <td>1.0</td>\n",
       "    </tr>\n",
       "    <tr>\n",
       "      <th>105934</th>\n",
       "      <td>2020-02-20 21:23:18</td>\n",
       "      <td>2</td>\n",
       "      <td>1</td>\n",
       "      <td>25.0</td>\n",
       "      <td>26.5</td>\n",
       "      <td>13.1</td>\n",
       "      <td>70.370</td>\n",
       "      <td>1</td>\n",
       "      <td>-1.5</td>\n",
       "      <td>0</td>\n",
       "      <td>...</td>\n",
       "      <td>None</td>\n",
       "      <td>0.0</td>\n",
       "      <td>-1.0</td>\n",
       "      <td>0.000011</td>\n",
       "      <td>0.000022</td>\n",
       "      <td>0.0</td>\n",
       "      <td>None</td>\n",
       "      <td>-1.0</td>\n",
       "      <td>1.0</td>\n",
       "      <td>1.0</td>\n",
       "    </tr>\n",
       "    <tr>\n",
       "      <th>105935</th>\n",
       "      <td>2020-02-20 21:33:18</td>\n",
       "      <td>2</td>\n",
       "      <td>1</td>\n",
       "      <td>25.5</td>\n",
       "      <td>26.5</td>\n",
       "      <td>12.6</td>\n",
       "      <td>70.370</td>\n",
       "      <td>0</td>\n",
       "      <td>-1.0</td>\n",
       "      <td>0</td>\n",
       "      <td>...</td>\n",
       "      <td>None</td>\n",
       "      <td>-0.25</td>\n",
       "      <td>-0.666667</td>\n",
       "      <td>-0.000011</td>\n",
       "      <td>-0.000007</td>\n",
       "      <td>22934.950769</td>\n",
       "      <td>None</td>\n",
       "      <td>26482.333333</td>\n",
       "      <td>1.0</td>\n",
       "      <td>1.0</td>\n",
       "    </tr>\n",
       "  </tbody>\n",
       "</table>\n",
       "<p>22628 rows × 26 columns</p>\n",
       "</div>"
      ],
      "text/plain": [
       "                   TimeOMS ValueOMS ValueOOS  ValueRT  ValueST  ValueOAT  \\\n",
       "0      2017-12-08 15:30:52        2        1     24.0     24.0      15.3   \n",
       "1      2017-12-08 15:40:52        2        1     24.0     24.0      15.1   \n",
       "2      2017-12-08 15:50:52        2        1     24.5     24.0      15.1   \n",
       "3      2017-12-08 16:00:52        2        1     24.5     26.0      15.1   \n",
       "4      2017-12-08 16:10:52        2        1     24.5     26.0      15.6   \n",
       "...                    ...      ...      ...      ...      ...       ...   \n",
       "105931 2020-02-20 20:53:18        2        1     25.5     26.5      13.6   \n",
       "105932 2020-02-20 21:03:18        2        1     25.5     26.5      13.1   \n",
       "105933 2020-02-20 21:13:18        2        1     25.5     26.5      13.1   \n",
       "105934 2020-02-20 21:23:18        2        1     25.0     26.5      13.1   \n",
       "105935 2020-02-20 21:33:18        2        1     25.5     26.5      12.6   \n",
       "\n",
       "        ValueOAH AnomalousST  STDeviation AnomalousOAT  ...  Change Period  \\\n",
       "0         62.180           0          0.0            0  ...    -69487946.0   \n",
       "1         62.180           0          0.0            0  ...           None   \n",
       "2         62.895           0          0.5            0  ...           None   \n",
       "3         62.895           1         -1.5            0  ...           None   \n",
       "4         62.895           1         -1.5            0  ...           None   \n",
       "...          ...         ...          ...          ...  ...            ...   \n",
       "105931    70.370           0         -1.0            0  ...           None   \n",
       "105932    70.370           0         -1.0            0  ...           None   \n",
       "105933    69.330           0         -1.0            0  ...           None   \n",
       "105934    70.370           1         -1.5            0  ...           None   \n",
       "105935    70.370           0         -1.0            0  ...           None   \n",
       "\n",
       "          b1        b0     t1_ds      t1_k         sigma  xt-u             a  \\\n",
       "0       None      None      None      None          None  None          None   \n",
       "1       None      None      None      None          None  None          None   \n",
       "2       None      None      None      None          None  None          None   \n",
       "3       0.25 -0.333333   2.44949  1.632993      0.102062  None     -0.333333   \n",
       "4      -0.75  1.166667  -0.90798 -0.706207      0.826009  None      1.916667   \n",
       "...      ...       ...       ...       ...           ...   ...           ...   \n",
       "105931 -0.25  0.166667 -0.000011 -0.000004  22934.084743  None  26482.166667   \n",
       "105932 -0.25 -0.166667 -0.000011 -0.000007   22934.30125  None  26482.083333   \n",
       "105933 -0.25 -0.333333 -0.000011 -0.000004  22934.517756  None  26482.166667   \n",
       "105934   0.0      -1.0  0.000011  0.000022           0.0  None          -1.0   \n",
       "105935 -0.25 -0.666667 -0.000011 -0.000007  22934.950769  None  26482.333333   \n",
       "\n",
       "       SSt_ds SSt_k  \n",
       "0         NaN   NaN  \n",
       "1         NaN   NaN  \n",
       "2         NaN   NaN  \n",
       "3         1.0   1.0  \n",
       "4         1.0   1.0  \n",
       "...       ...   ...  \n",
       "105931    1.0   1.0  \n",
       "105932    1.0   1.0  \n",
       "105933    1.0   1.0  \n",
       "105934    1.0   1.0  \n",
       "105935    1.0   1.0  \n",
       "\n",
       "[22628 rows x 26 columns]"
      ]
     },
     "execution_count": 36,
     "metadata": {},
     "output_type": "execute_result"
    }
   ],
   "source": [
    " df_fin"
   ]
  },
  {
   "cell_type": "code",
   "execution_count": 35,
   "id": "7c23f4e1",
   "metadata": {},
   "outputs": [
    {
     "name": "stdout",
     "output_type": "stream",
     "text": [
      "12.706204736432095\n",
      "6.313751514800932\n",
      "0.9750000000005044\n",
      "0.9500000000009806\n"
     ]
    }
   ],
   "source": [
    "a=0.05\n",
    "p1= 1-(a/2) \n",
    "p2=1-a\n",
    "degree = window-2\n",
    "# retrieve value <= probability\n",
    "value1 = t.ppf(p1, degree)\n",
    "value2 = t.ppf(p2, degree)\n",
    "print(value1)\n",
    "print(value2)\n",
    "# confirm with cdf\n",
    "p1 = t.cdf(value1, degree)\n",
    "p2 = t.cdf(value2, degree)\n",
    "print(p1)\n",
    "print(p2)\n",
    "\n",
    "def t_test(t1,t_val):\n",
    "    if t1!=None:\n",
    "        if abs(t1)<t_val:\n",
    "            return 1\n",
    "        \n",
    "df_fin['SSt_ds']= df_fin['t1_ds'].apply(t_test,t_val=value1)\n",
    "df_fin['SSt_k']= df_fin['t1_k'].apply(t_test,t_val=value2)\n",
    "\n",
    "#df_fin['SSt']=df_fin['SSt'].fillna(0)"
   ]
  },
  {
   "cell_type": "code",
   "execution_count": 37,
   "id": "30552822",
   "metadata": {},
   "outputs": [
    {
     "name": "stdout",
     "output_type": "stream",
     "text": [
      "            ValueRT       ValueST      ValueOAT      ValueOAH   STDeviation  \\\n",
      "count  16958.000000  16958.000000  16955.000000  16957.000000  16958.000000   \n",
      "mean      25.689851     25.694274     20.698850     59.832763     -0.004423   \n",
      "std        1.800710      2.653794      8.919982      9.802376      3.608385   \n",
      "min       15.000000     19.000000      2.500000     38.130000    -12.000000   \n",
      "25%       25.000000     24.000000     13.100000     51.780000     -2.000000   \n",
      "50%       26.000000     26.000000     17.600000     59.125000     -0.500000   \n",
      "75%       27.000000     28.000000     29.900000     67.315000      2.500000   \n",
      "max       32.000000     28.000000     35.900000     86.555000     12.500000   \n",
      "\n",
      "       OATDeviation   SSt_ds    SSt_k  \n",
      "count  16955.000000  16958.0  16958.0  \n",
      "mean       4.990947      1.0      1.0  \n",
      "std        8.172984      0.0      0.0  \n",
      "min       -9.900000      1.0      1.0  \n",
      "25%       -3.500000      1.0      1.0  \n",
      "50%        7.800000      1.0      1.0  \n",
      "75%       11.900000      1.0      1.0  \n",
      "max       21.200000      1.0      1.0  \n"
     ]
    }
   ],
   "source": [
    "print(df_fin[df_fin['SSt_k']==1].describe())\n",
    "\n"
   ]
  },
  {
   "cell_type": "code",
   "execution_count": 38,
   "id": "c127d93d",
   "metadata": {},
   "outputs": [
    {
     "name": "stdout",
     "output_type": "stream",
     "text": [
      "            ValueRT       ValueST      ValueOAT      ValueOAH   STDeviation  \\\n",
      "count  16958.000000  16958.000000  16955.000000  16957.000000  16958.000000   \n",
      "mean      25.689851     25.694274     20.698850     59.832763     -0.004423   \n",
      "std        1.800710      2.653794      8.919982      9.802376      3.608385   \n",
      "min       15.000000     19.000000      2.500000     38.130000    -12.000000   \n",
      "25%       25.000000     24.000000     13.100000     51.780000     -2.000000   \n",
      "50%       26.000000     26.000000     17.600000     59.125000     -0.500000   \n",
      "75%       27.000000     28.000000     29.900000     67.315000      2.500000   \n",
      "max       32.000000     28.000000     35.900000     86.555000     12.500000   \n",
      "\n",
      "       OATDeviation   SSt_ds    SSt_k  \n",
      "count  16955.000000  16958.0  16958.0  \n",
      "mean       4.990947      1.0      1.0  \n",
      "std        8.172984      0.0      0.0  \n",
      "min       -9.900000      1.0      1.0  \n",
      "25%       -3.500000      1.0      1.0  \n",
      "50%        7.800000      1.0      1.0  \n",
      "75%       11.900000      1.0      1.0  \n",
      "max       21.200000      1.0      1.0  \n"
     ]
    }
   ],
   "source": [
    "print(df_fin[df_fin['SSt_ds']==1].describe())"
   ]
  },
  {
   "cell_type": "markdown",
   "id": "788ebae3",
   "metadata": {},
   "source": [
    "## Creating Training Set "
   ]
  },
  {
   "cell_type": "code",
   "execution_count": 44,
   "id": "313f732c",
   "metadata": {},
   "outputs": [],
   "source": [
    "dataset= df_fin[df_fin['SSt_k']==1]"
   ]
  },
  {
   "cell_type": "code",
   "execution_count": 45,
   "id": "be7cb464",
   "metadata": {},
   "outputs": [
    {
     "data": {
      "text/plain": [
       "1.0    16958\n",
       "Name: SSt_k, dtype: int64"
      ]
     },
     "execution_count": 45,
     "metadata": {},
     "output_type": "execute_result"
    }
   ],
   "source": [
    "dataset['SSt_k'].value_counts() "
   ]
  },
  {
   "cell_type": "code",
   "execution_count": 46,
   "id": "0ade22a8",
   "metadata": {
    "scrolled": true
   },
   "outputs": [
    {
     "data": {
      "text/plain": [
       "Index(['TimeOMS', 'ValueOMS', 'ValueOOS', 'ValueRT', 'ValueST', 'ValueOAT',\n",
       "       'ValueOAH', 'AnomalousST', 'STDeviation', 'AnomalousOAT',\n",
       "       'OATDeviation', 'HourofDay', 'Month', 'Year', 'DayofWeek', 'Consec_id',\n",
       "       'Change Period', 'b1', 'b0', 't1_ds', 't1_k', 'sigma', 'xt-u', 'a',\n",
       "       'SSt_ds', 'SSt_k'],\n",
       "      dtype='object')"
      ]
     },
     "execution_count": 46,
     "metadata": {},
     "output_type": "execute_result"
    }
   ],
   "source": [
    "dataset.columns"
   ]
  },
  {
   "cell_type": "code",
   "execution_count": 48,
   "id": "2cca199c",
   "metadata": {},
   "outputs": [],
   "source": [
    "dataset=dataset[['TimeOMS', 'ValueOMS', 'ValueOOS', 'ValueRT', 'ValueST', 'ValueOAT',\n",
    "       'AnomalousST', 'STDeviation', 'AnomalousOAT', 'OATDeviation','ValueOAH',\n",
    "       'HourofDay', 'Month', 'Year', 'DayofWeek']]"
   ]
  },
  {
   "cell_type": "code",
   "execution_count": 49,
   "id": "ad80e69d",
   "metadata": {},
   "outputs": [
    {
     "data": {
      "text/html": [
       "<div>\n",
       "<style scoped>\n",
       "    .dataframe tbody tr th:only-of-type {\n",
       "        vertical-align: middle;\n",
       "    }\n",
       "\n",
       "    .dataframe tbody tr th {\n",
       "        vertical-align: top;\n",
       "    }\n",
       "\n",
       "    .dataframe thead th {\n",
       "        text-align: right;\n",
       "    }\n",
       "</style>\n",
       "<table border=\"1\" class=\"dataframe\">\n",
       "  <thead>\n",
       "    <tr style=\"text-align: right;\">\n",
       "      <th></th>\n",
       "      <th>ValueRT</th>\n",
       "      <th>ValueST</th>\n",
       "      <th>ValueOAT</th>\n",
       "      <th>STDeviation</th>\n",
       "      <th>OATDeviation</th>\n",
       "      <th>ValueOAH</th>\n",
       "    </tr>\n",
       "  </thead>\n",
       "  <tbody>\n",
       "    <tr>\n",
       "      <th>count</th>\n",
       "      <td>16958.000000</td>\n",
       "      <td>16958.000000</td>\n",
       "      <td>16955.000000</td>\n",
       "      <td>16958.000000</td>\n",
       "      <td>16955.000000</td>\n",
       "      <td>16957.000000</td>\n",
       "    </tr>\n",
       "    <tr>\n",
       "      <th>mean</th>\n",
       "      <td>25.689851</td>\n",
       "      <td>25.694274</td>\n",
       "      <td>20.698850</td>\n",
       "      <td>-0.004423</td>\n",
       "      <td>4.990947</td>\n",
       "      <td>59.832763</td>\n",
       "    </tr>\n",
       "    <tr>\n",
       "      <th>std</th>\n",
       "      <td>1.800710</td>\n",
       "      <td>2.653794</td>\n",
       "      <td>8.919982</td>\n",
       "      <td>3.608385</td>\n",
       "      <td>8.172984</td>\n",
       "      <td>9.802376</td>\n",
       "    </tr>\n",
       "    <tr>\n",
       "      <th>min</th>\n",
       "      <td>15.000000</td>\n",
       "      <td>19.000000</td>\n",
       "      <td>2.500000</td>\n",
       "      <td>-12.000000</td>\n",
       "      <td>-9.900000</td>\n",
       "      <td>38.130000</td>\n",
       "    </tr>\n",
       "    <tr>\n",
       "      <th>25%</th>\n",
       "      <td>25.000000</td>\n",
       "      <td>24.000000</td>\n",
       "      <td>13.100000</td>\n",
       "      <td>-2.000000</td>\n",
       "      <td>-3.500000</td>\n",
       "      <td>51.780000</td>\n",
       "    </tr>\n",
       "    <tr>\n",
       "      <th>50%</th>\n",
       "      <td>26.000000</td>\n",
       "      <td>26.000000</td>\n",
       "      <td>17.600000</td>\n",
       "      <td>-0.500000</td>\n",
       "      <td>7.800000</td>\n",
       "      <td>59.125000</td>\n",
       "    </tr>\n",
       "    <tr>\n",
       "      <th>75%</th>\n",
       "      <td>27.000000</td>\n",
       "      <td>28.000000</td>\n",
       "      <td>29.900000</td>\n",
       "      <td>2.500000</td>\n",
       "      <td>11.900000</td>\n",
       "      <td>67.315000</td>\n",
       "    </tr>\n",
       "    <tr>\n",
       "      <th>max</th>\n",
       "      <td>32.000000</td>\n",
       "      <td>28.000000</td>\n",
       "      <td>35.900000</td>\n",
       "      <td>12.500000</td>\n",
       "      <td>21.200000</td>\n",
       "      <td>86.555000</td>\n",
       "    </tr>\n",
       "  </tbody>\n",
       "</table>\n",
       "</div>"
      ],
      "text/plain": [
       "            ValueRT       ValueST      ValueOAT   STDeviation  OATDeviation  \\\n",
       "count  16958.000000  16958.000000  16955.000000  16958.000000  16955.000000   \n",
       "mean      25.689851     25.694274     20.698850     -0.004423      4.990947   \n",
       "std        1.800710      2.653794      8.919982      3.608385      8.172984   \n",
       "min       15.000000     19.000000      2.500000    -12.000000     -9.900000   \n",
       "25%       25.000000     24.000000     13.100000     -2.000000     -3.500000   \n",
       "50%       26.000000     26.000000     17.600000     -0.500000      7.800000   \n",
       "75%       27.000000     28.000000     29.900000      2.500000     11.900000   \n",
       "max       32.000000     28.000000     35.900000     12.500000     21.200000   \n",
       "\n",
       "           ValueOAH  \n",
       "count  16957.000000  \n",
       "mean      59.832763  \n",
       "std        9.802376  \n",
       "min       38.130000  \n",
       "25%       51.780000  \n",
       "50%       59.125000  \n",
       "75%       67.315000  \n",
       "max       86.555000  "
      ]
     },
     "execution_count": 49,
     "metadata": {},
     "output_type": "execute_result"
    }
   ],
   "source": [
    "dataset.describe()"
   ]
  },
  {
   "cell_type": "code",
   "execution_count": 50,
   "id": "7e467687",
   "metadata": {},
   "outputs": [
    {
     "data": {
      "text/html": [
       "<div>\n",
       "<style scoped>\n",
       "    .dataframe tbody tr th:only-of-type {\n",
       "        vertical-align: middle;\n",
       "    }\n",
       "\n",
       "    .dataframe tbody tr th {\n",
       "        vertical-align: top;\n",
       "    }\n",
       "\n",
       "    .dataframe thead th {\n",
       "        text-align: right;\n",
       "    }\n",
       "</style>\n",
       "<table border=\"1\" class=\"dataframe\">\n",
       "  <thead>\n",
       "    <tr style=\"text-align: right;\">\n",
       "      <th></th>\n",
       "      <th>TimeOMS</th>\n",
       "      <th>ValueOMS</th>\n",
       "      <th>ValueOOS</th>\n",
       "      <th>ValueRT</th>\n",
       "      <th>ValueST</th>\n",
       "      <th>ValueOAT</th>\n",
       "      <th>AnomalousST</th>\n",
       "      <th>STDeviation</th>\n",
       "      <th>AnomalousOAT</th>\n",
       "      <th>OATDeviation</th>\n",
       "      <th>ValueOAH</th>\n",
       "      <th>HourofDay</th>\n",
       "      <th>Month</th>\n",
       "      <th>Year</th>\n",
       "      <th>DayofWeek</th>\n",
       "    </tr>\n",
       "  </thead>\n",
       "  <tbody>\n",
       "    <tr>\n",
       "      <th>3</th>\n",
       "      <td>2017-12-08 16:00:52</td>\n",
       "      <td>2</td>\n",
       "      <td>1</td>\n",
       "      <td>24.5</td>\n",
       "      <td>26.0</td>\n",
       "      <td>15.1</td>\n",
       "      <td>1</td>\n",
       "      <td>-1.5</td>\n",
       "      <td>0</td>\n",
       "      <td>9.4</td>\n",
       "      <td>62.895</td>\n",
       "      <td>16</td>\n",
       "      <td>12</td>\n",
       "      <td>2017</td>\n",
       "      <td>4</td>\n",
       "    </tr>\n",
       "    <tr>\n",
       "      <th>4</th>\n",
       "      <td>2017-12-08 16:10:52</td>\n",
       "      <td>2</td>\n",
       "      <td>1</td>\n",
       "      <td>24.5</td>\n",
       "      <td>26.0</td>\n",
       "      <td>15.6</td>\n",
       "      <td>1</td>\n",
       "      <td>-1.5</td>\n",
       "      <td>0</td>\n",
       "      <td>8.9</td>\n",
       "      <td>62.895</td>\n",
       "      <td>16</td>\n",
       "      <td>12</td>\n",
       "      <td>2017</td>\n",
       "      <td>4</td>\n",
       "    </tr>\n",
       "    <tr>\n",
       "      <th>403</th>\n",
       "      <td>2017-12-11 10:40:52</td>\n",
       "      <td>2</td>\n",
       "      <td>1</td>\n",
       "      <td>20.0</td>\n",
       "      <td>25.0</td>\n",
       "      <td>14.6</td>\n",
       "      <td>1</td>\n",
       "      <td>-5.0</td>\n",
       "      <td>0</td>\n",
       "      <td>5.4</td>\n",
       "      <td>55.420</td>\n",
       "      <td>10</td>\n",
       "      <td>12</td>\n",
       "      <td>2017</td>\n",
       "      <td>0</td>\n",
       "    </tr>\n",
       "    <tr>\n",
       "      <th>404</th>\n",
       "      <td>2017-12-11 10:50:52</td>\n",
       "      <td>2</td>\n",
       "      <td>1</td>\n",
       "      <td>20.5</td>\n",
       "      <td>25.0</td>\n",
       "      <td>14.6</td>\n",
       "      <td>1</td>\n",
       "      <td>-4.5</td>\n",
       "      <td>0</td>\n",
       "      <td>5.9</td>\n",
       "      <td>56.460</td>\n",
       "      <td>10</td>\n",
       "      <td>12</td>\n",
       "      <td>2017</td>\n",
       "      <td>0</td>\n",
       "    </tr>\n",
       "    <tr>\n",
       "      <th>405</th>\n",
       "      <td>2017-12-11 11:00:52</td>\n",
       "      <td>2</td>\n",
       "      <td>1</td>\n",
       "      <td>21.0</td>\n",
       "      <td>25.0</td>\n",
       "      <td>14.6</td>\n",
       "      <td>1</td>\n",
       "      <td>-4.0</td>\n",
       "      <td>0</td>\n",
       "      <td>6.4</td>\n",
       "      <td>56.460</td>\n",
       "      <td>11</td>\n",
       "      <td>12</td>\n",
       "      <td>2017</td>\n",
       "      <td>0</td>\n",
       "    </tr>\n",
       "  </tbody>\n",
       "</table>\n",
       "</div>"
      ],
      "text/plain": [
       "                TimeOMS ValueOMS ValueOOS  ValueRT  ValueST  ValueOAT  \\\n",
       "3   2017-12-08 16:00:52        2        1     24.5     26.0      15.1   \n",
       "4   2017-12-08 16:10:52        2        1     24.5     26.0      15.6   \n",
       "403 2017-12-11 10:40:52        2        1     20.0     25.0      14.6   \n",
       "404 2017-12-11 10:50:52        2        1     20.5     25.0      14.6   \n",
       "405 2017-12-11 11:00:52        2        1     21.0     25.0      14.6   \n",
       "\n",
       "    AnomalousST  STDeviation AnomalousOAT  OATDeviation  ValueOAH HourofDay  \\\n",
       "3             1         -1.5            0           9.4    62.895        16   \n",
       "4             1         -1.5            0           8.9    62.895        16   \n",
       "403           1         -5.0            0           5.4    55.420        10   \n",
       "404           1         -4.5            0           5.9    56.460        10   \n",
       "405           1         -4.0            0           6.4    56.460        11   \n",
       "\n",
       "    Month  Year DayofWeek  \n",
       "3      12  2017         4  \n",
       "4      12  2017         4  \n",
       "403    12  2017         0  \n",
       "404    12  2017         0  \n",
       "405    12  2017         0  "
      ]
     },
     "execution_count": 50,
     "metadata": {},
     "output_type": "execute_result"
    }
   ],
   "source": [
    "dataset.head()"
   ]
  },
  {
   "cell_type": "code",
   "execution_count": 51,
   "id": "086fc2ce",
   "metadata": {
    "scrolled": false
   },
   "outputs": [
    {
     "data": {
      "text/plain": [
       "1    12354\n",
       "0     4604\n",
       "Name: AnomalousST, dtype: int64"
      ]
     },
     "execution_count": 51,
     "metadata": {},
     "output_type": "execute_result"
    }
   ],
   "source": [
    "dataset['AnomalousST'].value_counts()"
   ]
  },
  {
   "cell_type": "code",
   "execution_count": 48,
   "id": "2c823e13",
   "metadata": {},
   "outputs": [
    {
     "data": {
      "text/html": [
       "<div>\n",
       "<style scoped>\n",
       "    .dataframe tbody tr th:only-of-type {\n",
       "        vertical-align: middle;\n",
       "    }\n",
       "\n",
       "    .dataframe tbody tr th {\n",
       "        vertical-align: top;\n",
       "    }\n",
       "\n",
       "    .dataframe thead th {\n",
       "        text-align: right;\n",
       "    }\n",
       "</style>\n",
       "<table border=\"1\" class=\"dataframe\">\n",
       "  <thead>\n",
       "    <tr style=\"text-align: right;\">\n",
       "      <th></th>\n",
       "      <th>ValueRT</th>\n",
       "      <th>ValueST</th>\n",
       "      <th>ValueOAT</th>\n",
       "      <th>STDeviation</th>\n",
       "      <th>OATDeviation</th>\n",
       "      <th>Season</th>\n",
       "    </tr>\n",
       "  </thead>\n",
       "  <tbody>\n",
       "    <tr>\n",
       "      <th>count</th>\n",
       "      <td>12354.00000</td>\n",
       "      <td>12354.000000</td>\n",
       "      <td>12351.000000</td>\n",
       "      <td>12354.000000</td>\n",
       "      <td>12351.000000</td>\n",
       "      <td>12354.000000</td>\n",
       "    </tr>\n",
       "    <tr>\n",
       "      <th>mean</th>\n",
       "      <td>25.48883</td>\n",
       "      <td>25.387810</td>\n",
       "      <td>20.947462</td>\n",
       "      <td>0.101020</td>\n",
       "      <td>4.541244</td>\n",
       "      <td>2.808888</td>\n",
       "    </tr>\n",
       "    <tr>\n",
       "      <th>std</th>\n",
       "      <td>1.98214</td>\n",
       "      <td>2.950158</td>\n",
       "      <td>9.596608</td>\n",
       "      <td>4.201209</td>\n",
       "      <td>8.513523</td>\n",
       "      <td>1.103331</td>\n",
       "    </tr>\n",
       "    <tr>\n",
       "      <th>min</th>\n",
       "      <td>15.00000</td>\n",
       "      <td>19.000000</td>\n",
       "      <td>2.500000</td>\n",
       "      <td>-12.000000</td>\n",
       "      <td>-9.900000</td>\n",
       "      <td>1.000000</td>\n",
       "    </tr>\n",
       "    <tr>\n",
       "      <th>25%</th>\n",
       "      <td>24.50000</td>\n",
       "      <td>24.000000</td>\n",
       "      <td>12.200000</td>\n",
       "      <td>-3.000000</td>\n",
       "      <td>-4.000000</td>\n",
       "      <td>2.000000</td>\n",
       "    </tr>\n",
       "    <tr>\n",
       "      <th>50%</th>\n",
       "      <td>26.00000</td>\n",
       "      <td>26.000000</td>\n",
       "      <td>17.400000</td>\n",
       "      <td>-1.500000</td>\n",
       "      <td>7.200000</td>\n",
       "      <td>3.000000</td>\n",
       "    </tr>\n",
       "    <tr>\n",
       "      <th>75%</th>\n",
       "      <td>26.50000</td>\n",
       "      <td>28.000000</td>\n",
       "      <td>30.600000</td>\n",
       "      <td>3.000000</td>\n",
       "      <td>12.100000</td>\n",
       "      <td>4.000000</td>\n",
       "    </tr>\n",
       "    <tr>\n",
       "      <th>max</th>\n",
       "      <td>32.00000</td>\n",
       "      <td>28.000000</td>\n",
       "      <td>35.900000</td>\n",
       "      <td>12.500000</td>\n",
       "      <td>21.200000</td>\n",
       "      <td>4.000000</td>\n",
       "    </tr>\n",
       "  </tbody>\n",
       "</table>\n",
       "</div>"
      ],
      "text/plain": [
       "           ValueRT       ValueST      ValueOAT   STDeviation  OATDeviation  \\\n",
       "count  12354.00000  12354.000000  12351.000000  12354.000000  12351.000000   \n",
       "mean      25.48883     25.387810     20.947462      0.101020      4.541244   \n",
       "std        1.98214      2.950158      9.596608      4.201209      8.513523   \n",
       "min       15.00000     19.000000      2.500000    -12.000000     -9.900000   \n",
       "25%       24.50000     24.000000     12.200000     -3.000000     -4.000000   \n",
       "50%       26.00000     26.000000     17.400000     -1.500000      7.200000   \n",
       "75%       26.50000     28.000000     30.600000      3.000000     12.100000   \n",
       "max       32.00000     28.000000     35.900000     12.500000     21.200000   \n",
       "\n",
       "             Season  \n",
       "count  12354.000000  \n",
       "mean       2.808888  \n",
       "std        1.103331  \n",
       "min        1.000000  \n",
       "25%        2.000000  \n",
       "50%        3.000000  \n",
       "75%        4.000000  \n",
       "max        4.000000  "
      ]
     },
     "execution_count": 48,
     "metadata": {},
     "output_type": "execute_result"
    }
   ],
   "source": [
    "df_ST= dataset[dataset['AnomalousST']==1]\n",
    "df_ST.describe()\n"
   ]
  },
  {
   "cell_type": "code",
   "execution_count": 41,
   "id": "9ad64f88",
   "metadata": {},
   "outputs": [
    {
     "data": {
      "text/plain": [
       "0    15731\n",
       "1     1227\n",
       "Name: AnomalousOAT, dtype: int64"
      ]
     },
     "execution_count": 41,
     "metadata": {},
     "output_type": "execute_result"
    }
   ],
   "source": [
    "dataset['AnomalousOAT'].value_counts()"
   ]
  },
  {
   "cell_type": "code",
   "execution_count": 42,
   "id": "a2704921",
   "metadata": {
    "scrolled": true
   },
   "outputs": [
    {
     "data": {
      "text/plain": [
       "2    9328\n",
       "1    7630\n",
       "Name: ValueOMS, dtype: int64"
      ]
     },
     "execution_count": 42,
     "metadata": {},
     "output_type": "execute_result"
    }
   ],
   "source": [
    "dataset['ValueOMS'].value_counts()"
   ]
  },
  {
   "cell_type": "code",
   "execution_count": 52,
   "id": "847379cb",
   "metadata": {},
   "outputs": [
    {
     "name": "stderr",
     "output_type": "stream",
     "text": [
      "<ipython-input-52-ea220e6b312d>:1: SettingWithCopyWarning: \n",
      "A value is trying to be set on a copy of a slice from a DataFrame.\n",
      "Try using .loc[row_indexer,col_indexer] = value instead\n",
      "\n",
      "See the caveats in the documentation: https://pandas.pydata.org/pandas-docs/stable/user_guide/indexing.html#returning-a-view-versus-a-copy\n",
      "  dataset['Season']=0\n",
      "<ipython-input-52-ea220e6b312d>:12: SettingWithCopyWarning: \n",
      "A value is trying to be set on a copy of a slice from a DataFrame.\n",
      "Try using .loc[row_indexer,col_indexer] = value instead\n",
      "\n",
      "See the caveats in the documentation: https://pandas.pydata.org/pandas-docs/stable/user_guide/indexing.html#returning-a-view-versus-a-copy\n",
      "  dataset['Season']=dataset.apply(lambda x: season_classification(x['Month']), axis=1)\n"
     ]
    }
   ],
   "source": [
    "dataset['Season']=0\n",
    "#season classification\n",
    "def season_classification(x): \n",
    "    if ((x==3) or x==4 or (x==5)): \n",
    "        return 1\n",
    "    if ((x==6) or x==7 or (x==8)): \n",
    "        return 2\n",
    "    if ((x==9) or (x==10) or (x==11)): \n",
    "        return 3\n",
    "    if ((x==12) or (x==1) or (x==2)): \n",
    "        return 4\n",
    "dataset['Season']=dataset.apply(lambda x: season_classification(x['Month']), axis=1)"
   ]
  },
  {
   "cell_type": "code",
   "execution_count": 53,
   "id": "6d7fe395",
   "metadata": {},
   "outputs": [
    {
     "data": {
      "text/plain": [
       "4    7090\n",
       "2    5468\n",
       "1    2438\n",
       "3    1962\n",
       "Name: Season, dtype: int64"
      ]
     },
     "execution_count": 53,
     "metadata": {},
     "output_type": "execute_result"
    }
   ],
   "source": [
    "dataset['Season'].value_counts()"
   ]
  },
  {
   "cell_type": "code",
   "execution_count": 54,
   "id": "91b76c23",
   "metadata": {},
   "outputs": [
    {
     "name": "stderr",
     "output_type": "stream",
     "text": [
      "D:\\Anaconda3\\lib\\site-packages\\pandas\\core\\frame.py:3191: SettingWithCopyWarning: \n",
      "A value is trying to be set on a copy of a slice from a DataFrame.\n",
      "Try using .loc[row_indexer,col_indexer] = value instead\n",
      "\n",
      "See the caveats in the documentation: https://pandas.pydata.org/pandas-docs/stable/user_guide/indexing.html#returning-a-view-versus-a-copy\n",
      "  self[k1] = value[k2]\n"
     ]
    }
   ],
   "source": [
    "dataset[['ValueOMS', 'ValueOOS','AnomalousST', 'AnomalousOAT', 'HourofDay', 'Month', 'Year', 'DayofWeek']]=dataset[['ValueOMS', 'ValueOOS','AnomalousST', 'AnomalousOAT', 'HourofDay', 'Month', 'Year', 'DayofWeek']].astype(float)"
   ]
  },
  {
   "cell_type": "code",
   "execution_count": 55,
   "id": "1bbdb94e",
   "metadata": {},
   "outputs": [
    {
     "data": {
      "text/plain": [
       "TimeOMS         datetime64[ns]\n",
       "ValueOMS               float64\n",
       "ValueOOS               float64\n",
       "ValueRT                float64\n",
       "ValueST                float64\n",
       "ValueOAT               float64\n",
       "AnomalousST            float64\n",
       "STDeviation            float64\n",
       "AnomalousOAT           float64\n",
       "OATDeviation           float64\n",
       "ValueOAH               float64\n",
       "HourofDay              float64\n",
       "Month                  float64\n",
       "Year                   float64\n",
       "DayofWeek              float64\n",
       "Season                   int64\n",
       "dtype: object"
      ]
     },
     "execution_count": 55,
     "metadata": {},
     "output_type": "execute_result"
    }
   ],
   "source": [
    "dataset.dtypes"
   ]
  },
  {
   "cell_type": "code",
   "execution_count": 56,
   "id": "facd89fc",
   "metadata": {},
   "outputs": [],
   "source": [
    "dataset.to_csv('final_ds.csv', index=False)"
   ]
  }
 ],
 "metadata": {
  "kernelspec": {
   "display_name": "Python 3",
   "language": "python",
   "name": "python3"
  },
  "language_info": {
   "codemirror_mode": {
    "name": "ipython",
    "version": 3
   },
   "file_extension": ".py",
   "mimetype": "text/x-python",
   "name": "python",
   "nbconvert_exporter": "python",
   "pygments_lexer": "ipython3",
   "version": "3.8.8"
  }
 },
 "nbformat": 4,
 "nbformat_minor": 5
}
